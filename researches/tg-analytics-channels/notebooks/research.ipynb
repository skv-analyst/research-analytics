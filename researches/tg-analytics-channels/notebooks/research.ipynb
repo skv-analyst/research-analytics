{
 "cells": [
  {
   "metadata": {
    "ExecuteTime": {
     "end_time": "2025-09-20T10:52:21.396712Z",
     "start_time": "2025-09-20T10:52:21.393679Z"
    }
   },
   "cell_type": "code",
   "source": [
    "import sqlite3\n",
    "import pandas as pd\n",
    "import numpy as np\n",
    "import plotly.express as px\n",
    "import plotly.graph_objects as go\n",
    "from plotly.subplots import make_subplots\n",
    "import plotly.io as pio"
   ],
   "id": "4a0c59554dcd88fe",
   "outputs": [],
   "execution_count": 39
  },
  {
   "metadata": {},
   "cell_type": "code",
   "outputs": [],
   "execution_count": null,
   "source": "",
   "id": "77a212a524d34f2e"
  },
  {
   "metadata": {},
   "cell_type": "markdown",
   "source": "## Каналы-комментаторы",
   "id": "13f4c567c8c216b7"
  },
  {
   "metadata": {
    "SqlCellData": {
     "data_source_name": "tg_analytics_channels",
     "variableName$1": "df_comments"
    },
    "ExecuteTime": {
     "end_time": "2025-09-20T10:31:37.381657Z",
     "start_time": "2025-09-20T10:31:30.609242Z"
    }
   },
   "cell_type": "code",
   "source": [
    "%%sql\n",
    "select\n",
    "    channels.channel_id,\n",
    "    channels.channel_name,\n",
    "    channels.subscribers,\n",
    "    case\n",
    "        when subscribers < 100 then 'lover_small'\n",
    "        when subscribers < 500 then 'upper_small'\n",
    "        when subscribers < 2000 then 'lower_medium'\n",
    "        when subscribers < 10000 then 'upper_medium'\n",
    "        else 'large'\n",
    "    end as channel_segment,\n",
    "\n",
    "    comments.post_id,\n",
    "    comments.comment_date,\n",
    "    comments.author_uuid,\n",
    "    comments.author_username,\n",
    "    comments.author_title,\n",
    "    case\n",
    "        when comments.author_username = 'user' then 'user'\n",
    "        else 'channel'\n",
    "    end as author_type,\n",
    "    case\n",
    "        when channels.channel_name = comments.author_username then true\n",
    "        else false\n",
    "    end as is_internal,\n",
    "\n",
    "    posts.post_date,\n",
    "    strftime('%s', comments.comment_date) - strftime('%s', posts.post_date) as time_to_comment_sec\n",
    "\n",
    "from comments\n",
    "left join channels on comments.channel_id=channels.channel_id\n",
    "left join posts on comments.channel_id=posts.channel_id and comments.post_id=posts.post_id\n"
   ],
   "id": "774545cc81f638f5",
   "outputs": [
    {
     "data": {
      "text/plain": [
       "       channel_id     channel_name  subscribers channel_segment  post_id  \\\n",
       "0      1542820616   tagir_analyzes        10564           large      341   \n",
       "1      1542820616   tagir_analyzes        10564           large      341   \n",
       "2      1542820616   tagir_analyzes        10564           large      341   \n",
       "3      1542820616   tagir_analyzes        10564           large      341   \n",
       "4      1542820616   tagir_analyzes        10564           large      341   \n",
       "...           ...              ...          ...             ...      ...   \n",
       "71573  2351303932      Ai_bolno_ml          675    lower_medium       38   \n",
       "71574  2351303932      Ai_bolno_ml          675    lower_medium       40   \n",
       "71575  2351303932      Ai_bolno_ml          675    lower_medium       40   \n",
       "71576  1996608001  Vkatysh_s_nulya         1266    lower_medium      117   \n",
       "71577  1996608001  Vkatysh_s_nulya         1266    lower_medium      117   \n",
       "\n",
       "                     comment_date                           author_uuid  \\\n",
       "0      2025-09-05 07:00:33.000000  490128b8-36c5-5539-94fa-6edd4d20fc16   \n",
       "1      2025-09-04 19:14:39.000000  bdb4cafa-9e2a-5a04-ae3e-2c4b284a45d5   \n",
       "2      2025-09-04 19:13:08.000000  bdb4cafa-9e2a-5a04-ae3e-2c4b284a45d5   \n",
       "3      2025-09-04 18:22:28.000000  23abbd2e-5416-552c-aedb-738430bf0c48   \n",
       "4      2025-09-04 09:30:32.000000  408e9ba0-56a4-5fbe-bfd7-93e6edb952c5   \n",
       "...                           ...                                   ...   \n",
       "71573  2025-06-29 14:59:53.000000  4f970b83-4471-59c3-8f4a-a1508ab71c51   \n",
       "71574  2025-07-02 16:27:52.000000  c2fbf2ba-0097-5357-b84a-e60b4674bebd   \n",
       "71575  2025-07-02 10:43:48.000000  56ccd771-b59a-583d-bd84-41e49666168f   \n",
       "71576  2025-09-06 09:18:32.000000  a87e61d7-8bf2-5423-b435-f0aaac70dde6   \n",
       "71577  2025-09-05 18:10:42.000000  e99425d2-7753-5667-91eb-fc79ae6d09f5   \n",
       "\n",
       "      author_username                        author_title author_type  \\\n",
       "0                user                                user        user   \n",
       "1                user                                user        user   \n",
       "2                user                                user        user   \n",
       "3                user                                user        user   \n",
       "4      tagir_analyzes                   Тагир Анализирует     channel   \n",
       "...               ...                                 ...         ...   \n",
       "71573            user                                user        user   \n",
       "71574      n_it_girls            N айтишниц заходят в бар     channel   \n",
       "71575            user                                user        user   \n",
       "71576      dima_sqlit  Дима SQL-ит 🧑‍💻 (Аналитика данных)     channel   \n",
       "71577            user                                user        user   \n",
       "\n",
       "       is_internal                   post_date  time_to_comment_sec  \n",
       "0                0  2025-09-03 17:15:05.000000               135928  \n",
       "1                0  2025-09-03 17:15:05.000000                93574  \n",
       "2                0  2025-09-03 17:15:05.000000                93483  \n",
       "3                0  2025-09-03 17:15:05.000000                90443  \n",
       "4                1  2025-09-03 17:15:05.000000                58527  \n",
       "...            ...                         ...                  ...  \n",
       "71573            0  2025-06-29 13:21:01.000000                 5932  \n",
       "71574            0  2025-07-02 08:39:17.000000                28115  \n",
       "71575            0  2025-07-02 08:39:17.000000                 7471  \n",
       "71576            0  2025-09-05 07:04:02.000000                94470  \n",
       "71577            0  2025-09-05 07:04:02.000000                40000  \n",
       "\n",
       "[71578 rows x 13 columns]"
      ],
      "text/html": [
       "<div>\n",
       "<style scoped>\n",
       "    .dataframe tbody tr th:only-of-type {\n",
       "        vertical-align: middle;\n",
       "    }\n",
       "\n",
       "    .dataframe tbody tr th {\n",
       "        vertical-align: top;\n",
       "    }\n",
       "\n",
       "    .dataframe thead th {\n",
       "        text-align: right;\n",
       "    }\n",
       "</style>\n",
       "<table border=\"1\" class=\"dataframe\">\n",
       "  <thead>\n",
       "    <tr style=\"text-align: right;\">\n",
       "      <th></th>\n",
       "      <th>channel_id</th>\n",
       "      <th>channel_name</th>\n",
       "      <th>subscribers</th>\n",
       "      <th>channel_segment</th>\n",
       "      <th>post_id</th>\n",
       "      <th>comment_date</th>\n",
       "      <th>author_uuid</th>\n",
       "      <th>author_username</th>\n",
       "      <th>author_title</th>\n",
       "      <th>author_type</th>\n",
       "      <th>is_internal</th>\n",
       "      <th>post_date</th>\n",
       "      <th>time_to_comment_sec</th>\n",
       "    </tr>\n",
       "  </thead>\n",
       "  <tbody>\n",
       "    <tr>\n",
       "      <th>0</th>\n",
       "      <td>1542820616</td>\n",
       "      <td>tagir_analyzes</td>\n",
       "      <td>10564</td>\n",
       "      <td>large</td>\n",
       "      <td>341</td>\n",
       "      <td>2025-09-05 07:00:33.000000</td>\n",
       "      <td>490128b8-36c5-5539-94fa-6edd4d20fc16</td>\n",
       "      <td>user</td>\n",
       "      <td>user</td>\n",
       "      <td>user</td>\n",
       "      <td>0</td>\n",
       "      <td>2025-09-03 17:15:05.000000</td>\n",
       "      <td>135928</td>\n",
       "    </tr>\n",
       "    <tr>\n",
       "      <th>1</th>\n",
       "      <td>1542820616</td>\n",
       "      <td>tagir_analyzes</td>\n",
       "      <td>10564</td>\n",
       "      <td>large</td>\n",
       "      <td>341</td>\n",
       "      <td>2025-09-04 19:14:39.000000</td>\n",
       "      <td>bdb4cafa-9e2a-5a04-ae3e-2c4b284a45d5</td>\n",
       "      <td>user</td>\n",
       "      <td>user</td>\n",
       "      <td>user</td>\n",
       "      <td>0</td>\n",
       "      <td>2025-09-03 17:15:05.000000</td>\n",
       "      <td>93574</td>\n",
       "    </tr>\n",
       "    <tr>\n",
       "      <th>2</th>\n",
       "      <td>1542820616</td>\n",
       "      <td>tagir_analyzes</td>\n",
       "      <td>10564</td>\n",
       "      <td>large</td>\n",
       "      <td>341</td>\n",
       "      <td>2025-09-04 19:13:08.000000</td>\n",
       "      <td>bdb4cafa-9e2a-5a04-ae3e-2c4b284a45d5</td>\n",
       "      <td>user</td>\n",
       "      <td>user</td>\n",
       "      <td>user</td>\n",
       "      <td>0</td>\n",
       "      <td>2025-09-03 17:15:05.000000</td>\n",
       "      <td>93483</td>\n",
       "    </tr>\n",
       "    <tr>\n",
       "      <th>3</th>\n",
       "      <td>1542820616</td>\n",
       "      <td>tagir_analyzes</td>\n",
       "      <td>10564</td>\n",
       "      <td>large</td>\n",
       "      <td>341</td>\n",
       "      <td>2025-09-04 18:22:28.000000</td>\n",
       "      <td>23abbd2e-5416-552c-aedb-738430bf0c48</td>\n",
       "      <td>user</td>\n",
       "      <td>user</td>\n",
       "      <td>user</td>\n",
       "      <td>0</td>\n",
       "      <td>2025-09-03 17:15:05.000000</td>\n",
       "      <td>90443</td>\n",
       "    </tr>\n",
       "    <tr>\n",
       "      <th>4</th>\n",
       "      <td>1542820616</td>\n",
       "      <td>tagir_analyzes</td>\n",
       "      <td>10564</td>\n",
       "      <td>large</td>\n",
       "      <td>341</td>\n",
       "      <td>2025-09-04 09:30:32.000000</td>\n",
       "      <td>408e9ba0-56a4-5fbe-bfd7-93e6edb952c5</td>\n",
       "      <td>tagir_analyzes</td>\n",
       "      <td>Тагир Анализирует</td>\n",
       "      <td>channel</td>\n",
       "      <td>1</td>\n",
       "      <td>2025-09-03 17:15:05.000000</td>\n",
       "      <td>58527</td>\n",
       "    </tr>\n",
       "    <tr>\n",
       "      <th>...</th>\n",
       "      <td>...</td>\n",
       "      <td>...</td>\n",
       "      <td>...</td>\n",
       "      <td>...</td>\n",
       "      <td>...</td>\n",
       "      <td>...</td>\n",
       "      <td>...</td>\n",
       "      <td>...</td>\n",
       "      <td>...</td>\n",
       "      <td>...</td>\n",
       "      <td>...</td>\n",
       "      <td>...</td>\n",
       "      <td>...</td>\n",
       "    </tr>\n",
       "    <tr>\n",
       "      <th>71573</th>\n",
       "      <td>2351303932</td>\n",
       "      <td>Ai_bolno_ml</td>\n",
       "      <td>675</td>\n",
       "      <td>lower_medium</td>\n",
       "      <td>38</td>\n",
       "      <td>2025-06-29 14:59:53.000000</td>\n",
       "      <td>4f970b83-4471-59c3-8f4a-a1508ab71c51</td>\n",
       "      <td>user</td>\n",
       "      <td>user</td>\n",
       "      <td>user</td>\n",
       "      <td>0</td>\n",
       "      <td>2025-06-29 13:21:01.000000</td>\n",
       "      <td>5932</td>\n",
       "    </tr>\n",
       "    <tr>\n",
       "      <th>71574</th>\n",
       "      <td>2351303932</td>\n",
       "      <td>Ai_bolno_ml</td>\n",
       "      <td>675</td>\n",
       "      <td>lower_medium</td>\n",
       "      <td>40</td>\n",
       "      <td>2025-07-02 16:27:52.000000</td>\n",
       "      <td>c2fbf2ba-0097-5357-b84a-e60b4674bebd</td>\n",
       "      <td>n_it_girls</td>\n",
       "      <td>N айтишниц заходят в бар</td>\n",
       "      <td>channel</td>\n",
       "      <td>0</td>\n",
       "      <td>2025-07-02 08:39:17.000000</td>\n",
       "      <td>28115</td>\n",
       "    </tr>\n",
       "    <tr>\n",
       "      <th>71575</th>\n",
       "      <td>2351303932</td>\n",
       "      <td>Ai_bolno_ml</td>\n",
       "      <td>675</td>\n",
       "      <td>lower_medium</td>\n",
       "      <td>40</td>\n",
       "      <td>2025-07-02 10:43:48.000000</td>\n",
       "      <td>56ccd771-b59a-583d-bd84-41e49666168f</td>\n",
       "      <td>user</td>\n",
       "      <td>user</td>\n",
       "      <td>user</td>\n",
       "      <td>0</td>\n",
       "      <td>2025-07-02 08:39:17.000000</td>\n",
       "      <td>7471</td>\n",
       "    </tr>\n",
       "    <tr>\n",
       "      <th>71576</th>\n",
       "      <td>1996608001</td>\n",
       "      <td>Vkatysh_s_nulya</td>\n",
       "      <td>1266</td>\n",
       "      <td>lower_medium</td>\n",
       "      <td>117</td>\n",
       "      <td>2025-09-06 09:18:32.000000</td>\n",
       "      <td>a87e61d7-8bf2-5423-b435-f0aaac70dde6</td>\n",
       "      <td>dima_sqlit</td>\n",
       "      <td>Дима SQL-ит 🧑‍💻 (Аналитика данных)</td>\n",
       "      <td>channel</td>\n",
       "      <td>0</td>\n",
       "      <td>2025-09-05 07:04:02.000000</td>\n",
       "      <td>94470</td>\n",
       "    </tr>\n",
       "    <tr>\n",
       "      <th>71577</th>\n",
       "      <td>1996608001</td>\n",
       "      <td>Vkatysh_s_nulya</td>\n",
       "      <td>1266</td>\n",
       "      <td>lower_medium</td>\n",
       "      <td>117</td>\n",
       "      <td>2025-09-05 18:10:42.000000</td>\n",
       "      <td>e99425d2-7753-5667-91eb-fc79ae6d09f5</td>\n",
       "      <td>user</td>\n",
       "      <td>user</td>\n",
       "      <td>user</td>\n",
       "      <td>0</td>\n",
       "      <td>2025-09-05 07:04:02.000000</td>\n",
       "      <td>40000</td>\n",
       "    </tr>\n",
       "  </tbody>\n",
       "</table>\n",
       "<p>71578 rows × 13 columns</p>\n",
       "</div>"
      ]
     },
     "execution_count": 2,
     "metadata": {},
     "output_type": "execute_result"
    }
   ],
   "execution_count": 2
  },
  {
   "metadata": {
    "ExecuteTime": {
     "end_time": "2025-09-20T10:31:37.530522Z",
     "start_time": "2025-09-20T10:31:37.507892Z"
    }
   },
   "cell_type": "code",
   "source": [
    "df_comments[\"comment_date\"] = pd.to_datetime(df_comments[\"comment_date\"])\n",
    "df_comments.sort_values(by=\"comment_date\", inplace=True)"
   ],
   "id": "8658971a6f0e85d0",
   "outputs": [],
   "execution_count": 3
  },
  {
   "metadata": {
    "ExecuteTime": {
     "end_time": "2025-09-20T10:31:37.567913Z",
     "start_time": "2025-09-20T10:31:37.546839Z"
    }
   },
   "cell_type": "code",
   "source": [
    "df_external = df_comments.query(\"is_internal == 0\").copy()\n",
    "df_external.reset_index(drop=True, inplace=True)\n",
    "\n",
    "(df_external\n",
    " .groupby(\"author_type\")\n",
    "    .agg(count=(\"author_uuid\", \"count\"))\n",
    "    .assign(percent=lambda x: (x[\"count\"] / x[\"count\"].sum() * 100).round(2))\n",
    " )"
   ],
   "id": "cfcd59f6494eef97",
   "outputs": [
    {
     "data": {
      "text/plain": [
       "             count  percent\n",
       "author_type                \n",
       "channel      17281    29.22\n",
       "user         41861    70.78"
      ],
      "text/html": [
       "<div>\n",
       "<style scoped>\n",
       "    .dataframe tbody tr th:only-of-type {\n",
       "        vertical-align: middle;\n",
       "    }\n",
       "\n",
       "    .dataframe tbody tr th {\n",
       "        vertical-align: top;\n",
       "    }\n",
       "\n",
       "    .dataframe thead th {\n",
       "        text-align: right;\n",
       "    }\n",
       "</style>\n",
       "<table border=\"1\" class=\"dataframe\">\n",
       "  <thead>\n",
       "    <tr style=\"text-align: right;\">\n",
       "      <th></th>\n",
       "      <th>count</th>\n",
       "      <th>percent</th>\n",
       "    </tr>\n",
       "    <tr>\n",
       "      <th>author_type</th>\n",
       "      <th></th>\n",
       "      <th></th>\n",
       "    </tr>\n",
       "  </thead>\n",
       "  <tbody>\n",
       "    <tr>\n",
       "      <th>channel</th>\n",
       "      <td>17281</td>\n",
       "      <td>29.22</td>\n",
       "    </tr>\n",
       "    <tr>\n",
       "      <th>user</th>\n",
       "      <td>41861</td>\n",
       "      <td>70.78</td>\n",
       "    </tr>\n",
       "  </tbody>\n",
       "</table>\n",
       "</div>"
      ]
     },
     "execution_count": 4,
     "metadata": {},
     "output_type": "execute_result"
    }
   ],
   "execution_count": 4
  },
  {
   "metadata": {
    "ExecuteTime": {
     "end_time": "2025-09-20T10:31:38.174244Z",
     "start_time": "2025-09-20T10:31:37.714641Z"
    }
   },
   "cell_type": "code",
   "source": [
    "df_external_agg = (df_external\n",
    "                   .query(\"author_type == 'channel'\")\n",
    "                   .groupby([\"author_type\", \"author_title\"])\n",
    "                    .agg(\n",
    "                        comments_count=(\"author_type\", \"count\"),\n",
    "                        time_to_comment_mean=(\"time_to_comment_sec\",\"mean\"),\n",
    "                        lover_small=(\"channel_id\", lambda x: x[df_external.loc[x.index, \"channel_segment\"]==\"lover_small\"].nunique()),\n",
    "                        upper_small=(\"channel_id\", lambda x: x[df_external.loc[x.index, \"channel_segment\"]==\"upper_small\"].nunique()),\n",
    "                        lower_medium=(\"channel_id\", lambda x: x[df_external.loc[x.index, \"channel_segment\"]==\"lower_medium\"].nunique()),\n",
    "                        upper_medium=(\"channel_id\", lambda x: x[df_external.loc[x.index, \"channel_segment\"]==\"upper_medium\"].nunique()),\n",
    "                        large=(\"channel_id\", lambda x: x[df_external.loc[x.index, \"channel_segment\"]==\"large\"].nunique()),\n",
    "                        top_segment_by_comments=(\"channel_segment\", lambda x: x.value_counts().idxmax())\n",
    "                    )\n",
    "                    .assign(\n",
    "                        comments_percent=lambda x: (x[\"comments_count\"] / x[\"comments_count\"].sum() * 100).round(2),\n",
    "                        top_segment_by_comments_cnt=lambda x: x[\"top_segment_by_comments\"].map({\n",
    "                            \"lover_small\": \"1–100\",\n",
    "                            \"upper_small\": \"100–500\",\n",
    "                            \"lower_medium\": \"500–2000\",\n",
    "                            \"upper_medium\": \"2000–10000\",\n",
    "                            \"large\": \"10000+\"}),\n",
    "                        color_label=lambda x: pd.cut(\n",
    "                            x[\"comments_percent\"],\n",
    "                            bins=[-1, 1, 5, 10, 100],   # интервалы: 0–1%, 1–5%, 5–10%, >10%\n",
    "                            labels=[\"<1%\", \"1–5%\", \"5–10%\", \"10%+\"])\n",
    "                    )\n",
    "                   .reset_index()\n",
    "                   )\n",
    "\n",
    "df_external_agg"
   ],
   "id": "cf77ae5b65440a1d",
   "outputs": [
    {
     "data": {
      "text/plain": [
       "    author_type                           author_title  comments_count  \\\n",
       "0       channel             (YaA) Yet another Analytic              20   \n",
       "1       channel    ... И ещё я побегал | Павел Потапов              15   \n",
       "2       channel                                .......               1   \n",
       "3       channel                                      1              26   \n",
       "4       channel                                     23               5   \n",
       "..          ...                                    ...             ...   \n",
       "652     channel  👨🏻‍💻Кобозев Дмитрий | Создание сайтов               1   \n",
       "653     channel         💚 Just Hope | О шитье и айти 💚               2   \n",
       "654     channel                               💥Злата☀️               1   \n",
       "655     channel                      💸Big Money Mommy💸               1   \n",
       "656     channel            🚀 Стартапы — это не страшно               2   \n",
       "\n",
       "     time_to_comment_mean  lover_small  upper_small  lower_medium  \\\n",
       "0             3192.450000            0            0             1   \n",
       "1            16783.266667            0            0             1   \n",
       "2             1212.000000            0            0             0   \n",
       "3            40205.076923            0            0             3   \n",
       "4           460735.000000            0            0             0   \n",
       "..                    ...          ...          ...           ...   \n",
       "652           2410.000000            0            0             0   \n",
       "653          87568.000000            0            0             1   \n",
       "654           9802.000000            0            0             0   \n",
       "655           1097.000000            0            0             0   \n",
       "656           4558.000000            0            0             0   \n",
       "\n",
       "     upper_medium  large top_segment_by_comments  comments_percent  \\\n",
       "0               0      0            lower_medium              0.12   \n",
       "1               1      0            lower_medium              0.09   \n",
       "2               0      1                   large              0.01   \n",
       "3               1      0            lower_medium              0.15   \n",
       "4               1      1                   large              0.03   \n",
       "..            ...    ...                     ...               ...   \n",
       "652             1      0            upper_medium              0.01   \n",
       "653             0      1            lower_medium              0.01   \n",
       "654             0      1                   large              0.01   \n",
       "655             1      0            upper_medium              0.01   \n",
       "656             1      1                   large              0.01   \n",
       "\n",
       "    top_segment_by_comments_cnt color_label  \n",
       "0                      500–2000         <1%  \n",
       "1                      500–2000         <1%  \n",
       "2                        10000+         <1%  \n",
       "3                      500–2000         <1%  \n",
       "4                        10000+         <1%  \n",
       "..                          ...         ...  \n",
       "652                  2000–10000         <1%  \n",
       "653                    500–2000         <1%  \n",
       "654                      10000+         <1%  \n",
       "655                  2000–10000         <1%  \n",
       "656                      10000+         <1%  \n",
       "\n",
       "[657 rows x 13 columns]"
      ],
      "text/html": [
       "<div>\n",
       "<style scoped>\n",
       "    .dataframe tbody tr th:only-of-type {\n",
       "        vertical-align: middle;\n",
       "    }\n",
       "\n",
       "    .dataframe tbody tr th {\n",
       "        vertical-align: top;\n",
       "    }\n",
       "\n",
       "    .dataframe thead th {\n",
       "        text-align: right;\n",
       "    }\n",
       "</style>\n",
       "<table border=\"1\" class=\"dataframe\">\n",
       "  <thead>\n",
       "    <tr style=\"text-align: right;\">\n",
       "      <th></th>\n",
       "      <th>author_type</th>\n",
       "      <th>author_title</th>\n",
       "      <th>comments_count</th>\n",
       "      <th>time_to_comment_mean</th>\n",
       "      <th>lover_small</th>\n",
       "      <th>upper_small</th>\n",
       "      <th>lower_medium</th>\n",
       "      <th>upper_medium</th>\n",
       "      <th>large</th>\n",
       "      <th>top_segment_by_comments</th>\n",
       "      <th>comments_percent</th>\n",
       "      <th>top_segment_by_comments_cnt</th>\n",
       "      <th>color_label</th>\n",
       "    </tr>\n",
       "  </thead>\n",
       "  <tbody>\n",
       "    <tr>\n",
       "      <th>0</th>\n",
       "      <td>channel</td>\n",
       "      <td>(YaA) Yet another Analytic</td>\n",
       "      <td>20</td>\n",
       "      <td>3192.450000</td>\n",
       "      <td>0</td>\n",
       "      <td>0</td>\n",
       "      <td>1</td>\n",
       "      <td>0</td>\n",
       "      <td>0</td>\n",
       "      <td>lower_medium</td>\n",
       "      <td>0.12</td>\n",
       "      <td>500–2000</td>\n",
       "      <td>&lt;1%</td>\n",
       "    </tr>\n",
       "    <tr>\n",
       "      <th>1</th>\n",
       "      <td>channel</td>\n",
       "      <td>... И ещё я побегал | Павел Потапов</td>\n",
       "      <td>15</td>\n",
       "      <td>16783.266667</td>\n",
       "      <td>0</td>\n",
       "      <td>0</td>\n",
       "      <td>1</td>\n",
       "      <td>1</td>\n",
       "      <td>0</td>\n",
       "      <td>lower_medium</td>\n",
       "      <td>0.09</td>\n",
       "      <td>500–2000</td>\n",
       "      <td>&lt;1%</td>\n",
       "    </tr>\n",
       "    <tr>\n",
       "      <th>2</th>\n",
       "      <td>channel</td>\n",
       "      <td>.......</td>\n",
       "      <td>1</td>\n",
       "      <td>1212.000000</td>\n",
       "      <td>0</td>\n",
       "      <td>0</td>\n",
       "      <td>0</td>\n",
       "      <td>0</td>\n",
       "      <td>1</td>\n",
       "      <td>large</td>\n",
       "      <td>0.01</td>\n",
       "      <td>10000+</td>\n",
       "      <td>&lt;1%</td>\n",
       "    </tr>\n",
       "    <tr>\n",
       "      <th>3</th>\n",
       "      <td>channel</td>\n",
       "      <td>1</td>\n",
       "      <td>26</td>\n",
       "      <td>40205.076923</td>\n",
       "      <td>0</td>\n",
       "      <td>0</td>\n",
       "      <td>3</td>\n",
       "      <td>1</td>\n",
       "      <td>0</td>\n",
       "      <td>lower_medium</td>\n",
       "      <td>0.15</td>\n",
       "      <td>500–2000</td>\n",
       "      <td>&lt;1%</td>\n",
       "    </tr>\n",
       "    <tr>\n",
       "      <th>4</th>\n",
       "      <td>channel</td>\n",
       "      <td>23</td>\n",
       "      <td>5</td>\n",
       "      <td>460735.000000</td>\n",
       "      <td>0</td>\n",
       "      <td>0</td>\n",
       "      <td>0</td>\n",
       "      <td>1</td>\n",
       "      <td>1</td>\n",
       "      <td>large</td>\n",
       "      <td>0.03</td>\n",
       "      <td>10000+</td>\n",
       "      <td>&lt;1%</td>\n",
       "    </tr>\n",
       "    <tr>\n",
       "      <th>...</th>\n",
       "      <td>...</td>\n",
       "      <td>...</td>\n",
       "      <td>...</td>\n",
       "      <td>...</td>\n",
       "      <td>...</td>\n",
       "      <td>...</td>\n",
       "      <td>...</td>\n",
       "      <td>...</td>\n",
       "      <td>...</td>\n",
       "      <td>...</td>\n",
       "      <td>...</td>\n",
       "      <td>...</td>\n",
       "      <td>...</td>\n",
       "    </tr>\n",
       "    <tr>\n",
       "      <th>652</th>\n",
       "      <td>channel</td>\n",
       "      <td>👨🏻‍💻Кобозев Дмитрий | Создание сайтов</td>\n",
       "      <td>1</td>\n",
       "      <td>2410.000000</td>\n",
       "      <td>0</td>\n",
       "      <td>0</td>\n",
       "      <td>0</td>\n",
       "      <td>1</td>\n",
       "      <td>0</td>\n",
       "      <td>upper_medium</td>\n",
       "      <td>0.01</td>\n",
       "      <td>2000–10000</td>\n",
       "      <td>&lt;1%</td>\n",
       "    </tr>\n",
       "    <tr>\n",
       "      <th>653</th>\n",
       "      <td>channel</td>\n",
       "      <td>💚 Just Hope | О шитье и айти 💚</td>\n",
       "      <td>2</td>\n",
       "      <td>87568.000000</td>\n",
       "      <td>0</td>\n",
       "      <td>0</td>\n",
       "      <td>1</td>\n",
       "      <td>0</td>\n",
       "      <td>1</td>\n",
       "      <td>lower_medium</td>\n",
       "      <td>0.01</td>\n",
       "      <td>500–2000</td>\n",
       "      <td>&lt;1%</td>\n",
       "    </tr>\n",
       "    <tr>\n",
       "      <th>654</th>\n",
       "      <td>channel</td>\n",
       "      <td>💥Злата☀️</td>\n",
       "      <td>1</td>\n",
       "      <td>9802.000000</td>\n",
       "      <td>0</td>\n",
       "      <td>0</td>\n",
       "      <td>0</td>\n",
       "      <td>0</td>\n",
       "      <td>1</td>\n",
       "      <td>large</td>\n",
       "      <td>0.01</td>\n",
       "      <td>10000+</td>\n",
       "      <td>&lt;1%</td>\n",
       "    </tr>\n",
       "    <tr>\n",
       "      <th>655</th>\n",
       "      <td>channel</td>\n",
       "      <td>💸Big Money Mommy💸</td>\n",
       "      <td>1</td>\n",
       "      <td>1097.000000</td>\n",
       "      <td>0</td>\n",
       "      <td>0</td>\n",
       "      <td>0</td>\n",
       "      <td>1</td>\n",
       "      <td>0</td>\n",
       "      <td>upper_medium</td>\n",
       "      <td>0.01</td>\n",
       "      <td>2000–10000</td>\n",
       "      <td>&lt;1%</td>\n",
       "    </tr>\n",
       "    <tr>\n",
       "      <th>656</th>\n",
       "      <td>channel</td>\n",
       "      <td>🚀 Стартапы — это не страшно</td>\n",
       "      <td>2</td>\n",
       "      <td>4558.000000</td>\n",
       "      <td>0</td>\n",
       "      <td>0</td>\n",
       "      <td>0</td>\n",
       "      <td>1</td>\n",
       "      <td>1</td>\n",
       "      <td>large</td>\n",
       "      <td>0.01</td>\n",
       "      <td>10000+</td>\n",
       "      <td>&lt;1%</td>\n",
       "    </tr>\n",
       "  </tbody>\n",
       "</table>\n",
       "<p>657 rows × 13 columns</p>\n",
       "</div>"
      ]
     },
     "execution_count": 5,
     "metadata": {},
     "output_type": "execute_result"
    }
   ],
   "execution_count": 5
  },
  {
   "metadata": {
    "ExecuteTime": {
     "end_time": "2025-09-20T10:31:40.099400Z",
     "start_time": "2025-09-20T10:31:40.095036Z"
    }
   },
   "cell_type": "code",
   "source": [
    "df_external_agg[\"label\"] = (\n",
    "        df_external_agg[\"author_title\"] + \"<br>\"\n",
    "        + \"- комментов: \" + df_external_agg[\"comments_count\"].astype(str) + \" (\" + df_external_agg[\"comments_percent\"].astype(str)  + \"%)\" + \"<br>\"\n",
    "        + \"- любимые каналы: \" + df_external_agg[\"top_segment_by_comments_cnt\"].astype(str)\n",
    ")"
   ],
   "id": "269d8691fced345f",
   "outputs": [],
   "execution_count": 6
  },
  {
   "metadata": {
    "ExecuteTime": {
     "end_time": "2025-09-20T10:59:52.915520Z",
     "start_time": "2025-09-20T10:59:49.284636Z"
    }
   },
   "cell_type": "code",
   "source": [
    "def show_treemap_with_legend(data, path):\n",
    "    fig = make_subplots(\n",
    "        rows=2, cols=1,\n",
    "        row_heights=[0.05, 0.95],\n",
    "        vertical_spacing=0.0,\n",
    "        specs=[[{\"type\": \"xy\"}], [{\"type\": \"treemap\"}]]\n",
    "    )\n",
    "\n",
    "    # Цвета и подписи для легенды\n",
    "    legend_colors = {\n",
    "        \"10%+\": \"#93360e\",\n",
    "        \"5–10%\": \"#5c5c34\",\n",
    "        \"1–5%\": \"#97864c\",\n",
    "        \"<1%\": \"#be8830\"\n",
    "    }\n",
    "\n",
    "    legend_labels = list(legend_colors.keys())\n",
    "    n = len(legend_labels)\n",
    "\n",
    "    for i, (label, color) in enumerate(legend_colors.items()):\n",
    "        # прямоугольник\n",
    "        fig.add_trace(go.Scatter(\n",
    "            x=[i, i + 1, i + 1, i, i],\n",
    "            y=[0, 0, 1, 1, 0],\n",
    "            fill=\"toself\",\n",
    "            fillcolor=color,\n",
    "            line=dict(color=color),\n",
    "            mode='lines',\n",
    "            showlegend=False\n",
    "        ), row=1, col=1)\n",
    "\n",
    "        # текст поверх прямоугольника\n",
    "        fig.add_trace(go.Scatter(\n",
    "            x=[i + 0.5],\n",
    "            y=[0.5],\n",
    "            mode='text',\n",
    "            text=f\"Доля комментариев {label}\",\n",
    "            textfont=dict(size=14, color=\"white\"),\n",
    "            showlegend=False\n",
    "        ), row=1, col=1)\n",
    "\n",
    "    # основной treemap\n",
    "    treemap_fig = px.treemap(\n",
    "        data,\n",
    "        path=path,\n",
    "        values=\"comments_count\",\n",
    "        color=\"color_label\",\n",
    "        color_discrete_map=legend_colors\n",
    "    )\n",
    "\n",
    "    for trace in treemap_fig.data:\n",
    "        fig.add_trace(trace, row=2, col=1)\n",
    "\n",
    "    fig.update_layout(\n",
    "        width=1080,\n",
    "        height=1080,\n",
    "        margin=dict(t=20, b=20, l=20, r=20),\n",
    "        xaxis=dict(showgrid=False, zeroline=False, showticklabels=False, range=[0, n]),\n",
    "        yaxis=dict(showgrid=False, zeroline=False, showticklabels=False, range=[0, 1]),\n",
    "        plot_bgcolor='white',\n",
    "        paper_bgcolor='white'\n",
    "    )\n",
    "\n",
    "    fig.update_traces(textfont=dict(size=16, color=\"white\"), selector=dict(type='treemap'))\n",
    "    fig.show()\n",
    "\n",
    "    pio.write_image(\n",
    "        fig,\n",
    "        \"treemap.png\",\n",
    "        scale=10,\n",
    "        width=1080, height=1080\n",
    "    )\n",
    "\n",
    "show_treemap_with_legend(data=df_external_agg, path=[\"label\"])"
   ],
   "id": "8c60d591b04e49b4",
   "outputs": [
    {
     "data": {
      "application/vnd.plotly.v1+json": {
       "data": [
        {
         "fill": "toself",
         "fillcolor": "#93360e",
         "line": {
          "color": "#93360e"
         },
         "mode": "lines",
         "showlegend": false,
         "x": [
          0,
          1,
          1,
          0,
          0
         ],
         "y": [
          0,
          0,
          1,
          1,
          0
         ],
         "type": "scatter",
         "xaxis": "x",
         "yaxis": "y"
        },
        {
         "mode": "text",
         "showlegend": false,
         "text": "Доля комментариев 10%+",
         "textfont": {
          "color": "white",
          "size": 14
         },
         "x": [
          0.5
         ],
         "y": [
          0.5
         ],
         "type": "scatter",
         "xaxis": "x",
         "yaxis": "y"
        },
        {
         "fill": "toself",
         "fillcolor": "#5c5c34",
         "line": {
          "color": "#5c5c34"
         },
         "mode": "lines",
         "showlegend": false,
         "x": [
          1,
          2,
          2,
          1,
          1
         ],
         "y": [
          0,
          0,
          1,
          1,
          0
         ],
         "type": "scatter",
         "xaxis": "x",
         "yaxis": "y"
        },
        {
         "mode": "text",
         "showlegend": false,
         "text": "Доля комментариев 5–10%",
         "textfont": {
          "color": "white",
          "size": 14
         },
         "x": [
          1.5
         ],
         "y": [
          0.5
         ],
         "type": "scatter",
         "xaxis": "x",
         "yaxis": "y"
        },
        {
         "fill": "toself",
         "fillcolor": "#97864c",
         "line": {
          "color": "#97864c"
         },
         "mode": "lines",
         "showlegend": false,
         "x": [
          2,
          3,
          3,
          2,
          2
         ],
         "y": [
          0,
          0,
          1,
          1,
          0
         ],
         "type": "scatter",
         "xaxis": "x",
         "yaxis": "y"
        },
        {
         "mode": "text",
         "showlegend": false,
         "text": "Доля комментариев 1–5%",
         "textfont": {
          "color": "white",
          "size": 14
         },
         "x": [
          2.5
         ],
         "y": [
          0.5
         ],
         "type": "scatter",
         "xaxis": "x",
         "yaxis": "y"
        },
        {
         "fill": "toself",
         "fillcolor": "#be8830",
         "line": {
          "color": "#be8830"
         },
         "mode": "lines",
         "showlegend": false,
         "x": [
          3,
          4,
          4,
          3,
          3
         ],
         "y": [
          0,
          0,
          1,
          1,
          0
         ],
         "type": "scatter",
         "xaxis": "x",
         "yaxis": "y"
        },
        {
         "mode": "text",
         "showlegend": false,
         "text": "Доля комментариев <1%",
         "textfont": {
          "color": "white",
          "size": 14
         },
         "x": [
          3.5
         ],
         "y": [
          0.5
         ],
         "type": "scatter",
         "xaxis": "x",
         "yaxis": "y"
        },
        {
         "branchvalues": "total",
         "customdata": [
          [
           "10%+"
          ],
          [
           "1–5%"
          ],
          [
           "1–5%"
          ],
          [
           "1–5%"
          ],
          [
           "1–5%"
          ],
          [
           "1–5%"
          ],
          [
           "1–5%"
          ],
          [
           "1–5%"
          ],
          [
           "1–5%"
          ],
          [
           "1–5%"
          ],
          [
           "1–5%"
          ],
          [
           "1–5%"
          ],
          [
           "1–5%"
          ],
          [
           "1–5%"
          ],
          [
           "1–5%"
          ],
          [
           "1–5%"
          ],
          [
           "1–5%"
          ],
          [
           "1–5%"
          ],
          [
           "5–10%"
          ],
          [
           "5–10%"
          ],
          [
           "<1%"
          ],
          [
           "<1%"
          ],
          [
           "<1%"
          ],
          [
           "<1%"
          ],
          [
           "<1%"
          ],
          [
           "<1%"
          ],
          [
           "<1%"
          ],
          [
           "<1%"
          ],
          [
           "<1%"
          ],
          [
           "<1%"
          ],
          [
           "<1%"
          ],
          [
           "<1%"
          ],
          [
           "<1%"
          ],
          [
           "<1%"
          ],
          [
           "<1%"
          ],
          [
           "<1%"
          ],
          [
           "<1%"
          ],
          [
           "<1%"
          ],
          [
           "<1%"
          ],
          [
           "<1%"
          ],
          [
           "<1%"
          ],
          [
           "<1%"
          ],
          [
           "<1%"
          ],
          [
           "<1%"
          ],
          [
           "<1%"
          ],
          [
           "<1%"
          ],
          [
           "<1%"
          ],
          [
           "<1%"
          ],
          [
           "<1%"
          ],
          [
           "<1%"
          ],
          [
           "<1%"
          ],
          [
           "<1%"
          ],
          [
           "<1%"
          ],
          [
           "<1%"
          ],
          [
           "<1%"
          ],
          [
           "<1%"
          ],
          [
           "<1%"
          ],
          [
           "<1%"
          ],
          [
           "<1%"
          ],
          [
           "<1%"
          ],
          [
           "<1%"
          ],
          [
           "<1%"
          ],
          [
           "<1%"
          ],
          [
           "<1%"
          ],
          [
           "<1%"
          ],
          [
           "<1%"
          ],
          [
           "<1%"
          ],
          [
           "<1%"
          ],
          [
           "<1%"
          ],
          [
           "<1%"
          ],
          [
           "<1%"
          ],
          [
           "<1%"
          ],
          [
           "<1%"
          ],
          [
           "<1%"
          ],
          [
           "<1%"
          ],
          [
           "<1%"
          ],
          [
           "<1%"
          ],
          [
           "<1%"
          ],
          [
           "<1%"
          ],
          [
           "<1%"
          ],
          [
           "<1%"
          ],
          [
           "<1%"
          ],
          [
           "<1%"
          ],
          [
           "<1%"
          ],
          [
           "<1%"
          ],
          [
           "<1%"
          ],
          [
           "<1%"
          ],
          [
           "<1%"
          ],
          [
           "<1%"
          ],
          [
           "<1%"
          ],
          [
           "<1%"
          ],
          [
           "<1%"
          ],
          [
           "<1%"
          ],
          [
           "<1%"
          ],
          [
           "<1%"
          ],
          [
           "<1%"
          ],
          [
           "<1%"
          ],
          [
           "<1%"
          ],
          [
           "<1%"
          ],
          [
           "<1%"
          ],
          [
           "<1%"
          ],
          [
           "<1%"
          ],
          [
           "<1%"
          ],
          [
           "<1%"
          ],
          [
           "<1%"
          ],
          [
           "<1%"
          ],
          [
           "<1%"
          ],
          [
           "<1%"
          ],
          [
           "<1%"
          ],
          [
           "<1%"
          ],
          [
           "<1%"
          ],
          [
           "<1%"
          ],
          [
           "<1%"
          ],
          [
           "<1%"
          ],
          [
           "<1%"
          ],
          [
           "<1%"
          ],
          [
           "<1%"
          ],
          [
           "<1%"
          ],
          [
           "<1%"
          ],
          [
           "<1%"
          ],
          [
           "<1%"
          ],
          [
           "<1%"
          ],
          [
           "<1%"
          ],
          [
           "<1%"
          ],
          [
           "<1%"
          ],
          [
           "<1%"
          ],
          [
           "<1%"
          ],
          [
           "<1%"
          ],
          [
           "<1%"
          ],
          [
           "<1%"
          ],
          [
           "<1%"
          ],
          [
           "<1%"
          ],
          [
           "<1%"
          ],
          [
           "<1%"
          ],
          [
           "<1%"
          ],
          [
           "<1%"
          ],
          [
           "<1%"
          ],
          [
           "<1%"
          ],
          [
           "<1%"
          ],
          [
           "<1%"
          ],
          [
           "<1%"
          ],
          [
           "<1%"
          ],
          [
           "<1%"
          ],
          [
           "<1%"
          ],
          [
           "<1%"
          ],
          [
           "<1%"
          ],
          [
           "<1%"
          ],
          [
           "<1%"
          ],
          [
           "<1%"
          ],
          [
           "<1%"
          ],
          [
           "<1%"
          ],
          [
           "<1%"
          ],
          [
           "<1%"
          ],
          [
           "<1%"
          ],
          [
           "<1%"
          ],
          [
           "<1%"
          ],
          [
           "<1%"
          ],
          [
           "<1%"
          ],
          [
           "<1%"
          ],
          [
           "<1%"
          ],
          [
           "<1%"
          ],
          [
           "<1%"
          ],
          [
           "<1%"
          ],
          [
           "<1%"
          ],
          [
           "<1%"
          ],
          [
           "<1%"
          ],
          [
           "<1%"
          ],
          [
           "<1%"
          ],
          [
           "<1%"
          ],
          [
           "<1%"
          ],
          [
           "<1%"
          ],
          [
           "<1%"
          ],
          [
           "<1%"
          ],
          [
           "<1%"
          ],
          [
           "<1%"
          ],
          [
           "<1%"
          ],
          [
           "<1%"
          ],
          [
           "<1%"
          ],
          [
           "<1%"
          ],
          [
           "<1%"
          ],
          [
           "<1%"
          ],
          [
           "<1%"
          ],
          [
           "<1%"
          ],
          [
           "<1%"
          ],
          [
           "<1%"
          ],
          [
           "<1%"
          ],
          [
           "<1%"
          ],
          [
           "<1%"
          ],
          [
           "<1%"
          ],
          [
           "<1%"
          ],
          [
           "<1%"
          ],
          [
           "<1%"
          ],
          [
           "<1%"
          ],
          [
           "<1%"
          ],
          [
           "<1%"
          ],
          [
           "<1%"
          ],
          [
           "<1%"
          ],
          [
           "<1%"
          ],
          [
           "<1%"
          ],
          [
           "<1%"
          ],
          [
           "<1%"
          ],
          [
           "<1%"
          ],
          [
           "<1%"
          ],
          [
           "<1%"
          ],
          [
           "<1%"
          ],
          [
           "<1%"
          ],
          [
           "<1%"
          ],
          [
           "<1%"
          ],
          [
           "<1%"
          ],
          [
           "<1%"
          ],
          [
           "<1%"
          ],
          [
           "<1%"
          ],
          [
           "<1%"
          ],
          [
           "<1%"
          ],
          [
           "<1%"
          ],
          [
           "<1%"
          ],
          [
           "<1%"
          ],
          [
           "<1%"
          ],
          [
           "<1%"
          ],
          [
           "<1%"
          ],
          [
           "<1%"
          ],
          [
           "<1%"
          ],
          [
           "<1%"
          ],
          [
           "<1%"
          ],
          [
           "<1%"
          ],
          [
           "<1%"
          ],
          [
           "<1%"
          ],
          [
           "<1%"
          ],
          [
           "<1%"
          ],
          [
           "<1%"
          ],
          [
           "<1%"
          ],
          [
           "<1%"
          ],
          [
           "<1%"
          ],
          [
           "<1%"
          ],
          [
           "<1%"
          ],
          [
           "<1%"
          ],
          [
           "<1%"
          ],
          [
           "<1%"
          ],
          [
           "<1%"
          ],
          [
           "<1%"
          ],
          [
           "<1%"
          ],
          [
           "<1%"
          ],
          [
           "<1%"
          ],
          [
           "<1%"
          ],
          [
           "<1%"
          ],
          [
           "<1%"
          ],
          [
           "<1%"
          ],
          [
           "<1%"
          ],
          [
           "<1%"
          ],
          [
           "<1%"
          ],
          [
           "<1%"
          ],
          [
           "<1%"
          ],
          [
           "<1%"
          ],
          [
           "<1%"
          ],
          [
           "<1%"
          ],
          [
           "<1%"
          ],
          [
           "<1%"
          ],
          [
           "<1%"
          ],
          [
           "<1%"
          ],
          [
           "<1%"
          ],
          [
           "<1%"
          ],
          [
           "<1%"
          ],
          [
           "<1%"
          ],
          [
           "<1%"
          ],
          [
           "<1%"
          ],
          [
           "<1%"
          ],
          [
           "<1%"
          ],
          [
           "<1%"
          ],
          [
           "<1%"
          ],
          [
           "<1%"
          ],
          [
           "<1%"
          ],
          [
           "<1%"
          ],
          [
           "<1%"
          ],
          [
           "<1%"
          ],
          [
           "<1%"
          ],
          [
           "<1%"
          ],
          [
           "<1%"
          ],
          [
           "<1%"
          ],
          [
           "<1%"
          ],
          [
           "<1%"
          ],
          [
           "<1%"
          ],
          [
           "<1%"
          ],
          [
           "<1%"
          ],
          [
           "<1%"
          ],
          [
           "<1%"
          ],
          [
           "<1%"
          ],
          [
           "<1%"
          ],
          [
           "<1%"
          ],
          [
           "<1%"
          ],
          [
           "<1%"
          ],
          [
           "<1%"
          ],
          [
           "<1%"
          ],
          [
           "<1%"
          ],
          [
           "<1%"
          ],
          [
           "<1%"
          ],
          [
           "<1%"
          ],
          [
           "<1%"
          ],
          [
           "<1%"
          ],
          [
           "<1%"
          ],
          [
           "<1%"
          ],
          [
           "<1%"
          ],
          [
           "<1%"
          ],
          [
           "<1%"
          ],
          [
           "<1%"
          ],
          [
           "<1%"
          ],
          [
           "<1%"
          ],
          [
           "<1%"
          ],
          [
           "<1%"
          ],
          [
           "<1%"
          ],
          [
           "<1%"
          ],
          [
           "<1%"
          ],
          [
           "<1%"
          ],
          [
           "<1%"
          ],
          [
           "<1%"
          ],
          [
           "<1%"
          ],
          [
           "<1%"
          ],
          [
           "<1%"
          ],
          [
           "<1%"
          ],
          [
           "<1%"
          ],
          [
           "<1%"
          ],
          [
           "<1%"
          ],
          [
           "<1%"
          ],
          [
           "<1%"
          ],
          [
           "<1%"
          ],
          [
           "<1%"
          ],
          [
           "<1%"
          ],
          [
           "<1%"
          ],
          [
           "<1%"
          ],
          [
           "<1%"
          ],
          [
           "<1%"
          ],
          [
           "<1%"
          ],
          [
           "<1%"
          ],
          [
           "<1%"
          ],
          [
           "<1%"
          ],
          [
           "<1%"
          ],
          [
           "<1%"
          ],
          [
           "<1%"
          ],
          [
           "<1%"
          ],
          [
           "<1%"
          ],
          [
           "<1%"
          ],
          [
           "<1%"
          ],
          [
           "<1%"
          ],
          [
           "<1%"
          ],
          [
           "<1%"
          ],
          [
           "<1%"
          ],
          [
           "<1%"
          ],
          [
           "<1%"
          ],
          [
           "<1%"
          ],
          [
           "<1%"
          ],
          [
           "<1%"
          ],
          [
           "<1%"
          ],
          [
           "<1%"
          ],
          [
           "<1%"
          ],
          [
           "<1%"
          ],
          [
           "<1%"
          ],
          [
           "<1%"
          ],
          [
           "<1%"
          ],
          [
           "<1%"
          ],
          [
           "<1%"
          ],
          [
           "<1%"
          ],
          [
           "<1%"
          ],
          [
           "<1%"
          ],
          [
           "<1%"
          ],
          [
           "<1%"
          ],
          [
           "<1%"
          ],
          [
           "<1%"
          ],
          [
           "<1%"
          ],
          [
           "<1%"
          ],
          [
           "<1%"
          ],
          [
           "<1%"
          ],
          [
           "<1%"
          ],
          [
           "<1%"
          ],
          [
           "<1%"
          ],
          [
           "<1%"
          ],
          [
           "<1%"
          ],
          [
           "<1%"
          ],
          [
           "<1%"
          ],
          [
           "<1%"
          ],
          [
           "<1%"
          ],
          [
           "<1%"
          ],
          [
           "<1%"
          ],
          [
           "<1%"
          ],
          [
           "<1%"
          ],
          [
           "<1%"
          ],
          [
           "<1%"
          ],
          [
           "<1%"
          ],
          [
           "<1%"
          ],
          [
           "<1%"
          ],
          [
           "<1%"
          ],
          [
           "<1%"
          ],
          [
           "<1%"
          ],
          [
           "<1%"
          ],
          [
           "<1%"
          ],
          [
           "<1%"
          ],
          [
           "<1%"
          ],
          [
           "<1%"
          ],
          [
           "<1%"
          ],
          [
           "<1%"
          ],
          [
           "<1%"
          ],
          [
           "<1%"
          ],
          [
           "<1%"
          ],
          [
           "<1%"
          ],
          [
           "<1%"
          ],
          [
           "<1%"
          ],
          [
           "<1%"
          ],
          [
           "<1%"
          ],
          [
           "<1%"
          ],
          [
           "<1%"
          ],
          [
           "<1%"
          ],
          [
           "<1%"
          ],
          [
           "<1%"
          ],
          [
           "<1%"
          ],
          [
           "<1%"
          ],
          [
           "<1%"
          ],
          [
           "<1%"
          ],
          [
           "<1%"
          ],
          [
           "<1%"
          ],
          [
           "<1%"
          ],
          [
           "<1%"
          ],
          [
           "<1%"
          ],
          [
           "<1%"
          ],
          [
           "<1%"
          ],
          [
           "<1%"
          ],
          [
           "<1%"
          ],
          [
           "<1%"
          ],
          [
           "<1%"
          ],
          [
           "<1%"
          ],
          [
           "<1%"
          ],
          [
           "<1%"
          ],
          [
           "<1%"
          ],
          [
           "<1%"
          ],
          [
           "<1%"
          ],
          [
           "<1%"
          ],
          [
           "<1%"
          ],
          [
           "<1%"
          ],
          [
           "<1%"
          ],
          [
           "<1%"
          ],
          [
           "<1%"
          ],
          [
           "<1%"
          ],
          [
           "<1%"
          ],
          [
           "<1%"
          ],
          [
           "<1%"
          ],
          [
           "<1%"
          ],
          [
           "<1%"
          ],
          [
           "<1%"
          ],
          [
           "<1%"
          ],
          [
           "<1%"
          ],
          [
           "<1%"
          ],
          [
           "<1%"
          ],
          [
           "<1%"
          ],
          [
           "<1%"
          ],
          [
           "<1%"
          ],
          [
           "<1%"
          ],
          [
           "<1%"
          ],
          [
           "<1%"
          ],
          [
           "<1%"
          ],
          [
           "<1%"
          ],
          [
           "<1%"
          ],
          [
           "<1%"
          ],
          [
           "<1%"
          ],
          [
           "<1%"
          ],
          [
           "<1%"
          ],
          [
           "<1%"
          ],
          [
           "<1%"
          ],
          [
           "<1%"
          ],
          [
           "<1%"
          ],
          [
           "<1%"
          ],
          [
           "<1%"
          ],
          [
           "<1%"
          ],
          [
           "<1%"
          ],
          [
           "<1%"
          ],
          [
           "<1%"
          ],
          [
           "<1%"
          ],
          [
           "<1%"
          ],
          [
           "<1%"
          ],
          [
           "<1%"
          ],
          [
           "<1%"
          ],
          [
           "<1%"
          ],
          [
           "<1%"
          ],
          [
           "<1%"
          ],
          [
           "<1%"
          ],
          [
           "<1%"
          ],
          [
           "<1%"
          ],
          [
           "<1%"
          ],
          [
           "<1%"
          ],
          [
           "<1%"
          ],
          [
           "<1%"
          ],
          [
           "<1%"
          ],
          [
           "<1%"
          ],
          [
           "<1%"
          ],
          [
           "<1%"
          ],
          [
           "<1%"
          ],
          [
           "<1%"
          ],
          [
           "<1%"
          ],
          [
           "<1%"
          ],
          [
           "<1%"
          ],
          [
           "<1%"
          ],
          [
           "<1%"
          ],
          [
           "<1%"
          ],
          [
           "<1%"
          ],
          [
           "<1%"
          ],
          [
           "<1%"
          ],
          [
           "<1%"
          ],
          [
           "<1%"
          ],
          [
           "<1%"
          ],
          [
           "<1%"
          ],
          [
           "<1%"
          ],
          [
           "<1%"
          ],
          [
           "<1%"
          ],
          [
           "<1%"
          ],
          [
           "<1%"
          ],
          [
           "<1%"
          ],
          [
           "<1%"
          ],
          [
           "<1%"
          ],
          [
           "<1%"
          ],
          [
           "<1%"
          ],
          [
           "<1%"
          ],
          [
           "<1%"
          ],
          [
           "<1%"
          ],
          [
           "<1%"
          ],
          [
           "<1%"
          ],
          [
           "<1%"
          ],
          [
           "<1%"
          ],
          [
           "<1%"
          ],
          [
           "<1%"
          ],
          [
           "<1%"
          ],
          [
           "<1%"
          ],
          [
           "<1%"
          ],
          [
           "<1%"
          ],
          [
           "<1%"
          ],
          [
           "<1%"
          ],
          [
           "<1%"
          ],
          [
           "<1%"
          ],
          [
           "<1%"
          ],
          [
           "<1%"
          ],
          [
           "<1%"
          ],
          [
           "<1%"
          ],
          [
           "<1%"
          ],
          [
           "<1%"
          ],
          [
           "<1%"
          ],
          [
           "<1%"
          ],
          [
           "<1%"
          ],
          [
           "<1%"
          ],
          [
           "<1%"
          ],
          [
           "<1%"
          ],
          [
           "<1%"
          ],
          [
           "<1%"
          ],
          [
           "<1%"
          ],
          [
           "<1%"
          ],
          [
           "<1%"
          ],
          [
           "<1%"
          ],
          [
           "<1%"
          ],
          [
           "<1%"
          ],
          [
           "<1%"
          ],
          [
           "<1%"
          ],
          [
           "<1%"
          ],
          [
           "<1%"
          ],
          [
           "<1%"
          ],
          [
           "<1%"
          ],
          [
           "<1%"
          ],
          [
           "<1%"
          ],
          [
           "<1%"
          ],
          [
           "<1%"
          ],
          [
           "<1%"
          ],
          [
           "<1%"
          ],
          [
           "<1%"
          ],
          [
           "<1%"
          ],
          [
           "<1%"
          ],
          [
           "<1%"
          ],
          [
           "<1%"
          ],
          [
           "<1%"
          ],
          [
           "<1%"
          ],
          [
           "<1%"
          ],
          [
           "<1%"
          ],
          [
           "<1%"
          ],
          [
           "<1%"
          ],
          [
           "<1%"
          ],
          [
           "<1%"
          ],
          [
           "<1%"
          ],
          [
           "<1%"
          ],
          [
           "<1%"
          ],
          [
           "<1%"
          ],
          [
           "<1%"
          ],
          [
           "<1%"
          ],
          [
           "<1%"
          ],
          [
           "<1%"
          ],
          [
           "<1%"
          ],
          [
           "<1%"
          ],
          [
           "<1%"
          ],
          [
           "<1%"
          ],
          [
           "<1%"
          ],
          [
           "<1%"
          ],
          [
           "<1%"
          ],
          [
           "<1%"
          ],
          [
           "<1%"
          ],
          [
           "<1%"
          ],
          [
           "<1%"
          ],
          [
           "<1%"
          ],
          [
           "<1%"
          ],
          [
           "<1%"
          ],
          [
           "<1%"
          ],
          [
           "<1%"
          ],
          [
           "<1%"
          ],
          [
           "<1%"
          ],
          [
           "<1%"
          ],
          [
           "<1%"
          ],
          [
           "<1%"
          ],
          [
           "<1%"
          ],
          [
           "<1%"
          ],
          [
           "<1%"
          ],
          [
           "<1%"
          ],
          [
           "<1%"
          ],
          [
           "<1%"
          ],
          [
           "<1%"
          ],
          [
           "<1%"
          ],
          [
           "<1%"
          ],
          [
           "<1%"
          ],
          [
           "<1%"
          ],
          [
           "<1%"
          ],
          [
           "<1%"
          ],
          [
           "<1%"
          ],
          [
           "<1%"
          ],
          [
           "<1%"
          ],
          [
           "<1%"
          ],
          [
           "<1%"
          ],
          [
           "<1%"
          ],
          [
           "<1%"
          ],
          [
           "<1%"
          ],
          [
           "<1%"
          ],
          [
           "<1%"
          ],
          [
           "<1%"
          ],
          [
           "<1%"
          ],
          [
           "<1%"
          ],
          [
           "<1%"
          ],
          [
           "<1%"
          ],
          [
           "<1%"
          ],
          [
           "<1%"
          ],
          [
           "<1%"
          ],
          [
           "<1%"
          ],
          [
           "<1%"
          ],
          [
           "<1%"
          ],
          [
           "<1%"
          ],
          [
           "<1%"
          ],
          [
           "<1%"
          ],
          [
           "<1%"
          ],
          [
           "<1%"
          ],
          [
           "<1%"
          ],
          [
           "<1%"
          ],
          [
           "<1%"
          ],
          [
           "<1%"
          ],
          [
           "<1%"
          ],
          [
           "<1%"
          ],
          [
           "<1%"
          ],
          [
           "<1%"
          ],
          [
           "<1%"
          ],
          [
           "<1%"
          ],
          [
           "<1%"
          ]
         ],
         "domain": {
          "x": [
           0.0,
           1.0
          ],
          "y": [
           0.0,
           0.95
          ]
         },
         "hovertemplate": "labels=%{label}<br>comments_count=%{value}<br>parent=%{parent}<br>id=%{id}<br>color_label=%{customdata[0]}<extra></extra>",
         "ids": [
          "Аналитесса-разработчица👩🏻‍💻💅🏻<br>- комментов: 2166 (12.53%)<br>- любимые каналы: 2000–10000",
          "IT-girl talks💗<br>- комментов: 767 (4.44%)<br>- любимые каналы: 2000–10000",
          "Крис про аналитику🧠🦾<br>- комментов: 362 (2.09%)<br>- любимые каналы: 2000–10000",
          "Data Дзен с Олегом Дмитриевым<br>- комментов: 270 (1.56%)<br>- любимые каналы: 500–2000",
          "Data Brew<br>- комментов: 319 (1.85%)<br>- любимые каналы: 2000–10000",
          "АННА В ДАННЫХ<br>- комментов: 504 (2.92%)<br>- любимые каналы: 500–2000",
          "Лягушачья аналитесса 🐸<br>- комментов: 358 (2.07%)<br>- любимые каналы: 500–2000",
          "Мысли Аналитика / Илья Колиев<br>- комментов: 214 (1.24%)<br>- любимые каналы: 500–2000",
          "Гусь ищет смысл (в данных)<br>- комментов: 181 (1.05%)<br>- любимые каналы: 2000–10000",
          "В потоке данных<br>- комментов: 188 (1.09%)<br>- любимые каналы: 2000–10000",
          "it пингвин | data engineer<br>- комментов: 410 (2.37%)<br>- любимые каналы: 500–2000",
          "English for IT•Даша Робуш<br>- комментов: 235 (1.36%)<br>- любимые каналы: 2000–10000",
          "Get Rejected<br>- комментов: 180 (1.04%)<br>- любимые каналы: 500–2000",
          "ETL Kitchen<br>- комментов: 217 (1.26%)<br>- любимые каналы: 500–2000",
          "Аналитическая кофейня | Анна Антонова ☕️<br>- комментов: 224 (1.3%)<br>- любимые каналы: 2000–10000",
          "Бегущий по лезвию данных<br>- комментов: 361 (2.09%)<br>- любимые каналы: 500–2000",
          "Поработали и хватит<br>- комментов: 191 (1.11%)<br>- любимые каналы: 500–2000",
          "Дима SQL-ит 🧑‍💻 (Аналитика данных)<br>- комментов: 413 (2.39%)<br>- любимые каналы: 500–2000",
          "Tatiana идёт к 300к в наносек<br>- комментов: 931 (5.39%)<br>- любимые каналы: 500–2000",
          "Из юриста в аналитики👾<br>- комментов: 1275 (7.38%)<br>- любимые каналы: 500–2000",
          "Кузнечные меха<br>- комментов: 4 (0.02%)<br>- любимые каналы: 2000–10000",
          "М3 | Проекты. Мысли. Гуакомоле<br>- комментов: 9 (0.05%)<br>- любимые каналы: 2000–10000",
          "Марина | Мечтай и действуй<br>- комментов: 1 (0.01%)<br>- любимые каналы: 2000–10000",
          "Марина Ахрамеева |Личный Бизнес - Дневник<br>- комментов: 16 (0.09%)<br>- любимые каналы: 2000–10000",
          "Марина любит деньги<br>- комментов: 6 (0.03%)<br>- любимые каналы: 2000–10000",
          "Кстати, я считаю<br>- комментов: 5 (0.03%)<br>- любимые каналы: 2000–10000",
          "Маркизов | Карьера, бабки и айти<br>- комментов: 13 (0.08%)<br>- любимые каналы: 100–500",
          "Крылова готовит<br>- комментов: 4 (0.02%)<br>- любимые каналы: 100–500",
          "Кровь, пот, слёзы и грабли<br>- комментов: 1 (0.01%)<br>- любимые каналы: 2000–10000",
          "Маслобойня деревни Иширик👀<br>- комментов: 8 (0.05%)<br>- любимые каналы: 500–2000",
          "Лукашевич Егор | IT Dojo<br>- комментов: 2 (0.01%)<br>- любимые каналы: 10000+",
          "Ксюш, определись!<br>- комментов: 2 (0.01%)<br>- любимые каналы: 500–2000",
          "Лечим эйай<br>- комментов: 2 (0.01%)<br>- любимые каналы: 2000–10000",
          "Кудряшка Ви 🦊<br>- комментов: 12 (0.07%)<br>- любимые каналы: 2000–10000",
          "Леновое настроение<br>- комментов: 9 (0.05%)<br>- любимые каналы: 2000–10000",
          "Лейла порешает<br>- комментов: 8 (0.05%)<br>- любимые каналы: 2000–10000",
          "Лев Корнев - Развитие продукта<br>- комментов: 6 (0.03%)<br>- любимые каналы: 2000–10000",
          "Куда бежим, Даш?<br>- комментов: 7 (0.04%)<br>- любимые каналы: 2000–10000",
          "Лана из телеграма<br>- комментов: 1 (0.01%)<br>- любимые каналы: 2000–10000",
          "Лабрадор на каждый день<br>- комментов: 2 (0.01%)<br>- любимые каналы: 500–2000",
          "Лаборатория Промптинга Замышляева<br>- комментов: 1 (0.01%)<br>- любимые каналы: 10000+",
          "Куда вёз мой чемодан?<br>- комментов: 2 (0.01%)<br>- любимые каналы: 2000–10000",
          "Кэт в деле<br>- комментов: 4 (0.02%)<br>- любимые каналы: 2000–10000",
          "Куча всякой бигдаты<br>- комментов: 5 (0.03%)<br>- любимые каналы: 2000–10000",
          "Кухонный Теоретик<br>- комментов: 113 (0.65%)<br>- любимые каналы: 2000–10000",
          "Кусочек пиццы<br>- комментов: 17 (0.1%)<br>- любимые каналы: 2000–10000",
          "Кудрявая о карьере<br>- комментов: 1 (0.01%)<br>- любимые каналы: 2000–10000",
          "Лина на нуле: кредитные хроники<br>- комментов: 1 (0.01%)<br>- любимые каналы: 2000–10000",
          "Матвей Косов<br>- комментов: 5 (0.03%)<br>- любимые каналы: 10000+",
          "(YaA) Yet another Analytic<br>- комментов: 20 (0.12%)<br>- любимые каналы: 500–2000",
          "Меня не заменят нейросети<br>- комментов: 2 (0.01%)<br>- любимые каналы: 1–100",
          "НейроБаза | Алексей Яндутов<br>- комментов: 1 (0.01%)<br>- любимые каналы: 2000–10000",
          "Нейронки и big data / Kirill Dumnov<br>- комментов: 129 (0.75%)<br>- любимые каналы: 500–2000",
          "Необычная Москва или где погулять в Москве<br>- комментов: 1 (0.01%)<br>- любимые каналы: 10000+",
          "Никита Ульшин про IT<br>- комментов: 5 (0.03%)<br>- любимые каналы: 2000–10000",
          "Новые стансы к Марти́ну Алексеевичу<br>- комментов: 6 (0.03%)<br>- любимые каналы: 10000+",
          "О, Юля!<br>- комментов: 1 (0.01%)<br>- любимые каналы: 2000–10000",
          "Один в поле воин<br>- комментов: 30 (0.17%)<br>- любимые каналы: 2000–10000",
          "Ольга Мокшина<br>- комментов: 1 (0.01%)<br>- любимые каналы: 2000–10000",
          "Падел в России × Padel.ru<br>- комментов: 5 (0.03%)<br>- любимые каналы: 500–2000",
          "Первый сверху | Алексадр Бисеров<br>- комментов: 3 (0.02%)<br>- любимые каналы: 500–2000",
          "Переходим в Дата Сайенс<br>- комментов: 4 (0.02%)<br>- любимые каналы: 500–2000",
          "Перипетии Мишиной жизни<br>- комментов: 20 (0.12%)<br>- любимые каналы: 2000–10000",
          "Пирожки и бары | про BI<br>- комментов: 71 (0.41%)<br>- любимые каналы: 2000–10000",
          "Пиши ёбко | Ольга Жукова<br>- комментов: 2 (0.01%)<br>- любимые каналы: 2000–10000",
          "Планинг Татум<br>- комментов: 3 (0.02%)<br>- любимые каналы: 2000–10000",
          "Подглядываем и катим<br>- комментов: 14 (0.08%)<br>- любимые каналы: 2000–10000",
          "Позовите Олега | Архитектура и разработка<br>- комментов: 5 (0.03%)<br>- любимые каналы: 2000–10000",
          "Недобрый католик<br>- комментов: 2 (0.01%)<br>- любимые каналы: 100–500",
          "Матемаркетинг: новости конференций<br>- комментов: 5 (0.03%)<br>- любимые каналы: 2000–10000",
          "НеОлигарх💰<br>- комментов: 1 (0.01%)<br>- любимые каналы: 100–500",
          "Не по головам<br>- комментов: 1 (0.01%)<br>- любимые каналы: 2000–10000",
          "Методом тыка<br>- комментов: 6 (0.03%)<br>- любимые каналы: 1–100",
          "Миллиард на Радаре<br>- комментов: 6 (0.03%)<br>- любимые каналы: 100–500",
          "Мир аналитика данных<br>- комментов: 27 (0.16%)<br>- любимые каналы: 2000–10000",
          "Миучча Рада<br>- комментов: 1 (0.01%)<br>- любимые каналы: 1–100",
          "Многоугольники<br>- комментов: 5 (0.03%)<br>- любимые каналы: 2000–10000",
          "Мудборд Горгоны<br>- комментов: 8 (0.05%)<br>- любимые каналы: 1–100",
          "Музыкальный Архитектор<br>- комментов: 4 (0.02%)<br>- любимые каналы: 2000–10000",
          "Мы вам не перезвоним<br>- комментов: 3 (0.02%)<br>- любимые каналы: 2000–10000",
          "Мысли в полусне<br>- комментов: 2 (0.01%)<br>- любимые каналы: 10000+",
          "Мысль на ночь<br>- комментов: 1 (0.01%)<br>- любимые каналы: 500–2000",
          "На связи: SQL<br>- комментов: 3 (0.02%)<br>- любимые каналы: 500–2000",
          "Наедине с собой<br>- комментов: 1 (0.01%)<br>- любимые каналы: 500–2000",
          "Наконец-то удобно<br>- комментов: 8 (0.05%)<br>- любимые каналы: 500–2000",
          "Настя Может и Авито<br>- комментов: 3 (0.02%)<br>- любимые каналы: 500–2000",
          "Начинающий продакт | Игорь Филипьев<br>- комментов: 5 (0.03%)<br>- любимые каналы: 2000–10000",
          "Не зис, а this<br>- комментов: 4 (0.02%)<br>- любимые каналы: 10000+",
          "Не плохой аналитик<br>- комментов: 2 (0.01%)<br>- любимые каналы: 500–2000",
          "Не туда<br>- комментов: 1 (0.01%)<br>- любимые каналы: 500–2000",
          "Мессенджер Мах<br>- комментов: 1 (0.01%)<br>- любимые каналы: 10000+",
          "Концептариум 🌀<br>- комментов: 3 (0.02%)<br>- любимые каналы: 10000+",
          "Кофе, Figma и подгузники<br>- комментов: 3 (0.02%)<br>- любимые каналы: 500–2000",
          "За границей МКАДа<br>- комментов: 1 (0.01%)<br>- любимые каналы: 2000–10000",
          "Завтра продакт • дневник<br>- комментов: 9 (0.05%)<br>- любимые каналы: 2000–10000",
          "Загорски, работай! [Данные и Проекты]🚀<br>- комментов: 5 (0.03%)<br>- любимые каналы: 2000–10000",
          "Задумчивая крыса<br>- комментов: 99 (0.57%)<br>- любимые каналы: 10000+",
          "Займитесь любовью!<br>- комментов: 1 (0.01%)<br>- любимые каналы: 2000–10000",
          "Заметки фронтендера👩🏻‍💻<br>- комментов: 11 (0.06%)<br>- любимые каналы: 2000–10000",
          "Записки Коммерсанта | Блог Алишера Фозилова<br>- комментов: 1 (0.01%)<br>- любимые каналы: 2000–10000",
          "ЗА ТРИДЕВЯТЬ ДЕРЕВЕНЬ<br>- комментов: 2 (0.01%)<br>- любимые каналы: 100–500",
          "Записки февралистки<br>- комментов: 1 (0.01%)<br>- любимые каналы: 2000–10000",
          "Зарплатник Продакта<br>- комментов: 1 (0.01%)<br>- любимые каналы: 10000+",
          "Заскуль питона (Data Science)<br>- комментов: 135 (0.78%)<br>- любимые каналы: 10000+",
          "Звуки змеюки<br>- комментов: 1 (0.01%)<br>- любимые каналы: 500–2000",
          "Здесь теперь будет мой блог<br>- комментов: 3 (0.02%)<br>- любимые каналы: 2000–10000",
          "Зима в Париже<br>- комментов: 3 (0.02%)<br>- любимые каналы: 2000–10000",
          "Змеиный код🐍<br>- комментов: 5 (0.03%)<br>- любимые каналы: 500–2000",
          "Зубрим аналитику 🦬<br>- комментов: 2 (0.01%)<br>- любимые каналы: 500–2000",
          "Зарплатник Аналитика<br>- комментов: 65 (0.38%)<br>- любимые каналы: 2000–10000",
          "И еще один бокал<br>- комментов: 1 (0.01%)<br>- любимые каналы: 2000–10000",
          "Жучим, как можем<br>- комментов: 1 (0.01%)<br>- любимые каналы: 2000–10000",
          "Жизнь в точках . . . Артур Герг<br>- комментов: 22 (0.13%)<br>- любимые каналы: 2000–10000",
          "Дневник трат жены программиста<br>- комментов: 12 (0.07%)<br>- любимые каналы: 2000–10000",
          "Дневник трейдера • tradingmania.ru<br>- комментов: 7 (0.04%)<br>- любимые каналы: 100–500",
          "Дневник удовольствий<br>- комментов: 1 (0.01%)<br>- любимые каналы: 2000–10000",
          "Доказательный Мозг | Даша Ухлинова<br>- комментов: 3 (0.02%)<br>- любимые каналы: 10000+",
          "Доктор, у нас баг<br>- комментов: 1 (0.01%)<br>- любимые каналы: 2000–10000",
          "Документация души | SA Kate<br>- комментов: 17 (0.1%)<br>- любимые каналы: 2000–10000",
          "Дольче вита вскрыта<br>- комментов: 5 (0.03%)<br>- любимые каналы: 1–100",
          "Жизнь хитрее наших планов<br>- комментов: 17 (0.1%)<br>- любимые каналы: 2000–10000",
          "Домашняя Кошка<br>- комментов: 9 (0.05%)<br>- любимые каналы: 1–100",
          "Дратути Антон<br>- комментов: 5 (0.03%)<br>- любимые каналы: 2000–10000",
          "Думай как аналитик<br>- комментов: 2 (0.01%)<br>- любимые каналы: 2000–10000",
          "Душевная раздевалка<br>- комментов: 25 (0.14%)<br>- любимые каналы: 1–100",
          "Дьявол пишет пресс-релизы<br>- комментов: 3 (0.02%)<br>- любимые каналы: 500–2000",
          "Егор Литвиненко / Программирование<br>- комментов: 1 (0.01%)<br>- любимые каналы: 500–2000",
          "Еще 5 минуточек... Восстанавливаемся со Светланой<br>- комментов: 3 (0.02%)<br>- любимые каналы: 500–2000",
          "Жизнь в Москве<br>- комментов: 10 (0.06%)<br>- любимые каналы: 2000–10000",
          "Дорожка на три буквы📈<br>- комментов: 1 (0.01%)<br>- любимые каналы: 2000–10000",
          "Красота спасет мир🤍<br>- комментов: 1 (0.01%)<br>- любимые каналы: 1–100",
          "И смех, и грех, и туфли<br>- комментов: 4 (0.02%)<br>- любимые каналы: 1–100",
          "Иван Калита💰<br>- комментов: 1 (0.01%)<br>- любимые каналы: 2000–10000",
          "Кальянный патруль | Hookah Patrol<br>- комментов: 16 (0.09%)<br>- любимые каналы: 2000–10000",
          "Карьера и рефлексия<br>- комментов: 16 (0.09%)<br>- любимые каналы: 2000–10000",
          "Катим в прод | Александр Калыргин<br>- комментов: 5 (0.03%)<br>- любимые каналы: 2000–10000",
          "Катя | Психолог с ебанцой 18+<br>- комментов: 6 (0.03%)<br>- любимые каналы: 2000–10000",
          "Катя в плюсе 🌷<br>- комментов: 5 (0.03%)<br>- любимые каналы: 2000–10000",
          "Катя и legaltech 🍓<br>- комментов: 6 (0.03%)<br>- любимые каналы: 500–2000",
          "Катя, давай обсудим!<br>- комментов: 1 (0.01%)<br>- любимые каналы: 500–2000",
          "Как это работает!?<br>- комментов: 1 (0.01%)<br>- любимые каналы: 100–500",
          "Клуб анонимных аналитиков<br>- комментов: 2 (0.01%)<br>- любимые каналы: 10000+",
          "Когда все изменилось, Аня?! [18+]<br>- комментов: 5 (0.03%)<br>- любимые каналы: 2000–10000",
          "Козлова обо всем<br>- комментов: 4 (0.02%)<br>- любимые каналы: 2000–10000",
          "Колесников Кирилл - дневник📔✍️<br>- комментов: 5 (0.03%)<br>- любимые каналы: 2000–10000",
          "Коллега в телеге: Григорий Корнев о маркетинге и жизни<br>- комментов: 2 (0.01%)<br>- любимые каналы: 500–2000",
          "Коля Валиотти • Дата консалтинг<br>- комментов: 5 (0.03%)<br>- любимые каналы: 10000+",
          "Коробенкóва<br>- комментов: 3 (0.02%)<br>- любимые каналы: 500–2000",
          "Костя Балакин | Бегущий аналитик<br>- комментов: 1 (0.01%)<br>- любимые каналы: 10000+",
          "Клуб тех, кому мало зарплаты<br>- комментов: 32 (0.19%)<br>- любимые каналы: 2000–10000",
          "ИТ блудни<br>- комментов: 69 (0.4%)<br>- любимые каналы: 2000–10000",
          "Как дела у Dashikiki<br>- комментов: 1 (0.01%)<br>- любимые каналы: 2000–10000",
          "КУЗНЕЦ<br>- комментов: 1 (0.01%)<br>- любимые каналы: 2000–10000",
          "Иван Репин<br>- комментов: 3 (0.02%)<br>- любимые каналы: 10000+",
          "Из Frontend в люди<br>- комментов: 1 (0.01%)<br>- любимые каналы: 2000–10000",
          "Из разраба в менеджеры<br>- комментов: 2 (0.01%)<br>- любимые каналы: 2000–10000",
          "Илья Донских<br>- комментов: 6 (0.03%)<br>- любимые каналы: 10000+",
          "Илья Крамник | Блогеры и продажи<br>- комментов: 18 (0.1%)<br>- любимые каналы: 2000–10000",
          "Илья в курсе<br>- комментов: 70 (0.41%)<br>- любимые каналы: 500–2000",
          "Инвесткопилка<br>- комментов: 3 (0.02%)<br>- любимые каналы: 100–500",
          "Как вырастить Илона Маска<br>- комментов: 3 (0.02%)<br>- любимые каналы: 1–100",
          "Инженер-Инвестор<br>- комментов: 1 (0.01%)<br>- любимые каналы: 100–500",
          "Инструментарий аналитика<br>- комментов: 1 (0.01%)<br>- любимые каналы: 2000–10000",
          "Интеллект в коде: Python, AI, Data Science<br>- комментов: 9 (0.05%)<br>- любимые каналы: 10000+",
          "Информационная эстетика<br>- комментов: 3 (0.02%)<br>- любимые каналы: 10000+",
          "Ира Пилявская | Жизнь после IT<br>- комментов: 4 (0.02%)<br>- любимые каналы: 500–2000",
          "Искусство обживания<br>- комментов: 1 (0.01%)<br>- любимые каналы: 1–100",
          "К чёрту диету!<br>- комментов: 1 (0.01%)<br>- любимые каналы: 1–100",
          "КАК ПРИГОТОВИТЬ PROEKT<br>- комментов: 117 (0.68%)<br>- любимые каналы: 2000–10000",
          "Инженерообязанный🫡 | Блог Дата Инженера<br>- комментов: 123 (0.71%)<br>- любимые каналы: 2000–10000",
          "Полицейский в e-commerce | Гошаев Илья<br>- комментов: 23 (0.13%)<br>- любимые каналы: 500–2000",
          "Практический эмоциональный интеллект<br>- комментов: 1 (0.01%)<br>- любимые каналы: 2000–10000",
          "Портфель подростка<br>- комментов: 5 (0.03%)<br>- любимые каналы: 100–500",
          "даблл<br>- комментов: 6 (0.03%)<br>- любимые каналы: 2000–10000",
          "дата инженеретта<br>- комментов: 55 (0.32%)<br>- любимые каналы: 2000–10000",
          "дважды первый 💥<br>- комментов: 1 (0.01%)<br>- любимые каналы: 500–2000",
          "декомпозиция и отвага<br>- комментов: 17 (0.1%)<br>- любимые каналы: 2000–10000",
          "джейсоноперекладчик<br>- комментов: 1 (0.01%)<br>- любимые каналы: 500–2000",
          "дневник Бриджит Джунс (de)👩‍💻💅<br>- комментов: 16 (0.09%)<br>- любимые каналы: 500–2000",
          "записки безработной 📝<br>- комментов: 1 (0.01%)<br>- любимые каналы: 2000–10000",
          "графиня вишня<br>- комментов: 6 (0.03%)<br>- любимые каналы: 500–2000",
          "заходи на чай! | булат про образование и бизнес<br>- комментов: 1 (0.01%)<br>- любимые каналы: 10000+",
          "и что сказать?<br>- комментов: 4 (0.02%)<br>- любимые каналы: 2000–10000",
          "ильи эпохе голоцена<br>- комментов: 1 (0.01%)<br>- любимые каналы: 2000–10000",
          "интересный персонаж<br>- комментов: 1 (0.01%)<br>- любимые каналы: 2000–10000",
          "картинки<br>- комментов: 1 (0.01%)<br>- любимые каналы: 2000–10000",
          "киновойс<br>- комментов: 2 (0.01%)<br>- любимые каналы: 100–500",
          "кризисные budni<br>- комментов: 4 (0.02%)<br>- любимые каналы: 500–2000",
          "культурный кофе & наука<br>- комментов: 3 (0.02%)<br>- любимые каналы: 2000–10000",
          "здесь и сейчас<br>- комментов: 2 (0.01%)<br>- любимые каналы: 1–100",
          "всё о телеге, кроме колёс<br>- комментов: 1 (0.01%)<br>- любимые каналы: 1–100",
          "всем похуй)<br>- комментов: 5 (0.03%)<br>- любимые каналы: 10000+",
          "вОля в медиа<br>- комментов: 1 (0.01%)<br>- любимые каналы: 2000–10000",
          "Чё где дом ? 🏕<br>- комментов: 1 (0.01%)<br>- любимые каналы: 2000–10000",
          "ЭТО МОЯ СТИХИЯ<br>- комментов: 1 (0.01%)<br>- любимые каналы: 500–2000",
          "Эдгар Каспарян | Life<br>- комментов: 1 (0.01%)<br>- любимые каналы: 2000–10000",
          "Экономлю на еде💵<br>- комментов: 1 (0.01%)<br>- любимые каналы: 2000–10000",
          "Экономлю, чтобы путешествовать<br>- комментов: 3 (0.02%)<br>- любимые каналы: 100–500",
          "Эмоции успеха | Елена Логачева<br>- комментов: 1 (0.01%)<br>- любимые каналы: 2000–10000",
          "Эрдэни GenAI инженер<br>- комментов: 6 (0.03%)<br>- любимые каналы: 500–2000",
          "Это База! | Эрик обучает!<br>- комментов: 1 (0.01%)<br>- любимые каналы: 10000+",
          "Это Радмир если че<br>- комментов: 3 (0.02%)<br>- любимые каналы: 100–500",
          "Это у меня везде<br>- комментов: 3 (0.02%)<br>- любимые каналы: 2000–10000",
          "Юлиана Керт | Бренд-персона<br>- комментов: 31 (0.18%)<br>- любимые каналы: 500–2000",
          "Юрист идеалист<br>- комментов: 1 (0.01%)<br>- любимые каналы: 2000–10000",
          "Яна 🍋 про Финансы<br>- комментов: 1 (0.01%)<br>- любимые каналы: 2000–10000",
          "а мышка?<br>- комментов: 2 (0.01%)<br>- любимые каналы: 1–100",
          "аналитика и ништячки<br>- комментов: 4 (0.02%)<br>- любимые каналы: 500–2000",
          "аналитика на кубах<br>- комментов: 8 (0.05%)<br>- любимые каналы: 2000–10000",
          "без доступа к почте<br>- комментов: 2 (0.01%)<br>- любимые каналы: 500–2000",
          "ми - ми<br>- комментов: 1 (0.01%)<br>- любимые каналы: 2000–10000",
          "Что делаешь в выхи?<br>- комментов: 2 (0.01%)<br>- любимые каналы: 2000–10000",
          "мюсли Анты<br>- комментов: 9 (0.05%)<br>- любимые каналы: 2000–10000",
          "наверное, миддл (frontend dev)<br>- комментов: 5 (0.03%)<br>- любимые каналы: 2000–10000",
          "эдсанутые<br>- комментов: 3 (0.02%)<br>- любимые каналы: 2000–10000",
          "☀️София<br>- комментов: 1 (0.01%)<br>- любимые каналы: 10000+",
          "☘💊Блог о здоровье<br>- комментов: 2 (0.01%)<br>- любимые каналы: 500–2000",
          "⚡️Варя☀️<br>- комментов: 1 (0.01%)<br>- любимые каналы: 10000+",
          "✈️ Тагир Отдыхает<br>- комментов: 1 (0.01%)<br>- любимые каналы: 2000–10000",
          "𝑴𝑶𝑨𝑵𝑲𝑲𝑨<br>- комментов: 1 (0.01%)<br>- любимые каналы: 500–2000",
          "𝖄𝖀𝕹𝕺𝕲𝕿𝕱𝕺<br>- комментов: 1 (0.01%)<br>- любимые каналы: 10000+",
          "шапка из клубники<br>- комментов: 3 (0.02%)<br>- любимые каналы: 2000–10000",
          "𝘥𝘦𝘢𝘭𝘦𝘯𝘹<br>- комментов: 3 (0.02%)<br>- любимые каналы: 2000–10000",
          "🌞 Твоя карта дня<br>- комментов: 1 (0.01%)<br>- любимые каналы: 500–2000",
          "🌸Ангелина🌸<br>- комментов: 1 (0.01%)<br>- любимые каналы: 2000–10000",
          "🎯365 шагов к МИЛЛИОНУ<br>- комментов: 2 (0.01%)<br>- любимые каналы: 100–500",
          "🐷<br>- комментов: 1 (0.01%)<br>- любимые каналы: 2000–10000",
          "👨🏻‍💻Кобозев Дмитрий | Создание сайтов<br>- комментов: 1 (0.01%)<br>- любимые каналы: 2000–10000",
          "💚 Just Hope | О шитье и айти 💚<br>- комментов: 2 (0.01%)<br>- любимые каналы: 500–2000",
          "💥Злата☀️<br>- комментов: 1 (0.01%)<br>- любимые каналы: 10000+",
          "🇩🇰 Denmark от первого лица<br>- комментов: 1 (0.01%)<br>- любимые каналы: 500–2000",
          "что-то пишу<br>- комментов: 12 (0.07%)<br>- любимые каналы: 2000–10000",
          "что-то на инженерном<br>- комментов: 2 (0.01%)<br>- любимые каналы: 500–2000",
          "что в Нутри? 🥗<br>- комментов: 5 (0.03%)<br>- любимые каналы: 2000–10000",
          "надо тестить<br>- комментов: 1 (0.01%)<br>- любимые каналы: 10000+",
          "нас тупило айти<br>- комментов: 6 (0.03%)<br>- любимые каналы: 2000–10000",
          "настенька и графики<br>- комментов: 1 (0.01%)<br>- любимые каналы: 10000+",
          "не теряй икигай<br>- комментов: 2 (0.01%)<br>- любимые каналы: 500–2000",
          "недизайны | by alex kovch<br>- комментов: 1 (0.01%)<br>- любимые каналы: 10000+",
          "нет дамы без огня<br>- комментов: 11 (0.06%)<br>- любимые каналы: 1–100",
          "ноль объект<br>- комментов: 2 (0.01%)<br>- любимые каналы: 500–2000",
          "отвратительные графики<br>- комментов: 2 (0.01%)<br>- любимые каналы: 500–2000",
          "писать легче, чем жить<br>- комментов: 4 (0.02%)<br>- любимые каналы: 500–2000",
          "платьишко для бенефиса<br>- комментов: 3 (0.02%)<br>- любимые каналы: 1–100",
          "почти наверное<br>- комментов: 5 (0.03%)<br>- любимые каналы: 500–2000",
          "сейф был вскрыт<br>- комментов: 2 (0.01%)<br>- любимые каналы: 2000–10000",
          "снимая маску<br>- комментов: 12 (0.07%)<br>- любимые каналы: 1–100",
          "ссу, но делаю<br>- комментов: 3 (0.02%)<br>- любимые каналы: 2000–10000",
          "твиттер уставшего айтишника<br>- комментов: 1 (0.01%)<br>- любимые каналы: 2000–10000",
          "тимлидбл*<br>- комментов: 1 (0.01%)<br>- любимые каналы: 2000–10000",
          "чвк python<br>- комментов: 10 (0.06%)<br>- любимые каналы: 500–2000",
          "на собес - без паники | карьерный консультант<br>- комментов: 1 (0.01%)<br>- любимые каналы: 500–2000",
          "Полтос? Не вопрос!<br>- комментов: 105 (0.61%)<br>- любимые каналы: 500–2000",
          "Четырнадцатая зарплата<br>- комментов: 1 (0.01%)<br>- любимые каналы: 100–500",
          "Чайная комната<br>- комментов: 7 (0.04%)<br>- любимые каналы: 500–2000",
          "Рилсация<br>- комментов: 7 (0.04%)<br>- любимые каналы: 500–2000",
          "Рисерчошная<br>- комментов: 5 (0.03%)<br>- любимые каналы: 10000+",
          "Рожден быть свободным !<br>- комментов: 3 (0.02%)<br>- любимые каналы: 2000–10000",
          "Рома Филев против FOMO<br>- комментов: 7 (0.04%)<br>- любимые каналы: 2000–10000",
          "Руковожоп<br>- комментов: 93 (0.54%)<br>- любимые каналы: 2000–10000",
          "Русский инвестор<br>- комментов: 3 (0.02%)<br>- любимые каналы: 2000–10000",
          "Рустамъ Excel 📊<br>- комментов: 8 (0.05%)<br>- любимые каналы: 2000–10000",
          "Развитие в IT | Олег Андриянов<br>- комментов: 7 (0.04%)<br>- любимые каналы: 2000–10000",
          "С ИНЖЕНЕРНОЙ ТОЧКИ ЗРЕНИЯ 🚧 Производство, залипалки, интересный контент, юмор, наука, технологии, авто, тяжёлая техника 🚧<br>- комментов: 1 (0.01%)<br>- любимые каналы: 2000–10000",
          "Саша | Пишу о своих путешествиях<br>- комментов: 2 (0.01%)<br>- любимые каналы: 10000+",
          "Света в Валенсии<br>- комментов: 12 (0.07%)<br>- любимые каналы: 500–2000",
          "Семейка продактов<br>- комментов: 11 (0.06%)<br>- любимые каналы: 500–2000",
          "Семейная экономика 🧮<br>- комментов: 19 (0.11%)<br>- любимые каналы: 100–500",
          "Сенаторов.head()<br>- комментов: 32 (0.19%)<br>- любимые каналы: 500–2000",
          "Сергей Пикулин | Аналитика, менторство и немного личного<br>- комментов: 5 (0.03%)<br>- любимые каналы: 2000–10000",
          "Сила слов<br>- комментов: 2 (0.01%)<br>- любимые каналы: 2000–10000",
          "СТАРТАП ИСТОРИИ<br>- комментов: 1 (0.01%)<br>- любимые каналы: 2000–10000",
          "Разбудите в будни<br>- комментов: 7 (0.04%)<br>- любимые каналы: 1–100",
          "Путь Аналитика | Данилов Роман<br>- комментов: 7 (0.04%)<br>- любимые каналы: 2000–10000",
          "Психология без мракобесия<br>- комментов: 2 (0.01%)<br>- любимые каналы: 2000–10000",
          "Дневник системного аналитика<br>- комментов: 4 (0.02%)<br>- любимые каналы: 500–2000",
          "Прикройте гештальт<br>- комментов: 3 (0.02%)<br>- любимые каналы: 500–2000",
          "Проблема не в данных | Aня Себедаш<br>- комментов: 1 (0.01%)<br>- любимые каналы: 500–2000",
          "Программистка-гуманитарий<br>- комментов: 8 (0.05%)<br>- любимые каналы: 2000–10000",
          "Продакт Амплеев<br>- комментов: 4 (0.02%)<br>- любимые каналы: 2000–10000",
          "Продакт из Голландии | Марина Малых<br>- комментов: 8 (0.05%)<br>- любимые каналы: 2000–10000",
          "Продакт поехал | Илья Лягушенко<br>- комментов: 2 (0.01%)<br>- любимые каналы: 500–2000",
          "Проджект в деталях | Катя<br>- комментов: 3 (0.02%)<br>- любимые каналы: 2000–10000",
          "Продукт и рост | Яна Доценко<br>- комментов: 5 (0.03%)<br>- любимые каналы: 2000–10000",
          "Продукт, IT и жизнь / Александра<br>- комментов: 36 (0.21%)<br>- любимые каналы: 2000–10000",
          "Продуктовые будни | Настя Шендрик<br>- комментов: 6 (0.03%)<br>- любимые каналы: 500–2000",
          "Продуктовые заметки<br>- комментов: 9 (0.05%)<br>- любимые каналы: 500–2000",
          "Проекты иcчезают в полдень<br>- комментов: 12 (0.07%)<br>- любимые каналы: 500–2000",
          "Прорабство – взрослая жизнь и ремонт<br>- комментов: 6 (0.03%)<br>- любимые каналы: 2000–10000",
          "Просто Аня<br>- комментов: 6 (0.03%)<br>- любимые каналы: 500–2000",
          "Просто чел из АЙТИ<br>- комментов: 163 (0.94%)<br>- любимые каналы: 2000–10000",
          "Психолог для тревожных Анна М.<br>- комментов: 10 (0.06%)<br>- любимые каналы: 500–2000",
          "Системный анализ на максималках<br>- комментов: 101 (0.58%)<br>- любимые каналы: 2000–10000",
          "Чебурасика 🧶<br>- комментов: 2 (0.01%)<br>- любимые каналы: 500–2000",
          "Системный аналитик в финтехе/ Системный анализ/<br>- комментов: 9 (0.05%)<br>- любимые каналы: 2000–10000",
          "Скиллы интроверта<br>- комментов: 4 (0.02%)<br>- любимые каналы: 2000–10000",
          "Технопродакт<br>- комментов: 4 (0.02%)<br>- любимые каналы: 2000–10000",
          "Тимлидошная<br>- комментов: 5 (0.03%)<br>- любимые каналы: 2000–10000",
          "Тимоти, но не Шаламе<br>- комментов: 1 (0.01%)<br>- любимые каналы: 2000–10000",
          "Толковая мать<br>- комментов: 2 (0.01%)<br>- любимые каналы: 1–100",
          "Тостер Скрипт<br>- комментов: 1 (0.01%)<br>- любимые каналы: 10000+",
          "Тултип | UX UI<br>- комментов: 1 (0.01%)<br>- любимые каналы: 10000+",
          "Убежище аналитика<br>- комментов: 33 (0.19%)<br>- любимые каналы: 2000–10000",
          "Техножрица 👩‍💻👩‍🏫👩‍🔧<br>- комментов: 14 (0.08%)<br>- любимые каналы: 10000+",
          "Удалёнка в IT | Анисимов<br>- комментов: 4 (0.02%)<br>- любимые каналы: 10000+",
          "Фанклуб свидетелей Егора Коновалова<br>- комментов: 1 (0.01%)<br>- любимые каналы: 2000–10000",
          "Филипп | Карьера | Инсайты<br>- комментов: 1 (0.01%)<br>- любимые каналы: 10000+",
          "Фича, ошибка и собес<br>- комментов: 3 (0.02%)<br>- любимые каналы: 10000+",
          "Футбольная карта 🗺️<br>- комментов: 1 (0.01%)<br>- любимые каналы: 500–2000",
          "Хороший код: алгоритмы, оптимизация и чистый код<br>- комментов: 1 (0.01%)<br>- любимые каналы: 2000–10000",
          "Хромой Бард<br>- комментов: 2 (0.01%)<br>- любимые каналы: 10000+",
          "Цитаты из книг, которые я прочитал<br>- комментов: 1 (0.01%)<br>- любимые каналы: 2000–10000",
          "Учись у лучших: кейсы каждый день<br>- комментов: 1 (0.01%)<br>- любимые каналы: 2000–10000",
          "Тестирую жизнь<br>- комментов: 12 (0.07%)<br>- любимые каналы: 2000–10000",
          "Тест<br>- комментов: 2 (0.01%)<br>- любимые каналы: 2000–10000",
          "Теневой маньяк<br>- комментов: 1 (0.01%)<br>- любимые каналы: 2000–10000",
          "Скуфъ инжинирингъ 🇷🇺<br>- комментов: 4 (0.02%)<br>- любимые каналы: 10000+",
          "Слезы продакта<br>- комментов: 1 (0.01%)<br>- любимые каналы: 2000–10000",
          "Случайные записки<br>- комментов: 6 (0.03%)<br>- любимые каналы: 1–100",
          "Собеседовошная<br>- комментов: 1 (0.01%)<br>- любимые каналы: 2000–10000",
          "Соловей Ai Вей:<br>- комментов: 1 (0.01%)<br>- любимые каналы: 2000–10000",
          "Сорвало крышечку<br>- комментов: 5 (0.03%)<br>- любимые каналы: 1–100",
          "Сохранить успели?<br>- комментов: 3 (0.02%)<br>- любимые каналы: 1–100",
          "Средненький контент | Антон Тарасов<br>- комментов: 1 (0.01%)<br>- любимые каналы: 2000–10000",
          "Средненький продакт | Антон Тарасов<br>- комментов: 28 (0.16%)<br>- любимые каналы: 2000–10000",
          "Статистика и R в науке и аналитике<br>- комментов: 4 (0.02%)<br>- любимые каналы: 2000–10000",
          "Студия персональных тренировок .<br>- комментов: 7 (0.04%)<br>- любимые каналы: 2000–10000",
          "Тагир Анализирует<br>- комментов: 105 (0.61%)<br>- любимые каналы: 2000–10000",
          "Таня Сатункина☀️автор из Краснодара<br>- комментов: 1 (0.01%)<br>- любимые каналы: 2000–10000",
          "Татьяна Ившина анализирует<br>- комментов: 22 (0.13%)<br>- любимые каналы: 2000–10000",
          "Твой ментор | Владислав Носковец<br>- комментов: 1 (0.01%)<br>- любимые каналы: 2000–10000",
          "Твоя подружка Ю<br>- комментов: 3 (0.02%)<br>- любимые каналы: 2000–10000",
          "Телеграм Софии<br>- комментов: 13 (0.08%)<br>- любимые каналы: 2000–10000",
          "Скатертью дорожка<br>- комментов: 9 (0.05%)<br>- любимые каналы: 1–100",
          "Дневник мамы на фрилансе.<br>- комментов: 3 (0.02%)<br>- любимые каналы: 2000–10000",
          "Дивидендная фабрика | Роман Кузнецов<br>- комментов: 10 (0.06%)<br>- любимые каналы: 100–500",
          "Дмитрий Кузьмин. Инженерия данных<br>- комментов: 6 (0.03%)<br>- любимые каналы: 500–2000",
          "Love. Death. Transformers.<br>- комментов: 1 (0.01%)<br>- любимые каналы: 2000–10000",
          "MILFAnalyst<br>- комментов: 100 (0.58%)<br>- любимые каналы: 500–2000",
          "ML Baldini • Nikita Boyandin<br>- комментов: 27 (0.16%)<br>- любимые каналы: 2000–10000",
          "ML-легушька<br>- комментов: 2 (0.01%)<br>- любимые каналы: 10000+",
          "Mad DevOps<br>- комментов: 1 (0.01%)<br>- любимые каналы: 10000+",
          "Malex | Алексей Малинский<br>- комментов: 22 (0.13%)<br>- любимые каналы: 10000+",
          "Management | София Глюзицкая<br>- комментов: 1 (0.01%)<br>- любимые каналы: 500–2000",
          "Lost in the data market<br>- комментов: 1 (0.01%)<br>- любимые каналы: 10000+",
          "Maxim.ML - канал<br>- комментов: 1 (0.01%)<br>- любимые каналы: 2000–10000",
          "MoneyFiction📚🎙️<br>- комментов: 1 (0.01%)<br>- любимые каналы: 10000+",
          "N айтишниц заходят в бар<br>- комментов: 70 (0.41%)<br>- любимые каналы: 500–2000",
          "Nasibov Live 👨🏻‍💻<br>- комментов: 1 (0.01%)<br>- любимые каналы: 2000–10000",
          "Nat Segal 💥<br>- комментов: 1 (0.01%)<br>- любимые каналы: 2000–10000",
          "NatAnalytics | Как я искала мужа и нашла<br>- комментов: 2 (0.01%)<br>- любимые каналы: 2000–10000",
          "No Data No Growth | Pavel Bukhtik<br>- комментов: 40 (0.23%)<br>- любимые каналы: 2000–10000",
          "Noukash<br>- комментов: 2 (0.01%)<br>- любимые каналы: 2000–10000",
          "Me and pandas<br>- комментов: 98 (0.57%)<br>- любимые каналы: 2000–10000",
          "Olga went to Harvard<br>- комментов: 1 (0.01%)<br>- любимые каналы: 2000–10000",
          "Lost in Data<br>- комментов: 40 (0.23%)<br>- любимые каналы: 500–2000",
          "Linkin Dev<br>- комментов: 7 (0.04%)<br>- любимые каналы: 2000–10000",
          "IT с человеческим лицом<br>- комментов: 1 (0.01%)<br>- любимые каналы: 100–500",
          "IT сеньорита / Наиля Галимова<br>- комментов: 1 (0.01%)<br>- любимые каналы: 500–2000",
          "IT's Арина🌪💗<br>- комментов: 103 (0.6%)<br>- любимые каналы: 2000–10000",
          "IT-путеводитель: Аналитика и Карьера<br>- комментов: 1 (0.01%)<br>- любимые каналы: 2000–10000",
          "IT-шница в декрете<br>- комментов: 32 (0.19%)<br>- любимые каналы: 2000–10000",
          "In search of time<br>- комментов: 1 (0.01%)<br>- любимые каналы: 10000+",
          "Inside Pro | Елизавета К<br>- комментов: 1 (0.01%)<br>- любимые каналы: 2000–10000",
          "LoFiCoder<br>- комментов: 9 (0.05%)<br>- любимые каналы: 10000+",
          "Investia<br>- комментов: 4 (0.02%)<br>- любимые каналы: 100–500",
          "Kali Novskaya<br>- комментов: 3 (0.02%)<br>- любимые каналы: 10000+",
          "Kalintseva | Powered by Marketing<br>- комментов: 3 (0.02%)<br>- любимые каналы: 2000–10000",
          "Knowledge Accumulator<br>- комментов: 1 (0.01%)<br>- любимые каналы: 2000–10000",
          "Kowalski, analyze!<br>- комментов: 59 (0.34%)<br>- любимые каналы: 2000–10000",
          "La vida | Andrey Y<br>- комментов: 6 (0.03%)<br>- любимые каналы: 500–2000",
          "Launch to be done! / Ilya Chapyshev<br>- комментов: 4 (0.02%)<br>- любимые каналы: 100–500",
          "Lines Of Code | Александр Бондаренко<br>- комментов: 110 (0.64%)<br>- любимые каналы: 2000–10000",
          "Ivan<br>- комментов: 1 (0.01%)<br>- любимые каналы: 2000–10000",
          "IT путь<br>- комментов: 8 (0.05%)<br>- любимые каналы: 500–2000",
          "Olga_notes ✨<br>- комментов: 1 (0.01%)<br>- любимые каналы: 2000–10000",
          "PRO Project Manager<br>- комментов: 6 (0.03%)<br>- любимые каналы: 2000–10000",
          "SaintBytеChannel<br>- комментов: 7 (0.04%)<br>- любимые каналы: 100–500",
          "Select * from аналитика<br>- комментов: 146 (0.84%)<br>- любимые каналы: 500–2000",
          "Select опять<br>- комментов: 119 (0.69%)<br>- любимые каналы: 500–2000",
          "Senatorov live<br>- комментов: 1 (0.01%)<br>- любимые каналы: 10000+",
          "Senatorov | Математический спецназ | Математика<br>- комментов: 20 (0.12%)<br>- любимые каналы: 10000+",
          "She thinks aloud 👩🏻‍💻 Настя<br>- комментов: 4 (0.02%)<br>- любимые каналы: 500–2000",
          "Shmya community 2.0 - канал<br>- комментов: 4 (0.02%)<br>- любимые каналы: 2000–10000",
          "SaaS Founders<br>- комментов: 4 (0.02%)<br>- любимые каналы: 2000–10000",
          "Stas Does Life<br>- комментов: 20 (0.12%)<br>- любимые каналы: 2000–10000",
          "StroyContent<br>- комментов: 9 (0.05%)<br>- любимые каналы: 500–2000",
          "Summerland | Тут читают 📚<br>- комментов: 1 (0.01%)<br>- любимые каналы: 2000–10000",
          "Switchers. Как сменить профессию<br>- комментов: 166 (0.96%)<br>- любимые каналы: 2000–10000",
          "TRÈS BIEN by code:daria<br>- комментов: 3 (0.02%)<br>- любимые каналы: 2000–10000",
          "Tattka ‘не только’ о стиле<br>- комментов: 1 (0.01%)<br>- любимые каналы: 100–500",
          "Tautological pleonasm<br>- комментов: 1 (0.01%)<br>- любимые каналы: 10000+",
          "TeamCity-фея🧚‍♀️ или деплой души🌸<br>- комментов: 38 (0.22%)<br>- любимые каналы: 2000–10000",
          "Stesh_a_Stesh<br>- комментов: 1 (0.01%)<br>- любимые каналы: 2000–10000",
          "Olya’s insights<br>- комментов: 1 (0.01%)<br>- любимые каналы: 500–2000",
          "SQL: Реляционные базы данных<br>- комментов: 66 (0.38%)<br>- любимые каналы: 500–2000",
          "SQL | Data Analytics<br>- комментов: 1 (0.01%)<br>- любимые каналы: 10000+",
          "PaPashaProger<br>- комментов: 8 (0.05%)<br>- любимые каналы: 500–2000",
          "Pacman<br>- комментов: 10 (0.06%)<br>- любимые каналы: 10000+",
          "Papa_investar<br>- комментов: 1 (0.01%)<br>- любимые каналы: 100–500",
          "Pavel Zloi<br>- комментов: 1 (0.01%)<br>- любимые каналы: 10000+",
          "Peskova. Записки event Бабы-Яги<br>- комментов: 3 (0.02%)<br>- любимые каналы: 2000–10000",
          "Postarnakov - Ru YouTube<br>- комментов: 1 (0.01%)<br>- любимые каналы: 2000–10000",
          "Product PULSE / Аня Фадеева<br>- комментов: 1 (0.01%)<br>- любимые каналы: 500–2000",
          "SQL Сомелье Show<br>- комментов: 3 (0.02%)<br>- любимые каналы: 10000+",
          "Product bro | Yakov Muzyka<br>- комментов: 1 (0.01%)<br>- любимые каналы: 500–2000",
          "Reflexions | Pekhterev D<br>- комментов: 1 (0.01%)<br>- любимые каналы: 500–2000",
          "Riemann Cavity<br>- комментов: 3 (0.02%)<br>- любимые каналы: 10000+",
          "RnD CV Team<br>- комментов: 1 (0.01%)<br>- любимые каналы: 10000+",
          "Road To BigTech<br>- комментов: 1 (0.01%)<br>- любимые каналы: 2000–10000",
          "SA | Разбор собеседований<br>- комментов: 19 (0.11%)<br>- любимые каналы: 2000–10000",
          "SAVI<br>- комментов: 1 (0.01%)<br>- любимые каналы: 2000–10000",
          "SERViLAN<br>- комментов: 1 (0.01%)<br>- любимые каналы: 100–500",
          "Project Manager в кармане<br>- комментов: 5 (0.03%)<br>- любимые каналы: 500–2000",
          "IT и баланс в жизни Маши ☕️<br>- комментов: 5 (0.03%)<br>- любимые каналы: 500–2000",
          "IT Reels<br>- комментов: 1 (0.01%)<br>- любимые каналы: 2000–10000",
          "IT Radar — митапы, конференции и техно-новости. IT Events<br>- комментов: 1 (0.01%)<br>- любимые каналы: 10000+",
          "Anastasia | Beauty in IT<br>- комментов: 5 (0.03%)<br>- любимые каналы: 2000–10000",
          "AnutKu<br>- комментов: 1 (0.01%)<br>- любимые каналы: 10000+",
          "Artem Ryblov’s Data Science Weekly<br>- комментов: 10 (0.06%)<br>- любимые каналы: 2000–10000",
          "Artificial stupidity<br>- комментов: 1 (0.01%)<br>- любимые каналы: 10000+",
          "Askhabov Khamzat - Notes<br>- комментов: 1 (0.01%)<br>- любимые каналы: 2000–10000",
          "Avito| Хлам, Продажи, Успех, Неудачи😁<br>- комментов: 1 (0.01%)<br>- любимые каналы: 100–500",
          "Balu_путешествия<br>- комментов: 4 (0.02%)<br>- любимые каналы: 2000–10000",
          "Anasta | Аналитика для аналитиков<br>- комментов: 6 (0.03%)<br>- любимые каналы: 2000–10000",
          "Bear's Mind<br>- комментов: 109 (0.63%)<br>- любимые каналы: 100–500",
          "Big Ledovsky | блог DS лида<br>- комментов: 47 (0.27%)<br>- любимые каналы: 500–2000",
          "CAT mommy, распаковки, бьюти<br>- комментов: 1 (0.01%)<br>- любимые каналы: 1–100",
          "CODE:DARIA<br>- комментов: 7 (0.04%)<br>- любимые каналы: 2000–10000",
          "CRP. Исследования, продукт и карьера<br>- комментов: 6 (0.03%)<br>- любимые каналы: 10000+",
          "Coffee talk с Беляевой<br>- комментов: 9 (0.05%)<br>- любимые каналы: 2000–10000",
          "Cultural fit && predict()<br>- комментов: 3 (0.02%)<br>- любимые каналы: 10000+",
          "DAS | i25.tech<br>- комментов: 6 (0.03%)<br>- любимые каналы: 100–500",
          "Beautiful🌌<br>- комментов: 2 (0.01%)<br>- любимые каналы: 500–2000",
          "DATA SUETIST<br>- комментов: 9 (0.05%)<br>- любимые каналы: 500–2000",
          "Analytics Engineer в мире данных<br>- комментов: 2 (0.01%)<br>- любимые каналы: 500–2000",
          "Analyst’s day<br>- комментов: 5 (0.03%)<br>- любимые каналы: 10000+",
          "... И ещё я побегал | Павел Потапов<br>- комментов: 15 (0.09%)<br>- любимые каналы: 500–2000",
          ".......<br>- комментов: 1 (0.01%)<br>- любимые каналы: 10000+",
          "1<br>- комментов: 26 (0.15%)<br>- любимые каналы: 500–2000",
          "23<br>- комментов: 5 (0.03%)<br>- любимые каналы: 10000+",
          "33_bits_of_entropy<br>- комментов: 1 (0.01%)<br>- любимые каналы: 2000–10000",
          "3D: дом, дети, дело<br>- комментов: 2 (0.01%)<br>- любимые каналы: 500–2000",
          "4 ипотеки, небоскреб и Эмираты<br>- комментов: 14 (0.08%)<br>- любимые каналы: 500–2000",
          "Analytics Avenue<br>- комментов: 1 (0.01%)<br>- любимые каналы: 2000–10000",
          "@bogdan_delek updates<br>- комментов: 6 (0.03%)<br>- любимые каналы: 2000–10000",
          "AI и грабли<br>- комментов: 1 (0.01%)<br>- любимые каналы: 10000+",
          "AI, больно! | Рома Филонов<br>- комментов: 2 (0.01%)<br>- любимые каналы: 10000+",
          "AI/ML Careers Hub<br>- комментов: 1 (0.01%)<br>- любимые каналы: 2000–10000",
          "ART ANALITIC<br>- комментов: 1 (0.01%)<br>- любимые каналы: 500–2000",
          "Alina | International career<br>- комментов: 1 (0.01%)<br>- любимые каналы: 2000–10000",
          "Analyst Dementor<br>- комментов: 9 (0.05%)<br>- любимые каналы: 500–2000",
          "Analyst чел<br>- комментов: 93 (0.54%)<br>- любимые каналы: 2000–10000",
          "A/B Testicles<br>- комментов: 6 (0.03%)<br>- любимые каналы: 2000–10000",
          "DE<br>- комментов: 1 (0.01%)<br>- любимые каналы: 10000+",
          "Daniilak — Канал<br>- комментов: 2 (0.01%)<br>- любимые каналы: 2000–10000",
          "Data & IT Career<br>- комментов: 31 (0.18%)<br>- любимые каналы: 2000–10000",
          "Donald.cpp<br>- комментов: 6 (0.03%)<br>- любимые каналы: 2000–10000",
          "Dust and desky life<br>- комментов: 4 (0.02%)<br>- любимые каналы: 2000–10000",
          "DziS Science | Data Science<br>- комментов: 42 (0.24%)<br>- любимые каналы: 2000–10000",
          "EXPLAIN | Магомед Мурадалиев<br>- комментов: 9 (0.05%)<br>- любимые каналы: 2000–10000",
          "Egorov Invest<br>- комментов: 6 (0.03%)<br>- любимые каналы: 2000–10000",
          "ElenaCodes<br>- комментов: 2 (0.01%)<br>- любимые каналы: 2000–10000",
          "Everlasting Loops – Mobile | Android | Kotlin<br>- комментов: 1 (0.01%)<br>- любимые каналы: 10000+",
          "Dominica Luz<br>- комментов: 1 (0.01%)<br>- любимые каналы: 2000–10000",
          "FSTD (from student to doctor)<br>- комментов: 5 (0.03%)<br>- любимые каналы: 2000–10000",
          "GenAI monitor<br>- комментов: 1 (0.01%)<br>- любимые каналы: 10000+",
          "GivE'n'TimE<br>- комментов: 63 (0.36%)<br>- любимые каналы: 10000+",
          "HR DATA<br>- комментов: 1 (0.01%)<br>- любимые каналы: 2000–10000",
          "HR, подбери!<br>- комментов: 15 (0.09%)<br>- любимые каналы: 2000–10000",
          "Healing the world with comedy<br>- комментов: 2 (0.01%)<br>- любимые каналы: 10000+",
          "HomieWriter<br>- комментов: 8 (0.05%)<br>- любимые каналы: 500–2000",
          "IT Meeting - митапы и конференции по разработке<br>- комментов: 1 (0.01%)<br>- любимые каналы: 10000+",
          "FrontLine<br>- комментов: 3 (0.02%)<br>- любимые каналы: 2000–10000",
          "Doc Ramichos<br>- комментов: 1 (0.01%)<br>- любимые каналы: 10000+",
          "Digital Ниндзя<br>- комментов: 1 (0.01%)<br>- любимые каналы: 500–2000",
          "DevOps Lounge by Даня | Docker, k8s, Python, CI/CD<br>- комментов: 2 (0.01%)<br>- любимые каналы: 2000–10000",
          "Data & Philosophy<br>- комментов: 104 (0.6%)<br>- любимые каналы: 2000–10000",
          "Data Engineer Lab<br>- комментов: 60 (0.35%)<br>- любимые каналы: 500–2000",
          "Data Engineering Digest<br>- комментов: 12 (0.07%)<br>- любимые каналы: 500–2000",
          "Data Express<br>- комментов: 18 (0.1%)<br>- любимые каналы: 500–2000",
          "Data Freak<br>- комментов: 1 (0.01%)<br>- любимые каналы: 500–2000",
          "Data Science FJTS<br>- комментов: 1 (0.01%)<br>- любимые каналы: 2000–10000",
          "Data Science Memes<br>- комментов: 22 (0.13%)<br>- любимые каналы: 2000–10000",
          "Data Whisperer<br>- комментов: 6 (0.03%)<br>- любимые каналы: 2000–10000",
          "Data Wondering<br>- комментов: 1 (0.01%)<br>- любимые каналы: 500–2000",
          "Data Инженерия<br>- комментов: 1 (0.01%)<br>- любимые каналы: 2000–10000",
          "Data-вдохновленные | KuzminaSH<br>- комментов: 105 (0.61%)<br>- любимые каналы: 2000–10000",
          "Dataism<br>- комментов: 36 (0.21%)<br>- любимые каналы: 2000–10000",
          "Dataлень: жизнь аналитика<br>- комментов: 96 (0.56%)<br>- любимые каналы: 500–2000",
          "Debug головного мозга<br>- комментов: 3 (0.02%)<br>- любимые каналы: 10000+",
          "Derp Learning<br>- комментов: 1 (0.01%)<br>- любимые каналы: 10000+",
          "DeusOps<br>- комментов: 5 (0.03%)<br>- любимые каналы: 2000–10000",
          "Dev Easy Notes | Дистилят Кумыса<br>- комментов: 2 (0.01%)<br>- любимые каналы: 2000–10000",
          "The Product Samurai<br>- комментов: 2 (0.01%)<br>- любимые каналы: 500–2000",
          "Дневник Трампа | Инвестиции<br>- комментов: 1 (0.01%)<br>- любимые каналы: 100–500",
          "Things Anakin Did Wrong<br>- комментов: 1 (0.01%)<br>- любимые каналы: 10000+",
          "UK<br>- комментов: 1 (0.01%)<br>- любимые каналы: 2000–10000",
          "Вероника🌻<br>- комментов: 1 (0.01%)<br>- любимые каналы: 2000–10000",
          "Вестник Всего<br>- комментов: 3 (0.02%)<br>- любимые каналы: 100–500",
          "Весёлый PM<br>- комментов: 1 (0.01%)<br>- любимые каналы: 10000+",
          "Вика в архитектуре<br>- комментов: 1 (0.01%)<br>- любимые каналы: 2000–10000",
          "Вика🫶<br>- комментов: 1 (0.01%)<br>- любимые каналы: 10000+",
          "ВкусВилл 🥐<br>- комментов: 2 (0.01%)<br>- любимые каналы: 2000–10000",
          "Влад Разукрантов | Саморазвитие Книги Инвестиции<br>- комментов: 35 (0.2%)<br>- любимые каналы: 2000–10000",
          "Вероника решает...написать<br>- комментов: 1 (0.01%)<br>- любимые каналы: 2000–10000",
          "Владислав Князев<br>- комментов: 1 (0.01%)<br>- любимые каналы: 2000–10000",
          "Вместе читаем и слушаем<br>- комментов: 3 (0.02%)<br>- любимые каналы: 2000–10000",
          "Во все модные<br>- комментов: 8 (0.05%)<br>- любимые каналы: 500–2000",
          "Вова - Машина Дикая Бешеная<br>- комментов: 2 (0.01%)<br>- любимые каналы: 2000–10000",
          "Все о мошенниках и их схемах<br>- комментов: 2 (0.01%)<br>- любимые каналы: 500–2000",
          "Вступить в Диванные Данные<br>- комментов: 1 (0.01%)<br>- любимые каналы: 500–2000",
          "Всё ты можешь<br>- комментов: 5 (0.03%)<br>- любимые каналы: 2000–10000",
          "Вы забыли про дедлайн | заметки менеджера<br>- комментов: 1 (0.01%)<br>- любимые каналы: 2000–10000",
          "Владоньезе<br>- комментов: 1 (0.01%)<br>- любимые каналы: 10000+",
          "Вы нам не подходите!<br>- комментов: 5 (0.03%)<br>- любимые каналы: 2000–10000",
          "Вера❤️<br>- комментов: 1 (0.01%)<br>- любимые каналы: 10000+",
          "Ванцян.404<br>- комментов: 3 (0.02%)<br>- любимые каналы: 2000–10000",
          "Астемир Иванов || Право и образование<br>- комментов: 1 (0.01%)<br>- любимые каналы: 2000–10000",
          "Базированный бизнес Три топора<br>- комментов: 1 (0.01%)<br>- любимые каналы: 10000+",
          "Биологические беруши<br>- комментов: 1 (0.01%)<br>- любимые каналы: 10000+",
          "Блестящий босс<br>- комментов: 6 (0.03%)<br>- любимые каналы: 2000–10000",
          "Блудни модной мамочки<br>- комментов: 1 (0.01%)<br>- любимые каналы: 1–100",
          "Богдан Эрнестович<br>- комментов: 6 (0.03%)<br>- любимые каналы: 500–2000",
          "Борис опять<br>- комментов: 3 (0.02%)<br>- любимые каналы: 10000+",
          "Ваш личный генподрядчик в недвижимости<br>- комментов: 2 (0.01%)<br>- любимые каналы: 2000–10000",
          "Бородатая аналитика<br>- комментов: 25 (0.14%)<br>- любимые каналы: 500–2000",
          "Будни копирайтера😉<br>- комментов: 6 (0.03%)<br>- любимые каналы: 2000–10000",
          "Будни прожекта<br>- комментов: 6 (0.03%)<br>- любимые каналы: 2000–10000",
          "Бывший начальник. Теперь человек<br>- комментов: 11 (0.06%)<br>- любимые каналы: 2000–10000",
          "Бэла не Хадид<br>- комментов: 8 (0.05%)<br>- любимые каналы: 2000–10000",
          "Бюджет в деревне🌻<br>- комментов: 3 (0.02%)<br>- любимые каналы: 2000–10000",
          "В айти всегда солнечно<br>- комментов: 2 (0.01%)<br>- любимые каналы: 2000–10000",
          "В объятиях терапии<br>- комментов: 6 (0.03%)<br>- любимые каналы: 1–100",
          "Будни АвитоносЦа<br>- комментов: 2 (0.01%)<br>- любимые каналы: 500–2000",
          "Архитектор Данных<br>- комментов: 1 (0.01%)<br>- любимые каналы: 10000+",
          "Выйди и зайди в IT нормально | Агата Захарова<br>- комментов: 27 (0.16%)<br>- любимые каналы: 2000–10000",
          "Вытащил и показал // Менеджер проектов<br>- комментов: 2 (0.01%)<br>- любимые каналы: 100–500",
          "Дейтинг и мы<br>- комментов: 12 (0.07%)<br>- любимые каналы: 2000–10000",
          "Деликатный контур<br>- комментов: 11 (0.06%)<br>- любимые каналы: 1–100",
          "Ден растит метрики<br>- комментов: 107 (0.62%)<br>- любимые каналы: 500–2000",
          "Денис и аналитика<br>- комментов: 7 (0.04%)<br>- любимые каналы: 2000–10000",
          "Деньги есть/Личный бюджет в декрете<br>- комментов: 21 (0.12%)<br>- любимые каналы: 2000–10000",
          "Деньги ходят на работу<br>- комментов: 1 (0.01%)<br>- любимые каналы: 2000–10000",
          "Детектив данных<br>- комментов: 128 (0.74%)<br>- любимые каналы: 500–2000",
          "Дегустирую блеск<br>- комментов: 3 (0.02%)<br>- любимые каналы: 1–100",
          "Джи Джи Бин<br>- комментов: 1 (0.01%)<br>- любимые каналы: 2000–10000",
          "Диана💐<br>- комментов: 1 (0.01%)<br>- любимые каналы: 10000+",
          "Диванные Данные<br>- комментов: 97 (0.56%)<br>- любимые каналы: 500–2000",
          "💸Big Money Mommy💸<br>- комментов: 1 (0.01%)<br>- любимые каналы: 2000–10000",
          "Дима Кищенко | Напролом в IT<br>- комментов: 5 (0.03%)<br>- любимые каналы: 500–2000",
          "Директор болота<br>- комментов: 3 (0.02%)<br>- любимые каналы: 2000–10000",
          "Директор её мечты<br>- комментов: 1 (0.01%)<br>- любимые каналы: 2000–10000",
          "Дмитрий Карпов | философия продакта<br>- комментов: 2 (0.01%)<br>- любимые каналы: 500–2000",
          "Джун на фронте | IT Dev Log<br>- комментов: 70 (0.41%)<br>- любимые каналы: 2000–10000",
          "Выйти сухой из развода<br>- комментов: 1 (0.01%)<br>- любимые каналы: 2000–10000",
          "Дашок?Ок<br>- комментов: 3 (0.02%)<br>- любимые каналы: 500–2000",
          "Даша в мире UX-редакторов<br>- комментов: 1 (0.01%)<br>- любимые каналы: 500–2000",
          "Галина Галкина<br>- комментов: 8 (0.05%)<br>- любимые каналы: 10000+",
          "Гексоген в мешках [Морозов Иван]<br>- комментов: 1 (0.01%)<br>- любимые каналы: 10000+",
          "Гильдия аналитиков⚒️<br>- комментов: 6 (0.03%)<br>- любимые каналы: 2000–10000",
          "Глеб Козловский | На удаленке с кайфом<br>- комментов: 9 (0.05%)<br>- любимые каналы: 2000–10000",
          "ДФ<br>- комментов: 2 (0.01%)<br>- любимые каналы: 10000+",
          "Дама с каменьями<br>- комментов: 3 (0.02%)<br>- любимые каналы: 2000–10000",
          "Даниил Динько - IT & Nomads<br>- комментов: 4 (0.02%)<br>- любимые каналы: 500–2000",
          "Даша едет в Италию 🇮🇹<br>- комментов: 1 (0.01%)<br>- любимые каналы: 500–2000",
          "Данные по-большому<br>- комментов: 3 (0.02%)<br>- любимые каналы: 10000+",
          "Дата Инжир<br>- комментов: 23 (0.13%)<br>- любимые каналы: 2000–10000",
          "Дата аналитикс<br>- комментов: 137 (0.79%)<br>- любимые каналы: 2000–10000",
          "Дата канальи — про «специалистов» в данных / ML / AI<br>- комментов: 7 (0.04%)<br>- любимые каналы: 500–2000",
          "Дата-инженерские заметки<br>- комментов: 29 (0.17%)<br>- любимые каналы: 2000–10000",
          "Дата-сторителлинг<br>- комментов: 3 (0.02%)<br>- любимые каналы: 10000+",
          "Датавиз в BI • Алиса Ручкина<br>- комментов: 116 (0.67%)<br>- любимые каналы: 2000–10000",
          "Даша Путешественница<br>- комментов: 5 (0.03%)<br>- любимые каналы: 500–2000",
          "Дария с фонариком<br>- комментов: 1 (0.01%)<br>- любимые каналы: 2000–10000",
          "Артем Лещев / IT<br>- комментов: 10 (0.06%)<br>- любимые каналы: 2000–10000",
          "Арт-заметки Жюли<br>- комментов: 5 (0.03%)<br>- любимые каналы: 1–100",
          "Арина, меняй!<br>- комментов: 1 (0.01%)<br>- любимые каналы: 2000–10000",
          "data police 💻<br>- комментов: 5 (0.03%)<br>- любимые каналы: 2000–10000",
          "diva в dev-e<br>- комментов: 1 (0.01%)<br>- любимые каналы: 2000–10000",
          "dyomin.ru | Автоматизация процессов с ПланФикс<br>- комментов: 1 (0.01%)<br>- любимые каналы: 100–500",
          "fmin.xyz<br>- комментов: 2 (0.01%)<br>- любимые каналы: 10000+",
          "geekminded<br>- комментов: 6 (0.03%)<br>- любимые каналы: 2000–10000",
          "ilysm*<br>- комментов: 2 (0.01%)<br>- любимые каналы: 500–2000",
          "key concept<br>- комментов: 1 (0.01%)<br>- любимые каналы: 500–2000",
          "data dreamen<br>- комментов: 39 (0.23%)<br>- любимые каналы: 2000–10000",
          "ladoy<br>- комментов: 1 (0.01%)<br>- любимые каналы: 500–2000",
          "murz and data<br>- комментов: 13 (0.08%)<br>- любимые каналы: 500–2000",
          "proUX(R)<br>- комментов: 1 (0.01%)<br>- любимые каналы: 2000–10000",
          "r/tificial<br>- комментов: 3 (0.02%)<br>- любимые каналы: 10000+",
          "radiohorses<br>- комментов: 5 (0.03%)<br>- любимые каналы: 2000–10000",
          "rafanalytics<br>- комментов: 12 (0.07%)<br>- любимые каналы: 10000+",
          "road to 1%<br>- комментов: 1 (0.01%)<br>- любимые каналы: 2000–10000",
          "silverwind<br>- комментов: 1 (0.01%)<br>- любимые каналы: 2000–10000",
          "masenji пишет<br>- комментов: 2 (0.01%)<br>- любимые каналы: 2000–10000",
          "so far Sofa<br>- комментов: 3 (0.02%)<br>- любимые каналы: 500–2000",
          "crow talks<br>- комментов: 4 (0.02%)<br>- любимые каналы: 2000–10000",
          "build. backtest. believe.<br>- комментов: 6 (0.03%)<br>- любимые каналы: 2000–10000",
          "UfoStation<br>- комментов: 1 (0.01%)<br>- любимые каналы: 2000–10000",
          "Uncle Sami Club<br>- комментов: 1 (0.01%)<br>- любимые каналы: 2000–10000",
          "Unpossible<br>- комментов: 17 (0.1%)<br>- любимые каналы: 500–2000",
          "VILKY. Зарплаты в IT<br>- комментов: 1 (0.01%)<br>- любимые каналы: 2000–10000",
          "Visioner<br>- комментов: 1 (0.01%)<br>- любимые каналы: 10000+",
          "V{IT}A ZAEBYMBA | Путь корпората<br>- комментов: 13 (0.08%)<br>- любимые каналы: 2000–10000",
          "WildRecSys<br>- комментов: 3 (0.02%)<br>- любимые каналы: 2000–10000",
          "chief ISUPOV cooks DS<br>- комментов: 1 (0.01%)<br>- любимые каналы: 2000–10000",
          "Willy Oak<br>- комментов: 1 (0.01%)<br>- любимые каналы: 10000+",
          "You look like a geek<br>- комментов: 1 (0.01%)<br>- любимые каналы: 500–2000",
          "abstracts with a human heart<br>- комментов: 1 (0.01%)<br>- любимые каналы: 10000+",
          "angel<br>- комментов: 2 (0.01%)<br>- любимые каналы: 500–2000",
          "asisakov<br>- комментов: 43 (0.25%)<br>- любимые каналы: 2000–10000",
          "average hype bizdev's channel<br>- комментов: 3 (0.02%)<br>- любимые каналы: 500–2000",
          "blonde marketing<br>- комментов: 6 (0.03%)<br>- любимые каналы: 2000–10000",
          "bravo_money talks<br>- комментов: 2 (0.01%)<br>- любимые каналы: 2000–10000",
          "Woman in house 404<br>- комментов: 6 (0.03%)<br>- любимые каналы: 100–500",
          "soft power<br>- комментов: 2 (0.01%)<br>- любимые каналы: 2000–10000",
          "soulfuldi | саморазвитие<br>- комментов: 1 (0.01%)<br>- любимые каналы: 2000–10000",
          "tempo_wizards<br>- комментов: 15 (0.09%)<br>- любимые каналы: 500–2000",
          "Аналитик без стажа🍕<br>- комментов: 30 (0.17%)<br>- любимые каналы: 2000–10000",
          "Аналитик в декрете<br>- комментов: 13 (0.08%)<br>- любимые каналы: 2000–10000",
          "Аналитик в пути<br>- комментов: 7 (0.04%)<br>- любимые каналы: 2000–10000",
          "Аналитик на минималках<br>- комментов: 4 (0.02%)<br>- любимые каналы: 500–2000",
          "Аналитик по жизни<br>- комментов: 3 (0.02%)<br>- любимые каналы: 500–2000",
          "Аналитик сюра<br>- комментов: 2 (0.01%)<br>- любимые каналы: 500–2000",
          "Аналитика данных / Data Study<br>- комментов: 2 (0.01%)<br>- любимые каналы: 500–2000",
          "Аналитик | самозванец?<br>- комментов: 10 (0.06%)<br>- любимые каналы: 2000–10000",
          "Аналитика на вырост<br>- комментов: 29 (0.17%)<br>- любимые каналы: 500–2000",
          "Аналитики СПБ | Data & Dev<br>- комментов: 1 (0.01%)<br>- любимые каналы: 500–2000",
          "Аналитим аналитиков<br>- комментов: 2 (0.01%)<br>- любимые каналы: 2000–10000",
          "Аналитический Инженер<br>- комментов: 92 (0.53%)<br>- любимые каналы: 500–2000",
          "Аналитический шок 🤯✍️<br>- комментов: 28 (0.16%)<br>- любимые каналы: 2000–10000",
          "Андрей Авраменко | Сила Дисциплины<br>- комментов: 1 (0.01%)<br>- любимые каналы: 2000–10000",
          "Антон тут пишет<br>- комментов: 1 (0.01%)<br>- любимые каналы: 2000–10000",
          "Аня о капитале<br>- комментов: 19 (0.11%)<br>- любимые каналы: 100–500",
          "Аналитика: наука и магия<br>- комментов: 54 (0.31%)<br>- любимые каналы: 500–2000",
          "Аналитик in progress<br>- комментов: 96 (0.56%)<br>- любимые каналы: 2000–10000",
          "Алла🫦<br>- комментов: 1 (0.01%)<br>- любимые каналы: 2000–10000",
          "Алла • Managers' Lab<br>- комментов: 9 (0.05%)<br>- любимые каналы: 2000–10000",
          "victoria.nartdinova❤️‍🔥<br>- комментов: 2 (0.01%)<br>- любимые каналы: 2000–10000",
          "who is AI?<br>- комментов: 6 (0.03%)<br>- любимые каналы: 100–500",
          "with love, Catherine 🐈‍⬛<br>- комментов: 1 (0.01%)<br>- любимые каналы: 2000–10000",
          "work-chill balance<br>- комментов: 2 (0.01%)<br>- любимые каналы: 2000–10000",
          "youth&career | конкурсы и стажировки<br>- комментов: 1 (0.01%)<br>- любимые каналы: 2000–10000",
          "«Зачем?» | Заметки айтишника<br>- комментов: 1 (0.01%)<br>- любимые каналы: 2000–10000",
          "АДовый рисёрч<br>- комментов: 3 (0.02%)<br>- любимые каналы: 10000+",
          "АМНЯМ БЭКЕНДОВИЧ 💻💚<br>- комментов: 3 (0.02%)<br>- любимые каналы: 500–2000",
          "АРЛИФАНС<br>- комментов: 5 (0.03%)<br>- любимые каналы: 2000–10000",
          "Адарика | идти в айти<br>- комментов: 1 (0.01%)<br>- любимые каналы: 2000–10000",
          "Адвокат | Фисун 🧑‍⚖️<br>- комментов: 2 (0.01%)<br>- любимые каналы: 500–2000",
          "Айтишник обыкновенный 🐰<br>- комментов: 43 (0.25%)<br>- любимые каналы: 2000–10000",
          "Александр Тарарин и ML<br>- комментов: 8 (0.05%)<br>- любимые каналы: 2000–10000",
          "Александр Щибунов | Магия управления<br>- комментов: 3 (0.02%)<br>- любимые каналы: 2000–10000",
          "Алексеев Андрей | dsgn<br>- комментов: 1 (0.01%)<br>- любимые каналы: 2000–10000",
          "Алиса | Дневник бизнес-аналитика<br>- комментов: 8 (0.05%)<br>- любимые каналы: 2000–10000",
          "Алиска<br>- комментов: 1 (0.01%)<br>- любимые каналы: 2000–10000",
          "Think. Visualize<br>- комментов: 1 (0.01%)<br>- любимые каналы: 10000+",
          "🚀 Стартапы — это не страшно<br>- комментов: 2 (0.01%)<br>- любимые каналы: 10000+"
         ],
         "labels": [
          "Аналитесса-разработчица👩🏻‍💻💅🏻<br>- комментов: 2166 (12.53%)<br>- любимые каналы: 2000–10000",
          "IT-girl talks💗<br>- комментов: 767 (4.44%)<br>- любимые каналы: 2000–10000",
          "Крис про аналитику🧠🦾<br>- комментов: 362 (2.09%)<br>- любимые каналы: 2000–10000",
          "Data Дзен с Олегом Дмитриевым<br>- комментов: 270 (1.56%)<br>- любимые каналы: 500–2000",
          "Data Brew<br>- комментов: 319 (1.85%)<br>- любимые каналы: 2000–10000",
          "АННА В ДАННЫХ<br>- комментов: 504 (2.92%)<br>- любимые каналы: 500–2000",
          "Лягушачья аналитесса 🐸<br>- комментов: 358 (2.07%)<br>- любимые каналы: 500–2000",
          "Мысли Аналитика / Илья Колиев<br>- комментов: 214 (1.24%)<br>- любимые каналы: 500–2000",
          "Гусь ищет смысл (в данных)<br>- комментов: 181 (1.05%)<br>- любимые каналы: 2000–10000",
          "В потоке данных<br>- комментов: 188 (1.09%)<br>- любимые каналы: 2000–10000",
          "it пингвин | data engineer<br>- комментов: 410 (2.37%)<br>- любимые каналы: 500–2000",
          "English for IT•Даша Робуш<br>- комментов: 235 (1.36%)<br>- любимые каналы: 2000–10000",
          "Get Rejected<br>- комментов: 180 (1.04%)<br>- любимые каналы: 500–2000",
          "ETL Kitchen<br>- комментов: 217 (1.26%)<br>- любимые каналы: 500–2000",
          "Аналитическая кофейня | Анна Антонова ☕️<br>- комментов: 224 (1.3%)<br>- любимые каналы: 2000–10000",
          "Бегущий по лезвию данных<br>- комментов: 361 (2.09%)<br>- любимые каналы: 500–2000",
          "Поработали и хватит<br>- комментов: 191 (1.11%)<br>- любимые каналы: 500–2000",
          "Дима SQL-ит 🧑‍💻 (Аналитика данных)<br>- комментов: 413 (2.39%)<br>- любимые каналы: 500–2000",
          "Tatiana идёт к 300к в наносек<br>- комментов: 931 (5.39%)<br>- любимые каналы: 500–2000",
          "Из юриста в аналитики👾<br>- комментов: 1275 (7.38%)<br>- любимые каналы: 500–2000",
          "Кузнечные меха<br>- комментов: 4 (0.02%)<br>- любимые каналы: 2000–10000",
          "М3 | Проекты. Мысли. Гуакомоле<br>- комментов: 9 (0.05%)<br>- любимые каналы: 2000–10000",
          "Марина | Мечтай и действуй<br>- комментов: 1 (0.01%)<br>- любимые каналы: 2000–10000",
          "Марина Ахрамеева |Личный Бизнес - Дневник<br>- комментов: 16 (0.09%)<br>- любимые каналы: 2000–10000",
          "Марина любит деньги<br>- комментов: 6 (0.03%)<br>- любимые каналы: 2000–10000",
          "Кстати, я считаю<br>- комментов: 5 (0.03%)<br>- любимые каналы: 2000–10000",
          "Маркизов | Карьера, бабки и айти<br>- комментов: 13 (0.08%)<br>- любимые каналы: 100–500",
          "Крылова готовит<br>- комментов: 4 (0.02%)<br>- любимые каналы: 100–500",
          "Кровь, пот, слёзы и грабли<br>- комментов: 1 (0.01%)<br>- любимые каналы: 2000–10000",
          "Маслобойня деревни Иширик👀<br>- комментов: 8 (0.05%)<br>- любимые каналы: 500–2000",
          "Лукашевич Егор | IT Dojo<br>- комментов: 2 (0.01%)<br>- любимые каналы: 10000+",
          "Ксюш, определись!<br>- комментов: 2 (0.01%)<br>- любимые каналы: 500–2000",
          "Лечим эйай<br>- комментов: 2 (0.01%)<br>- любимые каналы: 2000–10000",
          "Кудряшка Ви 🦊<br>- комментов: 12 (0.07%)<br>- любимые каналы: 2000–10000",
          "Леновое настроение<br>- комментов: 9 (0.05%)<br>- любимые каналы: 2000–10000",
          "Лейла порешает<br>- комментов: 8 (0.05%)<br>- любимые каналы: 2000–10000",
          "Лев Корнев - Развитие продукта<br>- комментов: 6 (0.03%)<br>- любимые каналы: 2000–10000",
          "Куда бежим, Даш?<br>- комментов: 7 (0.04%)<br>- любимые каналы: 2000–10000",
          "Лана из телеграма<br>- комментов: 1 (0.01%)<br>- любимые каналы: 2000–10000",
          "Лабрадор на каждый день<br>- комментов: 2 (0.01%)<br>- любимые каналы: 500–2000",
          "Лаборатория Промптинга Замышляева<br>- комментов: 1 (0.01%)<br>- любимые каналы: 10000+",
          "Куда вёз мой чемодан?<br>- комментов: 2 (0.01%)<br>- любимые каналы: 2000–10000",
          "Кэт в деле<br>- комментов: 4 (0.02%)<br>- любимые каналы: 2000–10000",
          "Куча всякой бигдаты<br>- комментов: 5 (0.03%)<br>- любимые каналы: 2000–10000",
          "Кухонный Теоретик<br>- комментов: 113 (0.65%)<br>- любимые каналы: 2000–10000",
          "Кусочек пиццы<br>- комментов: 17 (0.1%)<br>- любимые каналы: 2000–10000",
          "Кудрявая о карьере<br>- комментов: 1 (0.01%)<br>- любимые каналы: 2000–10000",
          "Лина на нуле: кредитные хроники<br>- комментов: 1 (0.01%)<br>- любимые каналы: 2000–10000",
          "Матвей Косов<br>- комментов: 5 (0.03%)<br>- любимые каналы: 10000+",
          "(YaA) Yet another Analytic<br>- комментов: 20 (0.12%)<br>- любимые каналы: 500–2000",
          "Меня не заменят нейросети<br>- комментов: 2 (0.01%)<br>- любимые каналы: 1–100",
          "НейроБаза | Алексей Яндутов<br>- комментов: 1 (0.01%)<br>- любимые каналы: 2000–10000",
          "Нейронки и big data / Kirill Dumnov<br>- комментов: 129 (0.75%)<br>- любимые каналы: 500–2000",
          "Необычная Москва или где погулять в Москве<br>- комментов: 1 (0.01%)<br>- любимые каналы: 10000+",
          "Никита Ульшин про IT<br>- комментов: 5 (0.03%)<br>- любимые каналы: 2000–10000",
          "Новые стансы к Марти́ну Алексеевичу<br>- комментов: 6 (0.03%)<br>- любимые каналы: 10000+",
          "О, Юля!<br>- комментов: 1 (0.01%)<br>- любимые каналы: 2000–10000",
          "Один в поле воин<br>- комментов: 30 (0.17%)<br>- любимые каналы: 2000–10000",
          "Ольга Мокшина<br>- комментов: 1 (0.01%)<br>- любимые каналы: 2000–10000",
          "Падел в России × Padel.ru<br>- комментов: 5 (0.03%)<br>- любимые каналы: 500–2000",
          "Первый сверху | Алексадр Бисеров<br>- комментов: 3 (0.02%)<br>- любимые каналы: 500–2000",
          "Переходим в Дата Сайенс<br>- комментов: 4 (0.02%)<br>- любимые каналы: 500–2000",
          "Перипетии Мишиной жизни<br>- комментов: 20 (0.12%)<br>- любимые каналы: 2000–10000",
          "Пирожки и бары | про BI<br>- комментов: 71 (0.41%)<br>- любимые каналы: 2000–10000",
          "Пиши ёбко | Ольга Жукова<br>- комментов: 2 (0.01%)<br>- любимые каналы: 2000–10000",
          "Планинг Татум<br>- комментов: 3 (0.02%)<br>- любимые каналы: 2000–10000",
          "Подглядываем и катим<br>- комментов: 14 (0.08%)<br>- любимые каналы: 2000–10000",
          "Позовите Олега | Архитектура и разработка<br>- комментов: 5 (0.03%)<br>- любимые каналы: 2000–10000",
          "Недобрый католик<br>- комментов: 2 (0.01%)<br>- любимые каналы: 100–500",
          "Матемаркетинг: новости конференций<br>- комментов: 5 (0.03%)<br>- любимые каналы: 2000–10000",
          "НеОлигарх💰<br>- комментов: 1 (0.01%)<br>- любимые каналы: 100–500",
          "Не по головам<br>- комментов: 1 (0.01%)<br>- любимые каналы: 2000–10000",
          "Методом тыка<br>- комментов: 6 (0.03%)<br>- любимые каналы: 1–100",
          "Миллиард на Радаре<br>- комментов: 6 (0.03%)<br>- любимые каналы: 100–500",
          "Мир аналитика данных<br>- комментов: 27 (0.16%)<br>- любимые каналы: 2000–10000",
          "Миучча Рада<br>- комментов: 1 (0.01%)<br>- любимые каналы: 1–100",
          "Многоугольники<br>- комментов: 5 (0.03%)<br>- любимые каналы: 2000–10000",
          "Мудборд Горгоны<br>- комментов: 8 (0.05%)<br>- любимые каналы: 1–100",
          "Музыкальный Архитектор<br>- комментов: 4 (0.02%)<br>- любимые каналы: 2000–10000",
          "Мы вам не перезвоним<br>- комментов: 3 (0.02%)<br>- любимые каналы: 2000–10000",
          "Мысли в полусне<br>- комментов: 2 (0.01%)<br>- любимые каналы: 10000+",
          "Мысль на ночь<br>- комментов: 1 (0.01%)<br>- любимые каналы: 500–2000",
          "На связи: SQL<br>- комментов: 3 (0.02%)<br>- любимые каналы: 500–2000",
          "Наедине с собой<br>- комментов: 1 (0.01%)<br>- любимые каналы: 500–2000",
          "Наконец-то удобно<br>- комментов: 8 (0.05%)<br>- любимые каналы: 500–2000",
          "Настя Может и Авито<br>- комментов: 3 (0.02%)<br>- любимые каналы: 500–2000",
          "Начинающий продакт | Игорь Филипьев<br>- комментов: 5 (0.03%)<br>- любимые каналы: 2000–10000",
          "Не зис, а this<br>- комментов: 4 (0.02%)<br>- любимые каналы: 10000+",
          "Не плохой аналитик<br>- комментов: 2 (0.01%)<br>- любимые каналы: 500–2000",
          "Не туда<br>- комментов: 1 (0.01%)<br>- любимые каналы: 500–2000",
          "Мессенджер Мах<br>- комментов: 1 (0.01%)<br>- любимые каналы: 10000+",
          "Концептариум 🌀<br>- комментов: 3 (0.02%)<br>- любимые каналы: 10000+",
          "Кофе, Figma и подгузники<br>- комментов: 3 (0.02%)<br>- любимые каналы: 500–2000",
          "За границей МКАДа<br>- комментов: 1 (0.01%)<br>- любимые каналы: 2000–10000",
          "Завтра продакт • дневник<br>- комментов: 9 (0.05%)<br>- любимые каналы: 2000–10000",
          "Загорски, работай! [Данные и Проекты]🚀<br>- комментов: 5 (0.03%)<br>- любимые каналы: 2000–10000",
          "Задумчивая крыса<br>- комментов: 99 (0.57%)<br>- любимые каналы: 10000+",
          "Займитесь любовью!<br>- комментов: 1 (0.01%)<br>- любимые каналы: 2000–10000",
          "Заметки фронтендера👩🏻‍💻<br>- комментов: 11 (0.06%)<br>- любимые каналы: 2000–10000",
          "Записки Коммерсанта | Блог Алишера Фозилова<br>- комментов: 1 (0.01%)<br>- любимые каналы: 2000–10000",
          "ЗА ТРИДЕВЯТЬ ДЕРЕВЕНЬ<br>- комментов: 2 (0.01%)<br>- любимые каналы: 100–500",
          "Записки февралистки<br>- комментов: 1 (0.01%)<br>- любимые каналы: 2000–10000",
          "Зарплатник Продакта<br>- комментов: 1 (0.01%)<br>- любимые каналы: 10000+",
          "Заскуль питона (Data Science)<br>- комментов: 135 (0.78%)<br>- любимые каналы: 10000+",
          "Звуки змеюки<br>- комментов: 1 (0.01%)<br>- любимые каналы: 500–2000",
          "Здесь теперь будет мой блог<br>- комментов: 3 (0.02%)<br>- любимые каналы: 2000–10000",
          "Зима в Париже<br>- комментов: 3 (0.02%)<br>- любимые каналы: 2000–10000",
          "Змеиный код🐍<br>- комментов: 5 (0.03%)<br>- любимые каналы: 500–2000",
          "Зубрим аналитику 🦬<br>- комментов: 2 (0.01%)<br>- любимые каналы: 500–2000",
          "Зарплатник Аналитика<br>- комментов: 65 (0.38%)<br>- любимые каналы: 2000–10000",
          "И еще один бокал<br>- комментов: 1 (0.01%)<br>- любимые каналы: 2000–10000",
          "Жучим, как можем<br>- комментов: 1 (0.01%)<br>- любимые каналы: 2000–10000",
          "Жизнь в точках . . . Артур Герг<br>- комментов: 22 (0.13%)<br>- любимые каналы: 2000–10000",
          "Дневник трат жены программиста<br>- комментов: 12 (0.07%)<br>- любимые каналы: 2000–10000",
          "Дневник трейдера • tradingmania.ru<br>- комментов: 7 (0.04%)<br>- любимые каналы: 100–500",
          "Дневник удовольствий<br>- комментов: 1 (0.01%)<br>- любимые каналы: 2000–10000",
          "Доказательный Мозг | Даша Ухлинова<br>- комментов: 3 (0.02%)<br>- любимые каналы: 10000+",
          "Доктор, у нас баг<br>- комментов: 1 (0.01%)<br>- любимые каналы: 2000–10000",
          "Документация души | SA Kate<br>- комментов: 17 (0.1%)<br>- любимые каналы: 2000–10000",
          "Дольче вита вскрыта<br>- комментов: 5 (0.03%)<br>- любимые каналы: 1–100",
          "Жизнь хитрее наших планов<br>- комментов: 17 (0.1%)<br>- любимые каналы: 2000–10000",
          "Домашняя Кошка<br>- комментов: 9 (0.05%)<br>- любимые каналы: 1–100",
          "Дратути Антон<br>- комментов: 5 (0.03%)<br>- любимые каналы: 2000–10000",
          "Думай как аналитик<br>- комментов: 2 (0.01%)<br>- любимые каналы: 2000–10000",
          "Душевная раздевалка<br>- комментов: 25 (0.14%)<br>- любимые каналы: 1–100",
          "Дьявол пишет пресс-релизы<br>- комментов: 3 (0.02%)<br>- любимые каналы: 500–2000",
          "Егор Литвиненко / Программирование<br>- комментов: 1 (0.01%)<br>- любимые каналы: 500–2000",
          "Еще 5 минуточек... Восстанавливаемся со Светланой<br>- комментов: 3 (0.02%)<br>- любимые каналы: 500–2000",
          "Жизнь в Москве<br>- комментов: 10 (0.06%)<br>- любимые каналы: 2000–10000",
          "Дорожка на три буквы📈<br>- комментов: 1 (0.01%)<br>- любимые каналы: 2000–10000",
          "Красота спасет мир🤍<br>- комментов: 1 (0.01%)<br>- любимые каналы: 1–100",
          "И смех, и грех, и туфли<br>- комментов: 4 (0.02%)<br>- любимые каналы: 1–100",
          "Иван Калита💰<br>- комментов: 1 (0.01%)<br>- любимые каналы: 2000–10000",
          "Кальянный патруль | Hookah Patrol<br>- комментов: 16 (0.09%)<br>- любимые каналы: 2000–10000",
          "Карьера и рефлексия<br>- комментов: 16 (0.09%)<br>- любимые каналы: 2000–10000",
          "Катим в прод | Александр Калыргин<br>- комментов: 5 (0.03%)<br>- любимые каналы: 2000–10000",
          "Катя | Психолог с ебанцой 18+<br>- комментов: 6 (0.03%)<br>- любимые каналы: 2000–10000",
          "Катя в плюсе 🌷<br>- комментов: 5 (0.03%)<br>- любимые каналы: 2000–10000",
          "Катя и legaltech 🍓<br>- комментов: 6 (0.03%)<br>- любимые каналы: 500–2000",
          "Катя, давай обсудим!<br>- комментов: 1 (0.01%)<br>- любимые каналы: 500–2000",
          "Как это работает!?<br>- комментов: 1 (0.01%)<br>- любимые каналы: 100–500",
          "Клуб анонимных аналитиков<br>- комментов: 2 (0.01%)<br>- любимые каналы: 10000+",
          "Когда все изменилось, Аня?! [18+]<br>- комментов: 5 (0.03%)<br>- любимые каналы: 2000–10000",
          "Козлова обо всем<br>- комментов: 4 (0.02%)<br>- любимые каналы: 2000–10000",
          "Колесников Кирилл - дневник📔✍️<br>- комментов: 5 (0.03%)<br>- любимые каналы: 2000–10000",
          "Коллега в телеге: Григорий Корнев о маркетинге и жизни<br>- комментов: 2 (0.01%)<br>- любимые каналы: 500–2000",
          "Коля Валиотти • Дата консалтинг<br>- комментов: 5 (0.03%)<br>- любимые каналы: 10000+",
          "Коробенкóва<br>- комментов: 3 (0.02%)<br>- любимые каналы: 500–2000",
          "Костя Балакин | Бегущий аналитик<br>- комментов: 1 (0.01%)<br>- любимые каналы: 10000+",
          "Клуб тех, кому мало зарплаты<br>- комментов: 32 (0.19%)<br>- любимые каналы: 2000–10000",
          "ИТ блудни<br>- комментов: 69 (0.4%)<br>- любимые каналы: 2000–10000",
          "Как дела у Dashikiki<br>- комментов: 1 (0.01%)<br>- любимые каналы: 2000–10000",
          "КУЗНЕЦ<br>- комментов: 1 (0.01%)<br>- любимые каналы: 2000–10000",
          "Иван Репин<br>- комментов: 3 (0.02%)<br>- любимые каналы: 10000+",
          "Из Frontend в люди<br>- комментов: 1 (0.01%)<br>- любимые каналы: 2000–10000",
          "Из разраба в менеджеры<br>- комментов: 2 (0.01%)<br>- любимые каналы: 2000–10000",
          "Илья Донских<br>- комментов: 6 (0.03%)<br>- любимые каналы: 10000+",
          "Илья Крамник | Блогеры и продажи<br>- комментов: 18 (0.1%)<br>- любимые каналы: 2000–10000",
          "Илья в курсе<br>- комментов: 70 (0.41%)<br>- любимые каналы: 500–2000",
          "Инвесткопилка<br>- комментов: 3 (0.02%)<br>- любимые каналы: 100–500",
          "Как вырастить Илона Маска<br>- комментов: 3 (0.02%)<br>- любимые каналы: 1–100",
          "Инженер-Инвестор<br>- комментов: 1 (0.01%)<br>- любимые каналы: 100–500",
          "Инструментарий аналитика<br>- комментов: 1 (0.01%)<br>- любимые каналы: 2000–10000",
          "Интеллект в коде: Python, AI, Data Science<br>- комментов: 9 (0.05%)<br>- любимые каналы: 10000+",
          "Информационная эстетика<br>- комментов: 3 (0.02%)<br>- любимые каналы: 10000+",
          "Ира Пилявская | Жизнь после IT<br>- комментов: 4 (0.02%)<br>- любимые каналы: 500–2000",
          "Искусство обживания<br>- комментов: 1 (0.01%)<br>- любимые каналы: 1–100",
          "К чёрту диету!<br>- комментов: 1 (0.01%)<br>- любимые каналы: 1–100",
          "КАК ПРИГОТОВИТЬ PROEKT<br>- комментов: 117 (0.68%)<br>- любимые каналы: 2000–10000",
          "Инженерообязанный🫡 | Блог Дата Инженера<br>- комментов: 123 (0.71%)<br>- любимые каналы: 2000–10000",
          "Полицейский в e-commerce | Гошаев Илья<br>- комментов: 23 (0.13%)<br>- любимые каналы: 500–2000",
          "Практический эмоциональный интеллект<br>- комментов: 1 (0.01%)<br>- любимые каналы: 2000–10000",
          "Портфель подростка<br>- комментов: 5 (0.03%)<br>- любимые каналы: 100–500",
          "даблл<br>- комментов: 6 (0.03%)<br>- любимые каналы: 2000–10000",
          "дата инженеретта<br>- комментов: 55 (0.32%)<br>- любимые каналы: 2000–10000",
          "дважды первый 💥<br>- комментов: 1 (0.01%)<br>- любимые каналы: 500–2000",
          "декомпозиция и отвага<br>- комментов: 17 (0.1%)<br>- любимые каналы: 2000–10000",
          "джейсоноперекладчик<br>- комментов: 1 (0.01%)<br>- любимые каналы: 500–2000",
          "дневник Бриджит Джунс (de)👩‍💻💅<br>- комментов: 16 (0.09%)<br>- любимые каналы: 500–2000",
          "записки безработной 📝<br>- комментов: 1 (0.01%)<br>- любимые каналы: 2000–10000",
          "графиня вишня<br>- комментов: 6 (0.03%)<br>- любимые каналы: 500–2000",
          "заходи на чай! | булат про образование и бизнес<br>- комментов: 1 (0.01%)<br>- любимые каналы: 10000+",
          "и что сказать?<br>- комментов: 4 (0.02%)<br>- любимые каналы: 2000–10000",
          "ильи эпохе голоцена<br>- комментов: 1 (0.01%)<br>- любимые каналы: 2000–10000",
          "интересный персонаж<br>- комментов: 1 (0.01%)<br>- любимые каналы: 2000–10000",
          "картинки<br>- комментов: 1 (0.01%)<br>- любимые каналы: 2000–10000",
          "киновойс<br>- комментов: 2 (0.01%)<br>- любимые каналы: 100–500",
          "кризисные budni<br>- комментов: 4 (0.02%)<br>- любимые каналы: 500–2000",
          "культурный кофе & наука<br>- комментов: 3 (0.02%)<br>- любимые каналы: 2000–10000",
          "здесь и сейчас<br>- комментов: 2 (0.01%)<br>- любимые каналы: 1–100",
          "всё о телеге, кроме колёс<br>- комментов: 1 (0.01%)<br>- любимые каналы: 1–100",
          "всем похуй)<br>- комментов: 5 (0.03%)<br>- любимые каналы: 10000+",
          "вОля в медиа<br>- комментов: 1 (0.01%)<br>- любимые каналы: 2000–10000",
          "Чё где дом ? 🏕<br>- комментов: 1 (0.01%)<br>- любимые каналы: 2000–10000",
          "ЭТО МОЯ СТИХИЯ<br>- комментов: 1 (0.01%)<br>- любимые каналы: 500–2000",
          "Эдгар Каспарян | Life<br>- комментов: 1 (0.01%)<br>- любимые каналы: 2000–10000",
          "Экономлю на еде💵<br>- комментов: 1 (0.01%)<br>- любимые каналы: 2000–10000",
          "Экономлю, чтобы путешествовать<br>- комментов: 3 (0.02%)<br>- любимые каналы: 100–500",
          "Эмоции успеха | Елена Логачева<br>- комментов: 1 (0.01%)<br>- любимые каналы: 2000–10000",
          "Эрдэни GenAI инженер<br>- комментов: 6 (0.03%)<br>- любимые каналы: 500–2000",
          "Это База! | Эрик обучает!<br>- комментов: 1 (0.01%)<br>- любимые каналы: 10000+",
          "Это Радмир если че<br>- комментов: 3 (0.02%)<br>- любимые каналы: 100–500",
          "Это у меня везде<br>- комментов: 3 (0.02%)<br>- любимые каналы: 2000–10000",
          "Юлиана Керт | Бренд-персона<br>- комментов: 31 (0.18%)<br>- любимые каналы: 500–2000",
          "Юрист идеалист<br>- комментов: 1 (0.01%)<br>- любимые каналы: 2000–10000",
          "Яна 🍋 про Финансы<br>- комментов: 1 (0.01%)<br>- любимые каналы: 2000–10000",
          "а мышка?<br>- комментов: 2 (0.01%)<br>- любимые каналы: 1–100",
          "аналитика и ништячки<br>- комментов: 4 (0.02%)<br>- любимые каналы: 500–2000",
          "аналитика на кубах<br>- комментов: 8 (0.05%)<br>- любимые каналы: 2000–10000",
          "без доступа к почте<br>- комментов: 2 (0.01%)<br>- любимые каналы: 500–2000",
          "ми - ми<br>- комментов: 1 (0.01%)<br>- любимые каналы: 2000–10000",
          "Что делаешь в выхи?<br>- комментов: 2 (0.01%)<br>- любимые каналы: 2000–10000",
          "мюсли Анты<br>- комментов: 9 (0.05%)<br>- любимые каналы: 2000–10000",
          "наверное, миддл (frontend dev)<br>- комментов: 5 (0.03%)<br>- любимые каналы: 2000–10000",
          "эдсанутые<br>- комментов: 3 (0.02%)<br>- любимые каналы: 2000–10000",
          "☀️София<br>- комментов: 1 (0.01%)<br>- любимые каналы: 10000+",
          "☘💊Блог о здоровье<br>- комментов: 2 (0.01%)<br>- любимые каналы: 500–2000",
          "⚡️Варя☀️<br>- комментов: 1 (0.01%)<br>- любимые каналы: 10000+",
          "✈️ Тагир Отдыхает<br>- комментов: 1 (0.01%)<br>- любимые каналы: 2000–10000",
          "𝑴𝑶𝑨𝑵𝑲𝑲𝑨<br>- комментов: 1 (0.01%)<br>- любимые каналы: 500–2000",
          "𝖄𝖀𝕹𝕺𝕲𝕿𝕱𝕺<br>- комментов: 1 (0.01%)<br>- любимые каналы: 10000+",
          "шапка из клубники<br>- комментов: 3 (0.02%)<br>- любимые каналы: 2000–10000",
          "𝘥𝘦𝘢𝘭𝘦𝘯𝘹<br>- комментов: 3 (0.02%)<br>- любимые каналы: 2000–10000",
          "🌞 Твоя карта дня<br>- комментов: 1 (0.01%)<br>- любимые каналы: 500–2000",
          "🌸Ангелина🌸<br>- комментов: 1 (0.01%)<br>- любимые каналы: 2000–10000",
          "🎯365 шагов к МИЛЛИОНУ<br>- комментов: 2 (0.01%)<br>- любимые каналы: 100–500",
          "🐷<br>- комментов: 1 (0.01%)<br>- любимые каналы: 2000–10000",
          "👨🏻‍💻Кобозев Дмитрий | Создание сайтов<br>- комментов: 1 (0.01%)<br>- любимые каналы: 2000–10000",
          "💚 Just Hope | О шитье и айти 💚<br>- комментов: 2 (0.01%)<br>- любимые каналы: 500–2000",
          "💥Злата☀️<br>- комментов: 1 (0.01%)<br>- любимые каналы: 10000+",
          "🇩🇰 Denmark от первого лица<br>- комментов: 1 (0.01%)<br>- любимые каналы: 500–2000",
          "что-то пишу<br>- комментов: 12 (0.07%)<br>- любимые каналы: 2000–10000",
          "что-то на инженерном<br>- комментов: 2 (0.01%)<br>- любимые каналы: 500–2000",
          "что в Нутри? 🥗<br>- комментов: 5 (0.03%)<br>- любимые каналы: 2000–10000",
          "надо тестить<br>- комментов: 1 (0.01%)<br>- любимые каналы: 10000+",
          "нас тупило айти<br>- комментов: 6 (0.03%)<br>- любимые каналы: 2000–10000",
          "настенька и графики<br>- комментов: 1 (0.01%)<br>- любимые каналы: 10000+",
          "не теряй икигай<br>- комментов: 2 (0.01%)<br>- любимые каналы: 500–2000",
          "недизайны | by alex kovch<br>- комментов: 1 (0.01%)<br>- любимые каналы: 10000+",
          "нет дамы без огня<br>- комментов: 11 (0.06%)<br>- любимые каналы: 1–100",
          "ноль объект<br>- комментов: 2 (0.01%)<br>- любимые каналы: 500–2000",
          "отвратительные графики<br>- комментов: 2 (0.01%)<br>- любимые каналы: 500–2000",
          "писать легче, чем жить<br>- комментов: 4 (0.02%)<br>- любимые каналы: 500–2000",
          "платьишко для бенефиса<br>- комментов: 3 (0.02%)<br>- любимые каналы: 1–100",
          "почти наверное<br>- комментов: 5 (0.03%)<br>- любимые каналы: 500–2000",
          "сейф был вскрыт<br>- комментов: 2 (0.01%)<br>- любимые каналы: 2000–10000",
          "снимая маску<br>- комментов: 12 (0.07%)<br>- любимые каналы: 1–100",
          "ссу, но делаю<br>- комментов: 3 (0.02%)<br>- любимые каналы: 2000–10000",
          "твиттер уставшего айтишника<br>- комментов: 1 (0.01%)<br>- любимые каналы: 2000–10000",
          "тимлидбл*<br>- комментов: 1 (0.01%)<br>- любимые каналы: 2000–10000",
          "чвк python<br>- комментов: 10 (0.06%)<br>- любимые каналы: 500–2000",
          "на собес - без паники | карьерный консультант<br>- комментов: 1 (0.01%)<br>- любимые каналы: 500–2000",
          "Полтос? Не вопрос!<br>- комментов: 105 (0.61%)<br>- любимые каналы: 500–2000",
          "Четырнадцатая зарплата<br>- комментов: 1 (0.01%)<br>- любимые каналы: 100–500",
          "Чайная комната<br>- комментов: 7 (0.04%)<br>- любимые каналы: 500–2000",
          "Рилсация<br>- комментов: 7 (0.04%)<br>- любимые каналы: 500–2000",
          "Рисерчошная<br>- комментов: 5 (0.03%)<br>- любимые каналы: 10000+",
          "Рожден быть свободным !<br>- комментов: 3 (0.02%)<br>- любимые каналы: 2000–10000",
          "Рома Филев против FOMO<br>- комментов: 7 (0.04%)<br>- любимые каналы: 2000–10000",
          "Руковожоп<br>- комментов: 93 (0.54%)<br>- любимые каналы: 2000–10000",
          "Русский инвестор<br>- комментов: 3 (0.02%)<br>- любимые каналы: 2000–10000",
          "Рустамъ Excel 📊<br>- комментов: 8 (0.05%)<br>- любимые каналы: 2000–10000",
          "Развитие в IT | Олег Андриянов<br>- комментов: 7 (0.04%)<br>- любимые каналы: 2000–10000",
          "С ИНЖЕНЕРНОЙ ТОЧКИ ЗРЕНИЯ 🚧 Производство, залипалки, интересный контент, юмор, наука, технологии, авто, тяжёлая техника 🚧<br>- комментов: 1 (0.01%)<br>- любимые каналы: 2000–10000",
          "Саша | Пишу о своих путешествиях<br>- комментов: 2 (0.01%)<br>- любимые каналы: 10000+",
          "Света в Валенсии<br>- комментов: 12 (0.07%)<br>- любимые каналы: 500–2000",
          "Семейка продактов<br>- комментов: 11 (0.06%)<br>- любимые каналы: 500–2000",
          "Семейная экономика 🧮<br>- комментов: 19 (0.11%)<br>- любимые каналы: 100–500",
          "Сенаторов.head()<br>- комментов: 32 (0.19%)<br>- любимые каналы: 500–2000",
          "Сергей Пикулин | Аналитика, менторство и немного личного<br>- комментов: 5 (0.03%)<br>- любимые каналы: 2000–10000",
          "Сила слов<br>- комментов: 2 (0.01%)<br>- любимые каналы: 2000–10000",
          "СТАРТАП ИСТОРИИ<br>- комментов: 1 (0.01%)<br>- любимые каналы: 2000–10000",
          "Разбудите в будни<br>- комментов: 7 (0.04%)<br>- любимые каналы: 1–100",
          "Путь Аналитика | Данилов Роман<br>- комментов: 7 (0.04%)<br>- любимые каналы: 2000–10000",
          "Психология без мракобесия<br>- комментов: 2 (0.01%)<br>- любимые каналы: 2000–10000",
          "Дневник системного аналитика<br>- комментов: 4 (0.02%)<br>- любимые каналы: 500–2000",
          "Прикройте гештальт<br>- комментов: 3 (0.02%)<br>- любимые каналы: 500–2000",
          "Проблема не в данных | Aня Себедаш<br>- комментов: 1 (0.01%)<br>- любимые каналы: 500–2000",
          "Программистка-гуманитарий<br>- комментов: 8 (0.05%)<br>- любимые каналы: 2000–10000",
          "Продакт Амплеев<br>- комментов: 4 (0.02%)<br>- любимые каналы: 2000–10000",
          "Продакт из Голландии | Марина Малых<br>- комментов: 8 (0.05%)<br>- любимые каналы: 2000–10000",
          "Продакт поехал | Илья Лягушенко<br>- комментов: 2 (0.01%)<br>- любимые каналы: 500–2000",
          "Проджект в деталях | Катя<br>- комментов: 3 (0.02%)<br>- любимые каналы: 2000–10000",
          "Продукт и рост | Яна Доценко<br>- комментов: 5 (0.03%)<br>- любимые каналы: 2000–10000",
          "Продукт, IT и жизнь / Александра<br>- комментов: 36 (0.21%)<br>- любимые каналы: 2000–10000",
          "Продуктовые будни | Настя Шендрик<br>- комментов: 6 (0.03%)<br>- любимые каналы: 500–2000",
          "Продуктовые заметки<br>- комментов: 9 (0.05%)<br>- любимые каналы: 500–2000",
          "Проекты иcчезают в полдень<br>- комментов: 12 (0.07%)<br>- любимые каналы: 500–2000",
          "Прорабство – взрослая жизнь и ремонт<br>- комментов: 6 (0.03%)<br>- любимые каналы: 2000–10000",
          "Просто Аня<br>- комментов: 6 (0.03%)<br>- любимые каналы: 500–2000",
          "Просто чел из АЙТИ<br>- комментов: 163 (0.94%)<br>- любимые каналы: 2000–10000",
          "Психолог для тревожных Анна М.<br>- комментов: 10 (0.06%)<br>- любимые каналы: 500–2000",
          "Системный анализ на максималках<br>- комментов: 101 (0.58%)<br>- любимые каналы: 2000–10000",
          "Чебурасика 🧶<br>- комментов: 2 (0.01%)<br>- любимые каналы: 500–2000",
          "Системный аналитик в финтехе/ Системный анализ/<br>- комментов: 9 (0.05%)<br>- любимые каналы: 2000–10000",
          "Скиллы интроверта<br>- комментов: 4 (0.02%)<br>- любимые каналы: 2000–10000",
          "Технопродакт<br>- комментов: 4 (0.02%)<br>- любимые каналы: 2000–10000",
          "Тимлидошная<br>- комментов: 5 (0.03%)<br>- любимые каналы: 2000–10000",
          "Тимоти, но не Шаламе<br>- комментов: 1 (0.01%)<br>- любимые каналы: 2000–10000",
          "Толковая мать<br>- комментов: 2 (0.01%)<br>- любимые каналы: 1–100",
          "Тостер Скрипт<br>- комментов: 1 (0.01%)<br>- любимые каналы: 10000+",
          "Тултип | UX UI<br>- комментов: 1 (0.01%)<br>- любимые каналы: 10000+",
          "Убежище аналитика<br>- комментов: 33 (0.19%)<br>- любимые каналы: 2000–10000",
          "Техножрица 👩‍💻👩‍🏫👩‍🔧<br>- комментов: 14 (0.08%)<br>- любимые каналы: 10000+",
          "Удалёнка в IT | Анисимов<br>- комментов: 4 (0.02%)<br>- любимые каналы: 10000+",
          "Фанклуб свидетелей Егора Коновалова<br>- комментов: 1 (0.01%)<br>- любимые каналы: 2000–10000",
          "Филипп | Карьера | Инсайты<br>- комментов: 1 (0.01%)<br>- любимые каналы: 10000+",
          "Фича, ошибка и собес<br>- комментов: 3 (0.02%)<br>- любимые каналы: 10000+",
          "Футбольная карта 🗺️<br>- комментов: 1 (0.01%)<br>- любимые каналы: 500–2000",
          "Хороший код: алгоритмы, оптимизация и чистый код<br>- комментов: 1 (0.01%)<br>- любимые каналы: 2000–10000",
          "Хромой Бард<br>- комментов: 2 (0.01%)<br>- любимые каналы: 10000+",
          "Цитаты из книг, которые я прочитал<br>- комментов: 1 (0.01%)<br>- любимые каналы: 2000–10000",
          "Учись у лучших: кейсы каждый день<br>- комментов: 1 (0.01%)<br>- любимые каналы: 2000–10000",
          "Тестирую жизнь<br>- комментов: 12 (0.07%)<br>- любимые каналы: 2000–10000",
          "Тест<br>- комментов: 2 (0.01%)<br>- любимые каналы: 2000–10000",
          "Теневой маньяк<br>- комментов: 1 (0.01%)<br>- любимые каналы: 2000–10000",
          "Скуфъ инжинирингъ 🇷🇺<br>- комментов: 4 (0.02%)<br>- любимые каналы: 10000+",
          "Слезы продакта<br>- комментов: 1 (0.01%)<br>- любимые каналы: 2000–10000",
          "Случайные записки<br>- комментов: 6 (0.03%)<br>- любимые каналы: 1–100",
          "Собеседовошная<br>- комментов: 1 (0.01%)<br>- любимые каналы: 2000–10000",
          "Соловей Ai Вей:<br>- комментов: 1 (0.01%)<br>- любимые каналы: 2000–10000",
          "Сорвало крышечку<br>- комментов: 5 (0.03%)<br>- любимые каналы: 1–100",
          "Сохранить успели?<br>- комментов: 3 (0.02%)<br>- любимые каналы: 1–100",
          "Средненький контент | Антон Тарасов<br>- комментов: 1 (0.01%)<br>- любимые каналы: 2000–10000",
          "Средненький продакт | Антон Тарасов<br>- комментов: 28 (0.16%)<br>- любимые каналы: 2000–10000",
          "Статистика и R в науке и аналитике<br>- комментов: 4 (0.02%)<br>- любимые каналы: 2000–10000",
          "Студия персональных тренировок .<br>- комментов: 7 (0.04%)<br>- любимые каналы: 2000–10000",
          "Тагир Анализирует<br>- комментов: 105 (0.61%)<br>- любимые каналы: 2000–10000",
          "Таня Сатункина☀️автор из Краснодара<br>- комментов: 1 (0.01%)<br>- любимые каналы: 2000–10000",
          "Татьяна Ившина анализирует<br>- комментов: 22 (0.13%)<br>- любимые каналы: 2000–10000",
          "Твой ментор | Владислав Носковец<br>- комментов: 1 (0.01%)<br>- любимые каналы: 2000–10000",
          "Твоя подружка Ю<br>- комментов: 3 (0.02%)<br>- любимые каналы: 2000–10000",
          "Телеграм Софии<br>- комментов: 13 (0.08%)<br>- любимые каналы: 2000–10000",
          "Скатертью дорожка<br>- комментов: 9 (0.05%)<br>- любимые каналы: 1–100",
          "Дневник мамы на фрилансе.<br>- комментов: 3 (0.02%)<br>- любимые каналы: 2000–10000",
          "Дивидендная фабрика | Роман Кузнецов<br>- комментов: 10 (0.06%)<br>- любимые каналы: 100–500",
          "Дмитрий Кузьмин. Инженерия данных<br>- комментов: 6 (0.03%)<br>- любимые каналы: 500–2000",
          "Love. Death. Transformers.<br>- комментов: 1 (0.01%)<br>- любимые каналы: 2000–10000",
          "MILFAnalyst<br>- комментов: 100 (0.58%)<br>- любимые каналы: 500–2000",
          "ML Baldini • Nikita Boyandin<br>- комментов: 27 (0.16%)<br>- любимые каналы: 2000–10000",
          "ML-легушька<br>- комментов: 2 (0.01%)<br>- любимые каналы: 10000+",
          "Mad DevOps<br>- комментов: 1 (0.01%)<br>- любимые каналы: 10000+",
          "Malex | Алексей Малинский<br>- комментов: 22 (0.13%)<br>- любимые каналы: 10000+",
          "Management | София Глюзицкая<br>- комментов: 1 (0.01%)<br>- любимые каналы: 500–2000",
          "Lost in the data market<br>- комментов: 1 (0.01%)<br>- любимые каналы: 10000+",
          "Maxim.ML - канал<br>- комментов: 1 (0.01%)<br>- любимые каналы: 2000–10000",
          "MoneyFiction📚🎙️<br>- комментов: 1 (0.01%)<br>- любимые каналы: 10000+",
          "N айтишниц заходят в бар<br>- комментов: 70 (0.41%)<br>- любимые каналы: 500–2000",
          "Nasibov Live 👨🏻‍💻<br>- комментов: 1 (0.01%)<br>- любимые каналы: 2000–10000",
          "Nat Segal 💥<br>- комментов: 1 (0.01%)<br>- любимые каналы: 2000–10000",
          "NatAnalytics | Как я искала мужа и нашла<br>- комментов: 2 (0.01%)<br>- любимые каналы: 2000–10000",
          "No Data No Growth | Pavel Bukhtik<br>- комментов: 40 (0.23%)<br>- любимые каналы: 2000–10000",
          "Noukash<br>- комментов: 2 (0.01%)<br>- любимые каналы: 2000–10000",
          "Me and pandas<br>- комментов: 98 (0.57%)<br>- любимые каналы: 2000–10000",
          "Olga went to Harvard<br>- комментов: 1 (0.01%)<br>- любимые каналы: 2000–10000",
          "Lost in Data<br>- комментов: 40 (0.23%)<br>- любимые каналы: 500–2000",
          "Linkin Dev<br>- комментов: 7 (0.04%)<br>- любимые каналы: 2000–10000",
          "IT с человеческим лицом<br>- комментов: 1 (0.01%)<br>- любимые каналы: 100–500",
          "IT сеньорита / Наиля Галимова<br>- комментов: 1 (0.01%)<br>- любимые каналы: 500–2000",
          "IT's Арина🌪💗<br>- комментов: 103 (0.6%)<br>- любимые каналы: 2000–10000",
          "IT-путеводитель: Аналитика и Карьера<br>- комментов: 1 (0.01%)<br>- любимые каналы: 2000–10000",
          "IT-шница в декрете<br>- комментов: 32 (0.19%)<br>- любимые каналы: 2000–10000",
          "In search of time<br>- комментов: 1 (0.01%)<br>- любимые каналы: 10000+",
          "Inside Pro | Елизавета К<br>- комментов: 1 (0.01%)<br>- любимые каналы: 2000–10000",
          "LoFiCoder<br>- комментов: 9 (0.05%)<br>- любимые каналы: 10000+",
          "Investia<br>- комментов: 4 (0.02%)<br>- любимые каналы: 100–500",
          "Kali Novskaya<br>- комментов: 3 (0.02%)<br>- любимые каналы: 10000+",
          "Kalintseva | Powered by Marketing<br>- комментов: 3 (0.02%)<br>- любимые каналы: 2000–10000",
          "Knowledge Accumulator<br>- комментов: 1 (0.01%)<br>- любимые каналы: 2000–10000",
          "Kowalski, analyze!<br>- комментов: 59 (0.34%)<br>- любимые каналы: 2000–10000",
          "La vida | Andrey Y<br>- комментов: 6 (0.03%)<br>- любимые каналы: 500–2000",
          "Launch to be done! / Ilya Chapyshev<br>- комментов: 4 (0.02%)<br>- любимые каналы: 100–500",
          "Lines Of Code | Александр Бондаренко<br>- комментов: 110 (0.64%)<br>- любимые каналы: 2000–10000",
          "Ivan<br>- комментов: 1 (0.01%)<br>- любимые каналы: 2000–10000",
          "IT путь<br>- комментов: 8 (0.05%)<br>- любимые каналы: 500–2000",
          "Olga_notes ✨<br>- комментов: 1 (0.01%)<br>- любимые каналы: 2000–10000",
          "PRO Project Manager<br>- комментов: 6 (0.03%)<br>- любимые каналы: 2000–10000",
          "SaintBytеChannel<br>- комментов: 7 (0.04%)<br>- любимые каналы: 100–500",
          "Select * from аналитика<br>- комментов: 146 (0.84%)<br>- любимые каналы: 500–2000",
          "Select опять<br>- комментов: 119 (0.69%)<br>- любимые каналы: 500–2000",
          "Senatorov live<br>- комментов: 1 (0.01%)<br>- любимые каналы: 10000+",
          "Senatorov | Математический спецназ | Математика<br>- комментов: 20 (0.12%)<br>- любимые каналы: 10000+",
          "She thinks aloud 👩🏻‍💻 Настя<br>- комментов: 4 (0.02%)<br>- любимые каналы: 500–2000",
          "Shmya community 2.0 - канал<br>- комментов: 4 (0.02%)<br>- любимые каналы: 2000–10000",
          "SaaS Founders<br>- комментов: 4 (0.02%)<br>- любимые каналы: 2000–10000",
          "Stas Does Life<br>- комментов: 20 (0.12%)<br>- любимые каналы: 2000–10000",
          "StroyContent<br>- комментов: 9 (0.05%)<br>- любимые каналы: 500–2000",
          "Summerland | Тут читают 📚<br>- комментов: 1 (0.01%)<br>- любимые каналы: 2000–10000",
          "Switchers. Как сменить профессию<br>- комментов: 166 (0.96%)<br>- любимые каналы: 2000–10000",
          "TRÈS BIEN by code:daria<br>- комментов: 3 (0.02%)<br>- любимые каналы: 2000–10000",
          "Tattka ‘не только’ о стиле<br>- комментов: 1 (0.01%)<br>- любимые каналы: 100–500",
          "Tautological pleonasm<br>- комментов: 1 (0.01%)<br>- любимые каналы: 10000+",
          "TeamCity-фея🧚‍♀️ или деплой души🌸<br>- комментов: 38 (0.22%)<br>- любимые каналы: 2000–10000",
          "Stesh_a_Stesh<br>- комментов: 1 (0.01%)<br>- любимые каналы: 2000–10000",
          "Olya’s insights<br>- комментов: 1 (0.01%)<br>- любимые каналы: 500–2000",
          "SQL: Реляционные базы данных<br>- комментов: 66 (0.38%)<br>- любимые каналы: 500–2000",
          "SQL | Data Analytics<br>- комментов: 1 (0.01%)<br>- любимые каналы: 10000+",
          "PaPashaProger<br>- комментов: 8 (0.05%)<br>- любимые каналы: 500–2000",
          "Pacman<br>- комментов: 10 (0.06%)<br>- любимые каналы: 10000+",
          "Papa_investar<br>- комментов: 1 (0.01%)<br>- любимые каналы: 100–500",
          "Pavel Zloi<br>- комментов: 1 (0.01%)<br>- любимые каналы: 10000+",
          "Peskova. Записки event Бабы-Яги<br>- комментов: 3 (0.02%)<br>- любимые каналы: 2000–10000",
          "Postarnakov - Ru YouTube<br>- комментов: 1 (0.01%)<br>- любимые каналы: 2000–10000",
          "Product PULSE / Аня Фадеева<br>- комментов: 1 (0.01%)<br>- любимые каналы: 500–2000",
          "SQL Сомелье Show<br>- комментов: 3 (0.02%)<br>- любимые каналы: 10000+",
          "Product bro | Yakov Muzyka<br>- комментов: 1 (0.01%)<br>- любимые каналы: 500–2000",
          "Reflexions | Pekhterev D<br>- комментов: 1 (0.01%)<br>- любимые каналы: 500–2000",
          "Riemann Cavity<br>- комментов: 3 (0.02%)<br>- любимые каналы: 10000+",
          "RnD CV Team<br>- комментов: 1 (0.01%)<br>- любимые каналы: 10000+",
          "Road To BigTech<br>- комментов: 1 (0.01%)<br>- любимые каналы: 2000–10000",
          "SA | Разбор собеседований<br>- комментов: 19 (0.11%)<br>- любимые каналы: 2000–10000",
          "SAVI<br>- комментов: 1 (0.01%)<br>- любимые каналы: 2000–10000",
          "SERViLAN<br>- комментов: 1 (0.01%)<br>- любимые каналы: 100–500",
          "Project Manager в кармане<br>- комментов: 5 (0.03%)<br>- любимые каналы: 500–2000",
          "IT и баланс в жизни Маши ☕️<br>- комментов: 5 (0.03%)<br>- любимые каналы: 500–2000",
          "IT Reels<br>- комментов: 1 (0.01%)<br>- любимые каналы: 2000–10000",
          "IT Radar — митапы, конференции и техно-новости. IT Events<br>- комментов: 1 (0.01%)<br>- любимые каналы: 10000+",
          "Anastasia | Beauty in IT<br>- комментов: 5 (0.03%)<br>- любимые каналы: 2000–10000",
          "AnutKu<br>- комментов: 1 (0.01%)<br>- любимые каналы: 10000+",
          "Artem Ryblov’s Data Science Weekly<br>- комментов: 10 (0.06%)<br>- любимые каналы: 2000–10000",
          "Artificial stupidity<br>- комментов: 1 (0.01%)<br>- любимые каналы: 10000+",
          "Askhabov Khamzat - Notes<br>- комментов: 1 (0.01%)<br>- любимые каналы: 2000–10000",
          "Avito| Хлам, Продажи, Успех, Неудачи😁<br>- комментов: 1 (0.01%)<br>- любимые каналы: 100–500",
          "Balu_путешествия<br>- комментов: 4 (0.02%)<br>- любимые каналы: 2000–10000",
          "Anasta | Аналитика для аналитиков<br>- комментов: 6 (0.03%)<br>- любимые каналы: 2000–10000",
          "Bear's Mind<br>- комментов: 109 (0.63%)<br>- любимые каналы: 100–500",
          "Big Ledovsky | блог DS лида<br>- комментов: 47 (0.27%)<br>- любимые каналы: 500–2000",
          "CAT mommy, распаковки, бьюти<br>- комментов: 1 (0.01%)<br>- любимые каналы: 1–100",
          "CODE:DARIA<br>- комментов: 7 (0.04%)<br>- любимые каналы: 2000–10000",
          "CRP. Исследования, продукт и карьера<br>- комментов: 6 (0.03%)<br>- любимые каналы: 10000+",
          "Coffee talk с Беляевой<br>- комментов: 9 (0.05%)<br>- любимые каналы: 2000–10000",
          "Cultural fit && predict()<br>- комментов: 3 (0.02%)<br>- любимые каналы: 10000+",
          "DAS | i25.tech<br>- комментов: 6 (0.03%)<br>- любимые каналы: 100–500",
          "Beautiful🌌<br>- комментов: 2 (0.01%)<br>- любимые каналы: 500–2000",
          "DATA SUETIST<br>- комментов: 9 (0.05%)<br>- любимые каналы: 500–2000",
          "Analytics Engineer в мире данных<br>- комментов: 2 (0.01%)<br>- любимые каналы: 500–2000",
          "Analyst’s day<br>- комментов: 5 (0.03%)<br>- любимые каналы: 10000+",
          "... И ещё я побегал | Павел Потапов<br>- комментов: 15 (0.09%)<br>- любимые каналы: 500–2000",
          ".......<br>- комментов: 1 (0.01%)<br>- любимые каналы: 10000+",
          "1<br>- комментов: 26 (0.15%)<br>- любимые каналы: 500–2000",
          "23<br>- комментов: 5 (0.03%)<br>- любимые каналы: 10000+",
          "33_bits_of_entropy<br>- комментов: 1 (0.01%)<br>- любимые каналы: 2000–10000",
          "3D: дом, дети, дело<br>- комментов: 2 (0.01%)<br>- любимые каналы: 500–2000",
          "4 ипотеки, небоскреб и Эмираты<br>- комментов: 14 (0.08%)<br>- любимые каналы: 500–2000",
          "Analytics Avenue<br>- комментов: 1 (0.01%)<br>- любимые каналы: 2000–10000",
          "@bogdan_delek updates<br>- комментов: 6 (0.03%)<br>- любимые каналы: 2000–10000",
          "AI и грабли<br>- комментов: 1 (0.01%)<br>- любимые каналы: 10000+",
          "AI, больно! | Рома Филонов<br>- комментов: 2 (0.01%)<br>- любимые каналы: 10000+",
          "AI/ML Careers Hub<br>- комментов: 1 (0.01%)<br>- любимые каналы: 2000–10000",
          "ART ANALITIC<br>- комментов: 1 (0.01%)<br>- любимые каналы: 500–2000",
          "Alina | International career<br>- комментов: 1 (0.01%)<br>- любимые каналы: 2000–10000",
          "Analyst Dementor<br>- комментов: 9 (0.05%)<br>- любимые каналы: 500–2000",
          "Analyst чел<br>- комментов: 93 (0.54%)<br>- любимые каналы: 2000–10000",
          "A/B Testicles<br>- комментов: 6 (0.03%)<br>- любимые каналы: 2000–10000",
          "DE<br>- комментов: 1 (0.01%)<br>- любимые каналы: 10000+",
          "Daniilak — Канал<br>- комментов: 2 (0.01%)<br>- любимые каналы: 2000–10000",
          "Data & IT Career<br>- комментов: 31 (0.18%)<br>- любимые каналы: 2000–10000",
          "Donald.cpp<br>- комментов: 6 (0.03%)<br>- любимые каналы: 2000–10000",
          "Dust and desky life<br>- комментов: 4 (0.02%)<br>- любимые каналы: 2000–10000",
          "DziS Science | Data Science<br>- комментов: 42 (0.24%)<br>- любимые каналы: 2000–10000",
          "EXPLAIN | Магомед Мурадалиев<br>- комментов: 9 (0.05%)<br>- любимые каналы: 2000–10000",
          "Egorov Invest<br>- комментов: 6 (0.03%)<br>- любимые каналы: 2000–10000",
          "ElenaCodes<br>- комментов: 2 (0.01%)<br>- любимые каналы: 2000–10000",
          "Everlasting Loops – Mobile | Android | Kotlin<br>- комментов: 1 (0.01%)<br>- любимые каналы: 10000+",
          "Dominica Luz<br>- комментов: 1 (0.01%)<br>- любимые каналы: 2000–10000",
          "FSTD (from student to doctor)<br>- комментов: 5 (0.03%)<br>- любимые каналы: 2000–10000",
          "GenAI monitor<br>- комментов: 1 (0.01%)<br>- любимые каналы: 10000+",
          "GivE'n'TimE<br>- комментов: 63 (0.36%)<br>- любимые каналы: 10000+",
          "HR DATA<br>- комментов: 1 (0.01%)<br>- любимые каналы: 2000–10000",
          "HR, подбери!<br>- комментов: 15 (0.09%)<br>- любимые каналы: 2000–10000",
          "Healing the world with comedy<br>- комментов: 2 (0.01%)<br>- любимые каналы: 10000+",
          "HomieWriter<br>- комментов: 8 (0.05%)<br>- любимые каналы: 500–2000",
          "IT Meeting - митапы и конференции по разработке<br>- комментов: 1 (0.01%)<br>- любимые каналы: 10000+",
          "FrontLine<br>- комментов: 3 (0.02%)<br>- любимые каналы: 2000–10000",
          "Doc Ramichos<br>- комментов: 1 (0.01%)<br>- любимые каналы: 10000+",
          "Digital Ниндзя<br>- комментов: 1 (0.01%)<br>- любимые каналы: 500–2000",
          "DevOps Lounge by Даня | Docker, k8s, Python, CI/CD<br>- комментов: 2 (0.01%)<br>- любимые каналы: 2000–10000",
          "Data & Philosophy<br>- комментов: 104 (0.6%)<br>- любимые каналы: 2000–10000",
          "Data Engineer Lab<br>- комментов: 60 (0.35%)<br>- любимые каналы: 500–2000",
          "Data Engineering Digest<br>- комментов: 12 (0.07%)<br>- любимые каналы: 500–2000",
          "Data Express<br>- комментов: 18 (0.1%)<br>- любимые каналы: 500–2000",
          "Data Freak<br>- комментов: 1 (0.01%)<br>- любимые каналы: 500–2000",
          "Data Science FJTS<br>- комментов: 1 (0.01%)<br>- любимые каналы: 2000–10000",
          "Data Science Memes<br>- комментов: 22 (0.13%)<br>- любимые каналы: 2000–10000",
          "Data Whisperer<br>- комментов: 6 (0.03%)<br>- любимые каналы: 2000–10000",
          "Data Wondering<br>- комментов: 1 (0.01%)<br>- любимые каналы: 500–2000",
          "Data Инженерия<br>- комментов: 1 (0.01%)<br>- любимые каналы: 2000–10000",
          "Data-вдохновленные | KuzminaSH<br>- комментов: 105 (0.61%)<br>- любимые каналы: 2000–10000",
          "Dataism<br>- комментов: 36 (0.21%)<br>- любимые каналы: 2000–10000",
          "Dataлень: жизнь аналитика<br>- комментов: 96 (0.56%)<br>- любимые каналы: 500–2000",
          "Debug головного мозга<br>- комментов: 3 (0.02%)<br>- любимые каналы: 10000+",
          "Derp Learning<br>- комментов: 1 (0.01%)<br>- любимые каналы: 10000+",
          "DeusOps<br>- комментов: 5 (0.03%)<br>- любимые каналы: 2000–10000",
          "Dev Easy Notes | Дистилят Кумыса<br>- комментов: 2 (0.01%)<br>- любимые каналы: 2000–10000",
          "The Product Samurai<br>- комментов: 2 (0.01%)<br>- любимые каналы: 500–2000",
          "Дневник Трампа | Инвестиции<br>- комментов: 1 (0.01%)<br>- любимые каналы: 100–500",
          "Things Anakin Did Wrong<br>- комментов: 1 (0.01%)<br>- любимые каналы: 10000+",
          "UK<br>- комментов: 1 (0.01%)<br>- любимые каналы: 2000–10000",
          "Вероника🌻<br>- комментов: 1 (0.01%)<br>- любимые каналы: 2000–10000",
          "Вестник Всего<br>- комментов: 3 (0.02%)<br>- любимые каналы: 100–500",
          "Весёлый PM<br>- комментов: 1 (0.01%)<br>- любимые каналы: 10000+",
          "Вика в архитектуре<br>- комментов: 1 (0.01%)<br>- любимые каналы: 2000–10000",
          "Вика🫶<br>- комментов: 1 (0.01%)<br>- любимые каналы: 10000+",
          "ВкусВилл 🥐<br>- комментов: 2 (0.01%)<br>- любимые каналы: 2000–10000",
          "Влад Разукрантов | Саморазвитие Книги Инвестиции<br>- комментов: 35 (0.2%)<br>- любимые каналы: 2000–10000",
          "Вероника решает...написать<br>- комментов: 1 (0.01%)<br>- любимые каналы: 2000–10000",
          "Владислав Князев<br>- комментов: 1 (0.01%)<br>- любимые каналы: 2000–10000",
          "Вместе читаем и слушаем<br>- комментов: 3 (0.02%)<br>- любимые каналы: 2000–10000",
          "Во все модные<br>- комментов: 8 (0.05%)<br>- любимые каналы: 500–2000",
          "Вова - Машина Дикая Бешеная<br>- комментов: 2 (0.01%)<br>- любимые каналы: 2000–10000",
          "Все о мошенниках и их схемах<br>- комментов: 2 (0.01%)<br>- любимые каналы: 500–2000",
          "Вступить в Диванные Данные<br>- комментов: 1 (0.01%)<br>- любимые каналы: 500–2000",
          "Всё ты можешь<br>- комментов: 5 (0.03%)<br>- любимые каналы: 2000–10000",
          "Вы забыли про дедлайн | заметки менеджера<br>- комментов: 1 (0.01%)<br>- любимые каналы: 2000–10000",
          "Владоньезе<br>- комментов: 1 (0.01%)<br>- любимые каналы: 10000+",
          "Вы нам не подходите!<br>- комментов: 5 (0.03%)<br>- любимые каналы: 2000–10000",
          "Вера❤️<br>- комментов: 1 (0.01%)<br>- любимые каналы: 10000+",
          "Ванцян.404<br>- комментов: 3 (0.02%)<br>- любимые каналы: 2000–10000",
          "Астемир Иванов || Право и образование<br>- комментов: 1 (0.01%)<br>- любимые каналы: 2000–10000",
          "Базированный бизнес Три топора<br>- комментов: 1 (0.01%)<br>- любимые каналы: 10000+",
          "Биологические беруши<br>- комментов: 1 (0.01%)<br>- любимые каналы: 10000+",
          "Блестящий босс<br>- комментов: 6 (0.03%)<br>- любимые каналы: 2000–10000",
          "Блудни модной мамочки<br>- комментов: 1 (0.01%)<br>- любимые каналы: 1–100",
          "Богдан Эрнестович<br>- комментов: 6 (0.03%)<br>- любимые каналы: 500–2000",
          "Борис опять<br>- комментов: 3 (0.02%)<br>- любимые каналы: 10000+",
          "Ваш личный генподрядчик в недвижимости<br>- комментов: 2 (0.01%)<br>- любимые каналы: 2000–10000",
          "Бородатая аналитика<br>- комментов: 25 (0.14%)<br>- любимые каналы: 500–2000",
          "Будни копирайтера😉<br>- комментов: 6 (0.03%)<br>- любимые каналы: 2000–10000",
          "Будни прожекта<br>- комментов: 6 (0.03%)<br>- любимые каналы: 2000–10000",
          "Бывший начальник. Теперь человек<br>- комментов: 11 (0.06%)<br>- любимые каналы: 2000–10000",
          "Бэла не Хадид<br>- комментов: 8 (0.05%)<br>- любимые каналы: 2000–10000",
          "Бюджет в деревне🌻<br>- комментов: 3 (0.02%)<br>- любимые каналы: 2000–10000",
          "В айти всегда солнечно<br>- комментов: 2 (0.01%)<br>- любимые каналы: 2000–10000",
          "В объятиях терапии<br>- комментов: 6 (0.03%)<br>- любимые каналы: 1–100",
          "Будни АвитоносЦа<br>- комментов: 2 (0.01%)<br>- любимые каналы: 500–2000",
          "Архитектор Данных<br>- комментов: 1 (0.01%)<br>- любимые каналы: 10000+",
          "Выйди и зайди в IT нормально | Агата Захарова<br>- комментов: 27 (0.16%)<br>- любимые каналы: 2000–10000",
          "Вытащил и показал // Менеджер проектов<br>- комментов: 2 (0.01%)<br>- любимые каналы: 100–500",
          "Дейтинг и мы<br>- комментов: 12 (0.07%)<br>- любимые каналы: 2000–10000",
          "Деликатный контур<br>- комментов: 11 (0.06%)<br>- любимые каналы: 1–100",
          "Ден растит метрики<br>- комментов: 107 (0.62%)<br>- любимые каналы: 500–2000",
          "Денис и аналитика<br>- комментов: 7 (0.04%)<br>- любимые каналы: 2000–10000",
          "Деньги есть/Личный бюджет в декрете<br>- комментов: 21 (0.12%)<br>- любимые каналы: 2000–10000",
          "Деньги ходят на работу<br>- комментов: 1 (0.01%)<br>- любимые каналы: 2000–10000",
          "Детектив данных<br>- комментов: 128 (0.74%)<br>- любимые каналы: 500–2000",
          "Дегустирую блеск<br>- комментов: 3 (0.02%)<br>- любимые каналы: 1–100",
          "Джи Джи Бин<br>- комментов: 1 (0.01%)<br>- любимые каналы: 2000–10000",
          "Диана💐<br>- комментов: 1 (0.01%)<br>- любимые каналы: 10000+",
          "Диванные Данные<br>- комментов: 97 (0.56%)<br>- любимые каналы: 500–2000",
          "💸Big Money Mommy💸<br>- комментов: 1 (0.01%)<br>- любимые каналы: 2000–10000",
          "Дима Кищенко | Напролом в IT<br>- комментов: 5 (0.03%)<br>- любимые каналы: 500–2000",
          "Директор болота<br>- комментов: 3 (0.02%)<br>- любимые каналы: 2000–10000",
          "Директор её мечты<br>- комментов: 1 (0.01%)<br>- любимые каналы: 2000–10000",
          "Дмитрий Карпов | философия продакта<br>- комментов: 2 (0.01%)<br>- любимые каналы: 500–2000",
          "Джун на фронте | IT Dev Log<br>- комментов: 70 (0.41%)<br>- любимые каналы: 2000–10000",
          "Выйти сухой из развода<br>- комментов: 1 (0.01%)<br>- любимые каналы: 2000–10000",
          "Дашок?Ок<br>- комментов: 3 (0.02%)<br>- любимые каналы: 500–2000",
          "Даша в мире UX-редакторов<br>- комментов: 1 (0.01%)<br>- любимые каналы: 500–2000",
          "Галина Галкина<br>- комментов: 8 (0.05%)<br>- любимые каналы: 10000+",
          "Гексоген в мешках [Морозов Иван]<br>- комментов: 1 (0.01%)<br>- любимые каналы: 10000+",
          "Гильдия аналитиков⚒️<br>- комментов: 6 (0.03%)<br>- любимые каналы: 2000–10000",
          "Глеб Козловский | На удаленке с кайфом<br>- комментов: 9 (0.05%)<br>- любимые каналы: 2000–10000",
          "ДФ<br>- комментов: 2 (0.01%)<br>- любимые каналы: 10000+",
          "Дама с каменьями<br>- комментов: 3 (0.02%)<br>- любимые каналы: 2000–10000",
          "Даниил Динько - IT & Nomads<br>- комментов: 4 (0.02%)<br>- любимые каналы: 500–2000",
          "Даша едет в Италию 🇮🇹<br>- комментов: 1 (0.01%)<br>- любимые каналы: 500–2000",
          "Данные по-большому<br>- комментов: 3 (0.02%)<br>- любимые каналы: 10000+",
          "Дата Инжир<br>- комментов: 23 (0.13%)<br>- любимые каналы: 2000–10000",
          "Дата аналитикс<br>- комментов: 137 (0.79%)<br>- любимые каналы: 2000–10000",
          "Дата канальи — про «специалистов» в данных / ML / AI<br>- комментов: 7 (0.04%)<br>- любимые каналы: 500–2000",
          "Дата-инженерские заметки<br>- комментов: 29 (0.17%)<br>- любимые каналы: 2000–10000",
          "Дата-сторителлинг<br>- комментов: 3 (0.02%)<br>- любимые каналы: 10000+",
          "Датавиз в BI • Алиса Ручкина<br>- комментов: 116 (0.67%)<br>- любимые каналы: 2000–10000",
          "Даша Путешественница<br>- комментов: 5 (0.03%)<br>- любимые каналы: 500–2000",
          "Дария с фонариком<br>- комментов: 1 (0.01%)<br>- любимые каналы: 2000–10000",
          "Артем Лещев / IT<br>- комментов: 10 (0.06%)<br>- любимые каналы: 2000–10000",
          "Арт-заметки Жюли<br>- комментов: 5 (0.03%)<br>- любимые каналы: 1–100",
          "Арина, меняй!<br>- комментов: 1 (0.01%)<br>- любимые каналы: 2000–10000",
          "data police 💻<br>- комментов: 5 (0.03%)<br>- любимые каналы: 2000–10000",
          "diva в dev-e<br>- комментов: 1 (0.01%)<br>- любимые каналы: 2000–10000",
          "dyomin.ru | Автоматизация процессов с ПланФикс<br>- комментов: 1 (0.01%)<br>- любимые каналы: 100–500",
          "fmin.xyz<br>- комментов: 2 (0.01%)<br>- любимые каналы: 10000+",
          "geekminded<br>- комментов: 6 (0.03%)<br>- любимые каналы: 2000–10000",
          "ilysm*<br>- комментов: 2 (0.01%)<br>- любимые каналы: 500–2000",
          "key concept<br>- комментов: 1 (0.01%)<br>- любимые каналы: 500–2000",
          "data dreamen<br>- комментов: 39 (0.23%)<br>- любимые каналы: 2000–10000",
          "ladoy<br>- комментов: 1 (0.01%)<br>- любимые каналы: 500–2000",
          "murz and data<br>- комментов: 13 (0.08%)<br>- любимые каналы: 500–2000",
          "proUX(R)<br>- комментов: 1 (0.01%)<br>- любимые каналы: 2000–10000",
          "r/tificial<br>- комментов: 3 (0.02%)<br>- любимые каналы: 10000+",
          "radiohorses<br>- комментов: 5 (0.03%)<br>- любимые каналы: 2000–10000",
          "rafanalytics<br>- комментов: 12 (0.07%)<br>- любимые каналы: 10000+",
          "road to 1%<br>- комментов: 1 (0.01%)<br>- любимые каналы: 2000–10000",
          "silverwind<br>- комментов: 1 (0.01%)<br>- любимые каналы: 2000–10000",
          "masenji пишет<br>- комментов: 2 (0.01%)<br>- любимые каналы: 2000–10000",
          "so far Sofa<br>- комментов: 3 (0.02%)<br>- любимые каналы: 500–2000",
          "crow talks<br>- комментов: 4 (0.02%)<br>- любимые каналы: 2000–10000",
          "build. backtest. believe.<br>- комментов: 6 (0.03%)<br>- любимые каналы: 2000–10000",
          "UfoStation<br>- комментов: 1 (0.01%)<br>- любимые каналы: 2000–10000",
          "Uncle Sami Club<br>- комментов: 1 (0.01%)<br>- любимые каналы: 2000–10000",
          "Unpossible<br>- комментов: 17 (0.1%)<br>- любимые каналы: 500–2000",
          "VILKY. Зарплаты в IT<br>- комментов: 1 (0.01%)<br>- любимые каналы: 2000–10000",
          "Visioner<br>- комментов: 1 (0.01%)<br>- любимые каналы: 10000+",
          "V{IT}A ZAEBYMBA | Путь корпората<br>- комментов: 13 (0.08%)<br>- любимые каналы: 2000–10000",
          "WildRecSys<br>- комментов: 3 (0.02%)<br>- любимые каналы: 2000–10000",
          "chief ISUPOV cooks DS<br>- комментов: 1 (0.01%)<br>- любимые каналы: 2000–10000",
          "Willy Oak<br>- комментов: 1 (0.01%)<br>- любимые каналы: 10000+",
          "You look like a geek<br>- комментов: 1 (0.01%)<br>- любимые каналы: 500–2000",
          "abstracts with a human heart<br>- комментов: 1 (0.01%)<br>- любимые каналы: 10000+",
          "angel<br>- комментов: 2 (0.01%)<br>- любимые каналы: 500–2000",
          "asisakov<br>- комментов: 43 (0.25%)<br>- любимые каналы: 2000–10000",
          "average hype bizdev's channel<br>- комментов: 3 (0.02%)<br>- любимые каналы: 500–2000",
          "blonde marketing<br>- комментов: 6 (0.03%)<br>- любимые каналы: 2000–10000",
          "bravo_money talks<br>- комментов: 2 (0.01%)<br>- любимые каналы: 2000–10000",
          "Woman in house 404<br>- комментов: 6 (0.03%)<br>- любимые каналы: 100–500",
          "soft power<br>- комментов: 2 (0.01%)<br>- любимые каналы: 2000–10000",
          "soulfuldi | саморазвитие<br>- комментов: 1 (0.01%)<br>- любимые каналы: 2000–10000",
          "tempo_wizards<br>- комментов: 15 (0.09%)<br>- любимые каналы: 500–2000",
          "Аналитик без стажа🍕<br>- комментов: 30 (0.17%)<br>- любимые каналы: 2000–10000",
          "Аналитик в декрете<br>- комментов: 13 (0.08%)<br>- любимые каналы: 2000–10000",
          "Аналитик в пути<br>- комментов: 7 (0.04%)<br>- любимые каналы: 2000–10000",
          "Аналитик на минималках<br>- комментов: 4 (0.02%)<br>- любимые каналы: 500–2000",
          "Аналитик по жизни<br>- комментов: 3 (0.02%)<br>- любимые каналы: 500–2000",
          "Аналитик сюра<br>- комментов: 2 (0.01%)<br>- любимые каналы: 500–2000",
          "Аналитика данных / Data Study<br>- комментов: 2 (0.01%)<br>- любимые каналы: 500–2000",
          "Аналитик | самозванец?<br>- комментов: 10 (0.06%)<br>- любимые каналы: 2000–10000",
          "Аналитика на вырост<br>- комментов: 29 (0.17%)<br>- любимые каналы: 500–2000",
          "Аналитики СПБ | Data & Dev<br>- комментов: 1 (0.01%)<br>- любимые каналы: 500–2000",
          "Аналитим аналитиков<br>- комментов: 2 (0.01%)<br>- любимые каналы: 2000–10000",
          "Аналитический Инженер<br>- комментов: 92 (0.53%)<br>- любимые каналы: 500–2000",
          "Аналитический шок 🤯✍️<br>- комментов: 28 (0.16%)<br>- любимые каналы: 2000–10000",
          "Андрей Авраменко | Сила Дисциплины<br>- комментов: 1 (0.01%)<br>- любимые каналы: 2000–10000",
          "Антон тут пишет<br>- комментов: 1 (0.01%)<br>- любимые каналы: 2000–10000",
          "Аня о капитале<br>- комментов: 19 (0.11%)<br>- любимые каналы: 100–500",
          "Аналитика: наука и магия<br>- комментов: 54 (0.31%)<br>- любимые каналы: 500–2000",
          "Аналитик in progress<br>- комментов: 96 (0.56%)<br>- любимые каналы: 2000–10000",
          "Алла🫦<br>- комментов: 1 (0.01%)<br>- любимые каналы: 2000–10000",
          "Алла • Managers' Lab<br>- комментов: 9 (0.05%)<br>- любимые каналы: 2000–10000",
          "victoria.nartdinova❤️‍🔥<br>- комментов: 2 (0.01%)<br>- любимые каналы: 2000–10000",
          "who is AI?<br>- комментов: 6 (0.03%)<br>- любимые каналы: 100–500",
          "with love, Catherine 🐈‍⬛<br>- комментов: 1 (0.01%)<br>- любимые каналы: 2000–10000",
          "work-chill balance<br>- комментов: 2 (0.01%)<br>- любимые каналы: 2000–10000",
          "youth&career | конкурсы и стажировки<br>- комментов: 1 (0.01%)<br>- любимые каналы: 2000–10000",
          "«Зачем?» | Заметки айтишника<br>- комментов: 1 (0.01%)<br>- любимые каналы: 2000–10000",
          "АДовый рисёрч<br>- комментов: 3 (0.02%)<br>- любимые каналы: 10000+",
          "АМНЯМ БЭКЕНДОВИЧ 💻💚<br>- комментов: 3 (0.02%)<br>- любимые каналы: 500–2000",
          "АРЛИФАНС<br>- комментов: 5 (0.03%)<br>- любимые каналы: 2000–10000",
          "Адарика | идти в айти<br>- комментов: 1 (0.01%)<br>- любимые каналы: 2000–10000",
          "Адвокат | Фисун 🧑‍⚖️<br>- комментов: 2 (0.01%)<br>- любимые каналы: 500–2000",
          "Айтишник обыкновенный 🐰<br>- комментов: 43 (0.25%)<br>- любимые каналы: 2000–10000",
          "Александр Тарарин и ML<br>- комментов: 8 (0.05%)<br>- любимые каналы: 2000–10000",
          "Александр Щибунов | Магия управления<br>- комментов: 3 (0.02%)<br>- любимые каналы: 2000–10000",
          "Алексеев Андрей | dsgn<br>- комментов: 1 (0.01%)<br>- любимые каналы: 2000–10000",
          "Алиса | Дневник бизнес-аналитика<br>- комментов: 8 (0.05%)<br>- любимые каналы: 2000–10000",
          "Алиска<br>- комментов: 1 (0.01%)<br>- любимые каналы: 2000–10000",
          "Think. Visualize<br>- комментов: 1 (0.01%)<br>- любимые каналы: 10000+",
          "🚀 Стартапы — это не страшно<br>- комментов: 2 (0.01%)<br>- любимые каналы: 10000+"
         ],
         "marker": {
          "colors": [
           "#93360e",
           "#97864c",
           "#97864c",
           "#97864c",
           "#97864c",
           "#97864c",
           "#97864c",
           "#97864c",
           "#97864c",
           "#97864c",
           "#97864c",
           "#97864c",
           "#97864c",
           "#97864c",
           "#97864c",
           "#97864c",
           "#97864c",
           "#97864c",
           "#5c5c34",
           "#5c5c34",
           "#be8830",
           "#be8830",
           "#be8830",
           "#be8830",
           "#be8830",
           "#be8830",
           "#be8830",
           "#be8830",
           "#be8830",
           "#be8830",
           "#be8830",
           "#be8830",
           "#be8830",
           "#be8830",
           "#be8830",
           "#be8830",
           "#be8830",
           "#be8830",
           "#be8830",
           "#be8830",
           "#be8830",
           "#be8830",
           "#be8830",
           "#be8830",
           "#be8830",
           "#be8830",
           "#be8830",
           "#be8830",
           "#be8830",
           "#be8830",
           "#be8830",
           "#be8830",
           "#be8830",
           "#be8830",
           "#be8830",
           "#be8830",
           "#be8830",
           "#be8830",
           "#be8830",
           "#be8830",
           "#be8830",
           "#be8830",
           "#be8830",
           "#be8830",
           "#be8830",
           "#be8830",
           "#be8830",
           "#be8830",
           "#be8830",
           "#be8830",
           "#be8830",
           "#be8830",
           "#be8830",
           "#be8830",
           "#be8830",
           "#be8830",
           "#be8830",
           "#be8830",
           "#be8830",
           "#be8830",
           "#be8830",
           "#be8830",
           "#be8830",
           "#be8830",
           "#be8830",
           "#be8830",
           "#be8830",
           "#be8830",
           "#be8830",
           "#be8830",
           "#be8830",
           "#be8830",
           "#be8830",
           "#be8830",
           "#be8830",
           "#be8830",
           "#be8830",
           "#be8830",
           "#be8830",
           "#be8830",
           "#be8830",
           "#be8830",
           "#be8830",
           "#be8830",
           "#be8830",
           "#be8830",
           "#be8830",
           "#be8830",
           "#be8830",
           "#be8830",
           "#be8830",
           "#be8830",
           "#be8830",
           "#be8830",
           "#be8830",
           "#be8830",
           "#be8830",
           "#be8830",
           "#be8830",
           "#be8830",
           "#be8830",
           "#be8830",
           "#be8830",
           "#be8830",
           "#be8830",
           "#be8830",
           "#be8830",
           "#be8830",
           "#be8830",
           "#be8830",
           "#be8830",
           "#be8830",
           "#be8830",
           "#be8830",
           "#be8830",
           "#be8830",
           "#be8830",
           "#be8830",
           "#be8830",
           "#be8830",
           "#be8830",
           "#be8830",
           "#be8830",
           "#be8830",
           "#be8830",
           "#be8830",
           "#be8830",
           "#be8830",
           "#be8830",
           "#be8830",
           "#be8830",
           "#be8830",
           "#be8830",
           "#be8830",
           "#be8830",
           "#be8830",
           "#be8830",
           "#be8830",
           "#be8830",
           "#be8830",
           "#be8830",
           "#be8830",
           "#be8830",
           "#be8830",
           "#be8830",
           "#be8830",
           "#be8830",
           "#be8830",
           "#be8830",
           "#be8830",
           "#be8830",
           "#be8830",
           "#be8830",
           "#be8830",
           "#be8830",
           "#be8830",
           "#be8830",
           "#be8830",
           "#be8830",
           "#be8830",
           "#be8830",
           "#be8830",
           "#be8830",
           "#be8830",
           "#be8830",
           "#be8830",
           "#be8830",
           "#be8830",
           "#be8830",
           "#be8830",
           "#be8830",
           "#be8830",
           "#be8830",
           "#be8830",
           "#be8830",
           "#be8830",
           "#be8830",
           "#be8830",
           "#be8830",
           "#be8830",
           "#be8830",
           "#be8830",
           "#be8830",
           "#be8830",
           "#be8830",
           "#be8830",
           "#be8830",
           "#be8830",
           "#be8830",
           "#be8830",
           "#be8830",
           "#be8830",
           "#be8830",
           "#be8830",
           "#be8830",
           "#be8830",
           "#be8830",
           "#be8830",
           "#be8830",
           "#be8830",
           "#be8830",
           "#be8830",
           "#be8830",
           "#be8830",
           "#be8830",
           "#be8830",
           "#be8830",
           "#be8830",
           "#be8830",
           "#be8830",
           "#be8830",
           "#be8830",
           "#be8830",
           "#be8830",
           "#be8830",
           "#be8830",
           "#be8830",
           "#be8830",
           "#be8830",
           "#be8830",
           "#be8830",
           "#be8830",
           "#be8830",
           "#be8830",
           "#be8830",
           "#be8830",
           "#be8830",
           "#be8830",
           "#be8830",
           "#be8830",
           "#be8830",
           "#be8830",
           "#be8830",
           "#be8830",
           "#be8830",
           "#be8830",
           "#be8830",
           "#be8830",
           "#be8830",
           "#be8830",
           "#be8830",
           "#be8830",
           "#be8830",
           "#be8830",
           "#be8830",
           "#be8830",
           "#be8830",
           "#be8830",
           "#be8830",
           "#be8830",
           "#be8830",
           "#be8830",
           "#be8830",
           "#be8830",
           "#be8830",
           "#be8830",
           "#be8830",
           "#be8830",
           "#be8830",
           "#be8830",
           "#be8830",
           "#be8830",
           "#be8830",
           "#be8830",
           "#be8830",
           "#be8830",
           "#be8830",
           "#be8830",
           "#be8830",
           "#be8830",
           "#be8830",
           "#be8830",
           "#be8830",
           "#be8830",
           "#be8830",
           "#be8830",
           "#be8830",
           "#be8830",
           "#be8830",
           "#be8830",
           "#be8830",
           "#be8830",
           "#be8830",
           "#be8830",
           "#be8830",
           "#be8830",
           "#be8830",
           "#be8830",
           "#be8830",
           "#be8830",
           "#be8830",
           "#be8830",
           "#be8830",
           "#be8830",
           "#be8830",
           "#be8830",
           "#be8830",
           "#be8830",
           "#be8830",
           "#be8830",
           "#be8830",
           "#be8830",
           "#be8830",
           "#be8830",
           "#be8830",
           "#be8830",
           "#be8830",
           "#be8830",
           "#be8830",
           "#be8830",
           "#be8830",
           "#be8830",
           "#be8830",
           "#be8830",
           "#be8830",
           "#be8830",
           "#be8830",
           "#be8830",
           "#be8830",
           "#be8830",
           "#be8830",
           "#be8830",
           "#be8830",
           "#be8830",
           "#be8830",
           "#be8830",
           "#be8830",
           "#be8830",
           "#be8830",
           "#be8830",
           "#be8830",
           "#be8830",
           "#be8830",
           "#be8830",
           "#be8830",
           "#be8830",
           "#be8830",
           "#be8830",
           "#be8830",
           "#be8830",
           "#be8830",
           "#be8830",
           "#be8830",
           "#be8830",
           "#be8830",
           "#be8830",
           "#be8830",
           "#be8830",
           "#be8830",
           "#be8830",
           "#be8830",
           "#be8830",
           "#be8830",
           "#be8830",
           "#be8830",
           "#be8830",
           "#be8830",
           "#be8830",
           "#be8830",
           "#be8830",
           "#be8830",
           "#be8830",
           "#be8830",
           "#be8830",
           "#be8830",
           "#be8830",
           "#be8830",
           "#be8830",
           "#be8830",
           "#be8830",
           "#be8830",
           "#be8830",
           "#be8830",
           "#be8830",
           "#be8830",
           "#be8830",
           "#be8830",
           "#be8830",
           "#be8830",
           "#be8830",
           "#be8830",
           "#be8830",
           "#be8830",
           "#be8830",
           "#be8830",
           "#be8830",
           "#be8830",
           "#be8830",
           "#be8830",
           "#be8830",
           "#be8830",
           "#be8830",
           "#be8830",
           "#be8830",
           "#be8830",
           "#be8830",
           "#be8830",
           "#be8830",
           "#be8830",
           "#be8830",
           "#be8830",
           "#be8830",
           "#be8830",
           "#be8830",
           "#be8830",
           "#be8830",
           "#be8830",
           "#be8830",
           "#be8830",
           "#be8830",
           "#be8830",
           "#be8830",
           "#be8830",
           "#be8830",
           "#be8830",
           "#be8830",
           "#be8830",
           "#be8830",
           "#be8830",
           "#be8830",
           "#be8830",
           "#be8830",
           "#be8830",
           "#be8830",
           "#be8830",
           "#be8830",
           "#be8830",
           "#be8830",
           "#be8830",
           "#be8830",
           "#be8830",
           "#be8830",
           "#be8830",
           "#be8830",
           "#be8830",
           "#be8830",
           "#be8830",
           "#be8830",
           "#be8830",
           "#be8830",
           "#be8830",
           "#be8830",
           "#be8830",
           "#be8830",
           "#be8830",
           "#be8830",
           "#be8830",
           "#be8830",
           "#be8830",
           "#be8830",
           "#be8830",
           "#be8830",
           "#be8830",
           "#be8830",
           "#be8830",
           "#be8830",
           "#be8830",
           "#be8830",
           "#be8830",
           "#be8830",
           "#be8830",
           "#be8830",
           "#be8830",
           "#be8830",
           "#be8830",
           "#be8830",
           "#be8830",
           "#be8830",
           "#be8830",
           "#be8830",
           "#be8830",
           "#be8830",
           "#be8830",
           "#be8830",
           "#be8830",
           "#be8830",
           "#be8830",
           "#be8830",
           "#be8830",
           "#be8830",
           "#be8830",
           "#be8830",
           "#be8830",
           "#be8830",
           "#be8830",
           "#be8830",
           "#be8830",
           "#be8830",
           "#be8830",
           "#be8830",
           "#be8830",
           "#be8830",
           "#be8830",
           "#be8830",
           "#be8830",
           "#be8830",
           "#be8830",
           "#be8830",
           "#be8830",
           "#be8830",
           "#be8830",
           "#be8830",
           "#be8830",
           "#be8830",
           "#be8830",
           "#be8830",
           "#be8830",
           "#be8830",
           "#be8830",
           "#be8830",
           "#be8830",
           "#be8830",
           "#be8830",
           "#be8830",
           "#be8830",
           "#be8830",
           "#be8830",
           "#be8830",
           "#be8830",
           "#be8830",
           "#be8830",
           "#be8830",
           "#be8830",
           "#be8830",
           "#be8830",
           "#be8830",
           "#be8830",
           "#be8830",
           "#be8830",
           "#be8830",
           "#be8830",
           "#be8830",
           "#be8830",
           "#be8830",
           "#be8830",
           "#be8830",
           "#be8830",
           "#be8830",
           "#be8830",
           "#be8830",
           "#be8830",
           "#be8830",
           "#be8830",
           "#be8830",
           "#be8830",
           "#be8830",
           "#be8830",
           "#be8830",
           "#be8830",
           "#be8830",
           "#be8830",
           "#be8830",
           "#be8830",
           "#be8830",
           "#be8830",
           "#be8830",
           "#be8830",
           "#be8830",
           "#be8830",
           "#be8830",
           "#be8830",
           "#be8830",
           "#be8830",
           "#be8830",
           "#be8830",
           "#be8830",
           "#be8830",
           "#be8830",
           "#be8830",
           "#be8830",
           "#be8830",
           "#be8830",
           "#be8830",
           "#be8830",
           "#be8830",
           "#be8830",
           "#be8830",
           "#be8830",
           "#be8830",
           "#be8830",
           "#be8830",
           "#be8830",
           "#be8830",
           "#be8830",
           "#be8830",
           "#be8830",
           "#be8830",
           "#be8830",
           "#be8830",
           "#be8830",
           "#be8830",
           "#be8830",
           "#be8830",
           "#be8830",
           "#be8830",
           "#be8830",
           "#be8830",
           "#be8830",
           "#be8830",
           "#be8830",
           "#be8830",
           "#be8830",
           "#be8830",
           "#be8830",
           "#be8830",
           "#be8830",
           "#be8830",
           "#be8830",
           "#be8830",
           "#be8830",
           "#be8830",
           "#be8830",
           "#be8830",
           "#be8830",
           "#be8830",
           "#be8830",
           "#be8830",
           "#be8830",
           "#be8830",
           "#be8830",
           "#be8830",
           "#be8830",
           "#be8830",
           "#be8830",
           "#be8830",
           "#be8830",
           "#be8830",
           "#be8830",
           "#be8830",
           "#be8830",
           "#be8830",
           "#be8830",
           "#be8830",
           "#be8830",
           "#be8830",
           "#be8830",
           "#be8830"
          ]
         },
         "name": "",
         "parents": [
          "",
          "",
          "",
          "",
          "",
          "",
          "",
          "",
          "",
          "",
          "",
          "",
          "",
          "",
          "",
          "",
          "",
          "",
          "",
          "",
          "",
          "",
          "",
          "",
          "",
          "",
          "",
          "",
          "",
          "",
          "",
          "",
          "",
          "",
          "",
          "",
          "",
          "",
          "",
          "",
          "",
          "",
          "",
          "",
          "",
          "",
          "",
          "",
          "",
          "",
          "",
          "",
          "",
          "",
          "",
          "",
          "",
          "",
          "",
          "",
          "",
          "",
          "",
          "",
          "",
          "",
          "",
          "",
          "",
          "",
          "",
          "",
          "",
          "",
          "",
          "",
          "",
          "",
          "",
          "",
          "",
          "",
          "",
          "",
          "",
          "",
          "",
          "",
          "",
          "",
          "",
          "",
          "",
          "",
          "",
          "",
          "",
          "",
          "",
          "",
          "",
          "",
          "",
          "",
          "",
          "",
          "",
          "",
          "",
          "",
          "",
          "",
          "",
          "",
          "",
          "",
          "",
          "",
          "",
          "",
          "",
          "",
          "",
          "",
          "",
          "",
          "",
          "",
          "",
          "",
          "",
          "",
          "",
          "",
          "",
          "",
          "",
          "",
          "",
          "",
          "",
          "",
          "",
          "",
          "",
          "",
          "",
          "",
          "",
          "",
          "",
          "",
          "",
          "",
          "",
          "",
          "",
          "",
          "",
          "",
          "",
          "",
          "",
          "",
          "",
          "",
          "",
          "",
          "",
          "",
          "",
          "",
          "",
          "",
          "",
          "",
          "",
          "",
          "",
          "",
          "",
          "",
          "",
          "",
          "",
          "",
          "",
          "",
          "",
          "",
          "",
          "",
          "",
          "",
          "",
          "",
          "",
          "",
          "",
          "",
          "",
          "",
          "",
          "",
          "",
          "",
          "",
          "",
          "",
          "",
          "",
          "",
          "",
          "",
          "",
          "",
          "",
          "",
          "",
          "",
          "",
          "",
          "",
          "",
          "",
          "",
          "",
          "",
          "",
          "",
          "",
          "",
          "",
          "",
          "",
          "",
          "",
          "",
          "",
          "",
          "",
          "",
          "",
          "",
          "",
          "",
          "",
          "",
          "",
          "",
          "",
          "",
          "",
          "",
          "",
          "",
          "",
          "",
          "",
          "",
          "",
          "",
          "",
          "",
          "",
          "",
          "",
          "",
          "",
          "",
          "",
          "",
          "",
          "",
          "",
          "",
          "",
          "",
          "",
          "",
          "",
          "",
          "",
          "",
          "",
          "",
          "",
          "",
          "",
          "",
          "",
          "",
          "",
          "",
          "",
          "",
          "",
          "",
          "",
          "",
          "",
          "",
          "",
          "",
          "",
          "",
          "",
          "",
          "",
          "",
          "",
          "",
          "",
          "",
          "",
          "",
          "",
          "",
          "",
          "",
          "",
          "",
          "",
          "",
          "",
          "",
          "",
          "",
          "",
          "",
          "",
          "",
          "",
          "",
          "",
          "",
          "",
          "",
          "",
          "",
          "",
          "",
          "",
          "",
          "",
          "",
          "",
          "",
          "",
          "",
          "",
          "",
          "",
          "",
          "",
          "",
          "",
          "",
          "",
          "",
          "",
          "",
          "",
          "",
          "",
          "",
          "",
          "",
          "",
          "",
          "",
          "",
          "",
          "",
          "",
          "",
          "",
          "",
          "",
          "",
          "",
          "",
          "",
          "",
          "",
          "",
          "",
          "",
          "",
          "",
          "",
          "",
          "",
          "",
          "",
          "",
          "",
          "",
          "",
          "",
          "",
          "",
          "",
          "",
          "",
          "",
          "",
          "",
          "",
          "",
          "",
          "",
          "",
          "",
          "",
          "",
          "",
          "",
          "",
          "",
          "",
          "",
          "",
          "",
          "",
          "",
          "",
          "",
          "",
          "",
          "",
          "",
          "",
          "",
          "",
          "",
          "",
          "",
          "",
          "",
          "",
          "",
          "",
          "",
          "",
          "",
          "",
          "",
          "",
          "",
          "",
          "",
          "",
          "",
          "",
          "",
          "",
          "",
          "",
          "",
          "",
          "",
          "",
          "",
          "",
          "",
          "",
          "",
          "",
          "",
          "",
          "",
          "",
          "",
          "",
          "",
          "",
          "",
          "",
          "",
          "",
          "",
          "",
          "",
          "",
          "",
          "",
          "",
          "",
          "",
          "",
          "",
          "",
          "",
          "",
          "",
          "",
          "",
          "",
          "",
          "",
          "",
          "",
          "",
          "",
          "",
          "",
          "",
          "",
          "",
          "",
          "",
          "",
          "",
          "",
          "",
          "",
          "",
          "",
          "",
          "",
          "",
          "",
          "",
          "",
          "",
          "",
          "",
          "",
          "",
          "",
          "",
          "",
          "",
          "",
          "",
          "",
          "",
          "",
          "",
          "",
          "",
          "",
          "",
          "",
          "",
          "",
          "",
          "",
          "",
          "",
          "",
          "",
          "",
          "",
          "",
          "",
          "",
          "",
          "",
          "",
          "",
          "",
          "",
          "",
          "",
          "",
          "",
          "",
          "",
          "",
          "",
          "",
          "",
          "",
          "",
          "",
          "",
          "",
          "",
          "",
          "",
          "",
          "",
          "",
          "",
          "",
          "",
          "",
          "",
          "",
          "",
          "",
          "",
          "",
          "",
          "",
          "",
          "",
          "",
          "",
          "",
          "",
          "",
          "",
          "",
          "",
          "",
          "",
          "",
          "",
          "",
          "",
          "",
          "",
          "",
          "",
          "",
          "",
          "",
          "",
          "",
          "",
          "",
          "",
          "",
          "",
          "",
          "",
          "",
          "",
          "",
          "",
          "",
          "",
          "",
          "",
          "",
          "",
          "",
          "",
          "",
          "",
          "",
          "",
          "",
          "",
          "",
          "",
          "",
          "",
          "",
          "",
          "",
          "",
          "",
          ""
         ],
         "values": {
          "dtype": "f8",
          "bdata": "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"
         },
         "type": "treemap",
         "textfont": {
          "color": "white",
          "size": 16
         }
        }
       ],
       "layout": {
        "template": {
         "data": {
          "histogram2dcontour": [
           {
            "type": "histogram2dcontour",
            "colorbar": {
             "outlinewidth": 0,
             "ticks": ""
            },
            "colorscale": [
             [
              0.0,
              "#0d0887"
             ],
             [
              0.1111111111111111,
              "#46039f"
             ],
             [
              0.2222222222222222,
              "#7201a8"
             ],
             [
              0.3333333333333333,
              "#9c179e"
             ],
             [
              0.4444444444444444,
              "#bd3786"
             ],
             [
              0.5555555555555556,
              "#d8576b"
             ],
             [
              0.6666666666666666,
              "#ed7953"
             ],
             [
              0.7777777777777778,
              "#fb9f3a"
             ],
             [
              0.8888888888888888,
              "#fdca26"
             ],
             [
              1.0,
              "#f0f921"
             ]
            ]
           }
          ],
          "choropleth": [
           {
            "type": "choropleth",
            "colorbar": {
             "outlinewidth": 0,
             "ticks": ""
            }
           }
          ],
          "histogram2d": [
           {
            "type": "histogram2d",
            "colorbar": {
             "outlinewidth": 0,
             "ticks": ""
            },
            "colorscale": [
             [
              0.0,
              "#0d0887"
             ],
             [
              0.1111111111111111,
              "#46039f"
             ],
             [
              0.2222222222222222,
              "#7201a8"
             ],
             [
              0.3333333333333333,
              "#9c179e"
             ],
             [
              0.4444444444444444,
              "#bd3786"
             ],
             [
              0.5555555555555556,
              "#d8576b"
             ],
             [
              0.6666666666666666,
              "#ed7953"
             ],
             [
              0.7777777777777778,
              "#fb9f3a"
             ],
             [
              0.8888888888888888,
              "#fdca26"
             ],
             [
              1.0,
              "#f0f921"
             ]
            ]
           }
          ],
          "heatmap": [
           {
            "type": "heatmap",
            "colorbar": {
             "outlinewidth": 0,
             "ticks": ""
            },
            "colorscale": [
             [
              0.0,
              "#0d0887"
             ],
             [
              0.1111111111111111,
              "#46039f"
             ],
             [
              0.2222222222222222,
              "#7201a8"
             ],
             [
              0.3333333333333333,
              "#9c179e"
             ],
             [
              0.4444444444444444,
              "#bd3786"
             ],
             [
              0.5555555555555556,
              "#d8576b"
             ],
             [
              0.6666666666666666,
              "#ed7953"
             ],
             [
              0.7777777777777778,
              "#fb9f3a"
             ],
             [
              0.8888888888888888,
              "#fdca26"
             ],
             [
              1.0,
              "#f0f921"
             ]
            ]
           }
          ],
          "contourcarpet": [
           {
            "type": "contourcarpet",
            "colorbar": {
             "outlinewidth": 0,
             "ticks": ""
            }
           }
          ],
          "contour": [
           {
            "type": "contour",
            "colorbar": {
             "outlinewidth": 0,
             "ticks": ""
            },
            "colorscale": [
             [
              0.0,
              "#0d0887"
             ],
             [
              0.1111111111111111,
              "#46039f"
             ],
             [
              0.2222222222222222,
              "#7201a8"
             ],
             [
              0.3333333333333333,
              "#9c179e"
             ],
             [
              0.4444444444444444,
              "#bd3786"
             ],
             [
              0.5555555555555556,
              "#d8576b"
             ],
             [
              0.6666666666666666,
              "#ed7953"
             ],
             [
              0.7777777777777778,
              "#fb9f3a"
             ],
             [
              0.8888888888888888,
              "#fdca26"
             ],
             [
              1.0,
              "#f0f921"
             ]
            ]
           }
          ],
          "surface": [
           {
            "type": "surface",
            "colorbar": {
             "outlinewidth": 0,
             "ticks": ""
            },
            "colorscale": [
             [
              0.0,
              "#0d0887"
             ],
             [
              0.1111111111111111,
              "#46039f"
             ],
             [
              0.2222222222222222,
              "#7201a8"
             ],
             [
              0.3333333333333333,
              "#9c179e"
             ],
             [
              0.4444444444444444,
              "#bd3786"
             ],
             [
              0.5555555555555556,
              "#d8576b"
             ],
             [
              0.6666666666666666,
              "#ed7953"
             ],
             [
              0.7777777777777778,
              "#fb9f3a"
             ],
             [
              0.8888888888888888,
              "#fdca26"
             ],
             [
              1.0,
              "#f0f921"
             ]
            ]
           }
          ],
          "mesh3d": [
           {
            "type": "mesh3d",
            "colorbar": {
             "outlinewidth": 0,
             "ticks": ""
            }
           }
          ],
          "scatter": [
           {
            "fillpattern": {
             "fillmode": "overlay",
             "size": 10,
             "solidity": 0.2
            },
            "type": "scatter"
           }
          ],
          "parcoords": [
           {
            "type": "parcoords",
            "line": {
             "colorbar": {
              "outlinewidth": 0,
              "ticks": ""
             }
            }
           }
          ],
          "scatterpolargl": [
           {
            "type": "scatterpolargl",
            "marker": {
             "colorbar": {
              "outlinewidth": 0,
              "ticks": ""
             }
            }
           }
          ],
          "bar": [
           {
            "error_x": {
             "color": "#2a3f5f"
            },
            "error_y": {
             "color": "#2a3f5f"
            },
            "marker": {
             "line": {
              "color": "#E5ECF6",
              "width": 0.5
             },
             "pattern": {
              "fillmode": "overlay",
              "size": 10,
              "solidity": 0.2
             }
            },
            "type": "bar"
           }
          ],
          "scattergeo": [
           {
            "type": "scattergeo",
            "marker": {
             "colorbar": {
              "outlinewidth": 0,
              "ticks": ""
             }
            }
           }
          ],
          "scatterpolar": [
           {
            "type": "scatterpolar",
            "marker": {
             "colorbar": {
              "outlinewidth": 0,
              "ticks": ""
             }
            }
           }
          ],
          "histogram": [
           {
            "marker": {
             "pattern": {
              "fillmode": "overlay",
              "size": 10,
              "solidity": 0.2
             }
            },
            "type": "histogram"
           }
          ],
          "scattergl": [
           {
            "type": "scattergl",
            "marker": {
             "colorbar": {
              "outlinewidth": 0,
              "ticks": ""
             }
            }
           }
          ],
          "scatter3d": [
           {
            "type": "scatter3d",
            "line": {
             "colorbar": {
              "outlinewidth": 0,
              "ticks": ""
             }
            },
            "marker": {
             "colorbar": {
              "outlinewidth": 0,
              "ticks": ""
             }
            }
           }
          ],
          "scattermap": [
           {
            "type": "scattermap",
            "marker": {
             "colorbar": {
              "outlinewidth": 0,
              "ticks": ""
             }
            }
           }
          ],
          "scattermapbox": [
           {
            "type": "scattermapbox",
            "marker": {
             "colorbar": {
              "outlinewidth": 0,
              "ticks": ""
             }
            }
           }
          ],
          "scatterternary": [
           {
            "type": "scatterternary",
            "marker": {
             "colorbar": {
              "outlinewidth": 0,
              "ticks": ""
             }
            }
           }
          ],
          "scattercarpet": [
           {
            "type": "scattercarpet",
            "marker": {
             "colorbar": {
              "outlinewidth": 0,
              "ticks": ""
             }
            }
           }
          ],
          "carpet": [
           {
            "aaxis": {
             "endlinecolor": "#2a3f5f",
             "gridcolor": "white",
             "linecolor": "white",
             "minorgridcolor": "white",
             "startlinecolor": "#2a3f5f"
            },
            "baxis": {
             "endlinecolor": "#2a3f5f",
             "gridcolor": "white",
             "linecolor": "white",
             "minorgridcolor": "white",
             "startlinecolor": "#2a3f5f"
            },
            "type": "carpet"
           }
          ],
          "table": [
           {
            "cells": {
             "fill": {
              "color": "#EBF0F8"
             },
             "line": {
              "color": "white"
             }
            },
            "header": {
             "fill": {
              "color": "#C8D4E3"
             },
             "line": {
              "color": "white"
             }
            },
            "type": "table"
           }
          ],
          "barpolar": [
           {
            "marker": {
             "line": {
              "color": "#E5ECF6",
              "width": 0.5
             },
             "pattern": {
              "fillmode": "overlay",
              "size": 10,
              "solidity": 0.2
             }
            },
            "type": "barpolar"
           }
          ],
          "pie": [
           {
            "automargin": true,
            "type": "pie"
           }
          ]
         },
         "layout": {
          "autotypenumbers": "strict",
          "colorway": [
           "#636efa",
           "#EF553B",
           "#00cc96",
           "#ab63fa",
           "#FFA15A",
           "#19d3f3",
           "#FF6692",
           "#B6E880",
           "#FF97FF",
           "#FECB52"
          ],
          "font": {
           "color": "#2a3f5f"
          },
          "hovermode": "closest",
          "hoverlabel": {
           "align": "left"
          },
          "paper_bgcolor": "white",
          "plot_bgcolor": "#E5ECF6",
          "polar": {
           "bgcolor": "#E5ECF6",
           "angularaxis": {
            "gridcolor": "white",
            "linecolor": "white",
            "ticks": ""
           },
           "radialaxis": {
            "gridcolor": "white",
            "linecolor": "white",
            "ticks": ""
           }
          },
          "ternary": {
           "bgcolor": "#E5ECF6",
           "aaxis": {
            "gridcolor": "white",
            "linecolor": "white",
            "ticks": ""
           },
           "baxis": {
            "gridcolor": "white",
            "linecolor": "white",
            "ticks": ""
           },
           "caxis": {
            "gridcolor": "white",
            "linecolor": "white",
            "ticks": ""
           }
          },
          "coloraxis": {
           "colorbar": {
            "outlinewidth": 0,
            "ticks": ""
           }
          },
          "colorscale": {
           "sequential": [
            [
             0.0,
             "#0d0887"
            ],
            [
             0.1111111111111111,
             "#46039f"
            ],
            [
             0.2222222222222222,
             "#7201a8"
            ],
            [
             0.3333333333333333,
             "#9c179e"
            ],
            [
             0.4444444444444444,
             "#bd3786"
            ],
            [
             0.5555555555555556,
             "#d8576b"
            ],
            [
             0.6666666666666666,
             "#ed7953"
            ],
            [
             0.7777777777777778,
             "#fb9f3a"
            ],
            [
             0.8888888888888888,
             "#fdca26"
            ],
            [
             1.0,
             "#f0f921"
            ]
           ],
           "sequentialminus": [
            [
             0.0,
             "#0d0887"
            ],
            [
             0.1111111111111111,
             "#46039f"
            ],
            [
             0.2222222222222222,
             "#7201a8"
            ],
            [
             0.3333333333333333,
             "#9c179e"
            ],
            [
             0.4444444444444444,
             "#bd3786"
            ],
            [
             0.5555555555555556,
             "#d8576b"
            ],
            [
             0.6666666666666666,
             "#ed7953"
            ],
            [
             0.7777777777777778,
             "#fb9f3a"
            ],
            [
             0.8888888888888888,
             "#fdca26"
            ],
            [
             1.0,
             "#f0f921"
            ]
           ],
           "diverging": [
            [
             0,
             "#8e0152"
            ],
            [
             0.1,
             "#c51b7d"
            ],
            [
             0.2,
             "#de77ae"
            ],
            [
             0.3,
             "#f1b6da"
            ],
            [
             0.4,
             "#fde0ef"
            ],
            [
             0.5,
             "#f7f7f7"
            ],
            [
             0.6,
             "#e6f5d0"
            ],
            [
             0.7,
             "#b8e186"
            ],
            [
             0.8,
             "#7fbc41"
            ],
            [
             0.9,
             "#4d9221"
            ],
            [
             1,
             "#276419"
            ]
           ]
          },
          "xaxis": {
           "gridcolor": "white",
           "linecolor": "white",
           "ticks": "",
           "title": {
            "standoff": 15
           },
           "zerolinecolor": "white",
           "automargin": true,
           "zerolinewidth": 2
          },
          "yaxis": {
           "gridcolor": "white",
           "linecolor": "white",
           "ticks": "",
           "title": {
            "standoff": 15
           },
           "zerolinecolor": "white",
           "automargin": true,
           "zerolinewidth": 2
          },
          "scene": {
           "xaxis": {
            "backgroundcolor": "#E5ECF6",
            "gridcolor": "white",
            "linecolor": "white",
            "showbackground": true,
            "ticks": "",
            "zerolinecolor": "white",
            "gridwidth": 2
           },
           "yaxis": {
            "backgroundcolor": "#E5ECF6",
            "gridcolor": "white",
            "linecolor": "white",
            "showbackground": true,
            "ticks": "",
            "zerolinecolor": "white",
            "gridwidth": 2
           },
           "zaxis": {
            "backgroundcolor": "#E5ECF6",
            "gridcolor": "white",
            "linecolor": "white",
            "showbackground": true,
            "ticks": "",
            "zerolinecolor": "white",
            "gridwidth": 2
           }
          },
          "shapedefaults": {
           "line": {
            "color": "#2a3f5f"
           }
          },
          "annotationdefaults": {
           "arrowcolor": "#2a3f5f",
           "arrowhead": 0,
           "arrowwidth": 1
          },
          "geo": {
           "bgcolor": "white",
           "landcolor": "#E5ECF6",
           "subunitcolor": "white",
           "showland": true,
           "showlakes": true,
           "lakecolor": "white"
          },
          "title": {
           "x": 0.05
          },
          "mapbox": {
           "style": "light"
          }
         }
        },
        "xaxis": {
         "anchor": "y",
         "domain": [
          0.0,
          1.0
         ],
         "showgrid": false,
         "zeroline": false,
         "showticklabels": false,
         "range": [
          0,
          4
         ]
        },
        "yaxis": {
         "anchor": "x",
         "domain": [
          0.95,
          1.0
         ],
         "showgrid": false,
         "zeroline": false,
         "showticklabels": false,
         "range": [
          0,
          1
         ]
        },
        "margin": {
         "t": 20,
         "b": 20,
         "l": 20,
         "r": 20
        },
        "width": 1080,
        "height": 1080,
        "plot_bgcolor": "white",
        "paper_bgcolor": "white"
       },
       "config": {
        "plotlyServerURL": "https://plot.ly"
       }
      }
     },
     "metadata": {},
     "output_type": "display_data",
     "jetTransient": {
      "display_id": null
     }
    }
   ],
   "execution_count": 47
  },
  {
   "metadata": {},
   "cell_type": "code",
   "outputs": [],
   "execution_count": null,
   "source": "",
   "id": "3162710ca834295b"
  },
  {
   "metadata": {},
   "cell_type": "code",
   "outputs": [],
   "execution_count": null,
   "source": "",
   "id": "53e420010dfb4db9"
  },
  {
   "metadata": {},
   "cell_type": "markdown",
   "source": "## Каналы, баовые агрегаты",
   "id": "ecc75d437547bd17"
  },
  {
   "metadata": {
    "SqlCellData": {
     "data_source_name": "tg_analytics_channels",
     "variableName$1": "df_channels_agg"
    },
    "ExecuteTime": {
     "end_time": "2025-09-18T07:53:41.051759Z",
     "start_time": "2025-09-18T07:53:39.848107Z"
    }
   },
   "cell_type": "code",
   "source": [
    "%%sql\n",
    "-- Агергация всех данных по каналу-посту\n",
    "with\n",
    "    comments_prep as (\n",
    "        select\n",
    "            com.channel_id,\n",
    "            com.post_id,\n",
    "            count(*) as comments,\n",
    "            min(com.comment_date) as comments_ts_min,\n",
    "            max(com.comment_date) as comments_ts_max,\n",
    "            strftime('%s', max(com.comment_date)) - strftime('%s', min(com.comment_date)) as comments_ts_diff_sec,\n",
    "\n",
    "            -- Все комментарии\n",
    "            count(*) filter (where com.author_username='user') as comments_user,\n",
    "            min(com.comment_date) filter (where com.author_username='user') as comments_user_ts_min,\n",
    "            max(com.comment_date) filter (where com.author_username='user') as comments_user_ts_max,\n",
    "            (\n",
    "                strftime('%s', max(com.comment_date) filter (where com.author_username='user'))\n",
    "                -\n",
    "                strftime('%s', min(com.comment_date) filter (where com.author_username='user'))\n",
    "            ) as comments_user_ts_diff_sec,\n",
    "\n",
    "            -- Комментарии пользователей\n",
    "            count(*) filter (where com.author_username!='user') as comments_channel,\n",
    "            min(com.comment_date) filter (where com.author_username!='user') as comments_channel_ts_min,\n",
    "            max(com.comment_date) filter (where com.author_username!='user') as comments_channel_ts_max,\n",
    "            (\n",
    "                strftime('%s', max(com.comment_date) filter (where com.author_username!='user'))\n",
    "                -\n",
    "                strftime('%s', min(com.comment_date) filter (where com.author_username!='user'))\n",
    "            ) as comments_channel_ts_diff_sec,\n",
    "\n",
    "            -- Комментарии канала автора\n",
    "            count(*) filter (where com.author_username!='user' and com.author_username==cha.channel_name) as comments_channel_internal,\n",
    "            min(com.comment_date) filter (where com.author_username!='user' and com.author_username==cha.channel_name) as comments_channel_internal_ts_min,\n",
    "            max(com.comment_date) filter (where com.author_username!='user' and com.author_username==cha.channel_name) as comments_channel_internal_ts_max,\n",
    "            (\n",
    "                strftime('%s', max(com.comment_date) filter (where com.author_username!='user' and com.author_username==cha.channel_name))\n",
    "                -\n",
    "                strftime('%s', min(com.comment_date) filter (where com.author_username!='user' and com.author_username==cha.channel_name))\n",
    "            ) as comments_channel_internal_ts_diff_sec,\n",
    "\n",
    "            -- Комментарии канала не автора\n",
    "            count(*) filter (where com.author_username!='user' and com.author_username!=cha.channel_name) as comments_channel_external,\n",
    "            min(com.comment_date) filter (where com.author_username!='user' and com.author_username!=cha.channel_name) as comments_channel_external_ts_min,\n",
    "            max(com.comment_date) filter (where com.author_username!='user' and com.author_username!=cha.channel_name) as comments_channel_external_ts_max,\n",
    "            (\n",
    "                strftime('%s', max(com.comment_date) filter (where com.author_username!='user' and com.author_username!=cha.channel_name))\n",
    "                -\n",
    "                strftime('%s', min(com.comment_date) filter (where com.author_username!='user' and com.author_username!=cha.channel_name))\n",
    "            ) as comments_channel_external_ts_diff_sec\n",
    "\n",
    "        from comments as com\n",
    "        left join channels as cha on com.channel_id=cha.channel_id\n",
    "        group by com.channel_id, com.post_id\n",
    "    ),\n",
    "\n",
    "    posts_prep as (\n",
    "        select\n",
    "            p.*,\n",
    "            cp.*,\n",
    "            strftime('%s', cp.comments_ts_min) - strftime('%s', p.post_date)  as post2comments_ts_diff_sec\n",
    "\n",
    "        from posts as p\n",
    "        left join comments_prep as cp on p.channel_id=cp.channel_id and p.post_id=cp.post_id\n",
    "    ),\n",
    "\n",
    "    channels_prep as (\n",
    "        select\n",
    "            channel_id,\n",
    "            channel_name,\n",
    "            subscribers as channel_subscribers,\n",
    "            case\n",
    "                when subscribers < 100 then '1_lover_small'\n",
    "                when subscribers < 500 then '2_upper_small'\n",
    "                when subscribers < 2000 then '3_lower_medium'\n",
    "                when subscribers < 10000 then '4_upper_medium'\n",
    "                else '5_large'\n",
    "            end as channel_segment\n",
    "        from channels\n",
    "        where is_target=1\n",
    "    ),\n",
    "\n",
    "    result as (\n",
    "        select\n",
    "            pp.channel_id,\n",
    "            pp.channel_name,\n",
    "            pp.channel_title,\n",
    "            cp.channel_subscribers,\n",
    "            cp.channel_segment,\n",
    "            pp.post_id,\n",
    "            pp.post_preview,\n",
    "            pp.post_views,\n",
    "            pp.post_forwards,\n",
    "            pp.post_replies,\n",
    "            pp.post_date as post_ts,\n",
    "            pp.post2comments_ts_diff_sec,\n",
    "            pp.comments,\n",
    "            pp.comments_ts_min,\n",
    "            pp.comments_ts_max,\n",
    "            pp.comments_ts_diff_sec,\n",
    "            pp.comments_user,\n",
    "            pp.comments_user_ts_min,\n",
    "            pp.comments_user_ts_max,\n",
    "            pp.comments_user_ts_diff_sec,\n",
    "            pp.comments_channel,\n",
    "            pp.comments_channel_ts_min,\n",
    "            pp.comments_channel_ts_max,\n",
    "            pp.comments_channel_ts_diff_sec,\n",
    "            pp.comments_channel_internal,\n",
    "            pp.comments_channel_internal_ts_min,\n",
    "            pp.comments_channel_internal_ts_max,\n",
    "            pp.comments_channel_internal_ts_diff_sec,\n",
    "            pp.comments_channel_external,\n",
    "            pp.comments_channel_external_ts_min,\n",
    "            pp.comments_channel_external_ts_max,\n",
    "            pp.comments_channel_external_ts_diff_sec\n",
    "\n",
    "        from posts_prep as pp\n",
    "        inner join channels_prep as cp on pp.channel_id=cp.channel_id\n",
    "    )\n",
    "\n",
    "select * from result;"
   ],
   "id": "15b733dc0980385d",
   "outputs": [
    {
     "data": {
      "text/plain": [
       "      channel_id   channel_name                           channel_title  \\\n",
       "0     1178238337    boris_again                             Борис опять   \n",
       "1     1178238337    boris_again                             Борис опять   \n",
       "2     1178238337    boris_again                             Борис опять   \n",
       "3     1178238337    boris_again                             Борис опять   \n",
       "4     1178238337    boris_again                             Борис опять   \n",
       "...          ...            ...                                     ...   \n",
       "5495  2864348643  davidzagorski  Загорски, работай! [Данные и Проекты]🚀   \n",
       "5496  2864348643  davidzagorski  Загорски, работай! [Данные и Проекты]🚀   \n",
       "5497  2864348643  davidzagorski  Загорски, работай! [Данные и Проекты]🚀   \n",
       "5498  2864348643  davidzagorski  Загорски, работай! [Данные и Проекты]🚀   \n",
       "5499  2864348643  davidzagorski  Загорски, работай! [Данные и Проекты]🚀   \n",
       "\n",
       "      channel_subscribers channel_segment  post_id  \\\n",
       "0                   15111         5_large     3327   \n",
       "1                   15111         5_large     3328   \n",
       "2                   15111         5_large     3329   \n",
       "3                   15111         5_large     3330   \n",
       "4                   15111         5_large     3331   \n",
       "...                   ...             ...      ...   \n",
       "5495                   16   1_lover_small       19   \n",
       "5496                   16   1_lover_small       20   \n",
       "5497                   16   1_lover_small       21   \n",
       "5498                   16   1_lover_small       22   \n",
       "5499                   16   1_lover_small       23   \n",
       "\n",
       "                                           post_preview  post_views  \\\n",
       "0     Адам Кадыров получил новую награду: test of ti...       13514   \n",
       "1     Papers with code закрыли :(\\n\\nhttps://papersw...        5363   \n",
       "2     🚀 Уважаемые коллеги,  кому интересна математик...        4767   \n",
       "3     **Gemini 2.5 Flash Lite\\n\\n**Пару дней назад [...        5088   \n",
       "4     А вы тоже видите в этом здании младшего брата ...        5897   \n",
       "...                                                 ...         ...   \n",
       "5495  Надо и мемов добавлять в разнообразие.\\nПомню ...          96   \n",
       "5496  В прекрасном Karpov.Courses поделились постом,...          63   \n",
       "5497  Стараюсь влево и вправо не уходить, но иногда ...          44   \n",
       "5498  Решил, что хочется подтянуть свой уровень влад...          48   \n",
       "5499  Пропадал и не писал! (1/2)\\nОднако всё это вре...          15   \n",
       "\n",
       "      post_forwards  post_replies  ...     comments_channel_ts_max  \\\n",
       "0               102             0  ...                         NaN   \n",
       "1                72             5  ...                         NaN   \n",
       "2                59             0  ...                         NaN   \n",
       "3                39             1  ...  2025-07-26 11:36:09.000000   \n",
       "4                27             8  ...  2025-07-26 11:47:27.000000   \n",
       "...             ...           ...  ...                         ...   \n",
       "5495              0             0  ...                         NaN   \n",
       "5496              3             0  ...                         NaN   \n",
       "5497              1             0  ...                         NaN   \n",
       "5498              4             0  ...                         NaN   \n",
       "5499              0             3  ...                         NaN   \n",
       "\n",
       "      comments_channel_ts_diff_sec  comments_channel_internal  \\\n",
       "0                              NaN                        NaN   \n",
       "1                              NaN                        0.0   \n",
       "2                              NaN                        NaN   \n",
       "3                              0.0                        0.0   \n",
       "4                            203.0                        2.0   \n",
       "...                            ...                        ...   \n",
       "5495                           NaN                        NaN   \n",
       "5496                           NaN                        NaN   \n",
       "5497                           NaN                        NaN   \n",
       "5498                           NaN                        NaN   \n",
       "5499                           NaN                        NaN   \n",
       "\n",
       "     comments_channel_internal_ts_min comments_channel_internal_ts_max  \\\n",
       "0                                 NaN                              NaN   \n",
       "1                                 NaN                              NaN   \n",
       "2                                 NaN                              NaN   \n",
       "3                                 NaN                              NaN   \n",
       "4          2025-07-26 11:44:04.000000       2025-07-26 11:47:27.000000   \n",
       "...                               ...                              ...   \n",
       "5495                              NaN                              NaN   \n",
       "5496                              NaN                              NaN   \n",
       "5497                              NaN                              NaN   \n",
       "5498                              NaN                              NaN   \n",
       "5499                              NaN                              NaN   \n",
       "\n",
       "      comments_channel_internal_ts_diff_sec  comments_channel_external  \\\n",
       "0                                       NaN                        NaN   \n",
       "1                                       NaN                        0.0   \n",
       "2                                       NaN                        NaN   \n",
       "3                                       NaN                        1.0   \n",
       "4                                     203.0                        0.0   \n",
       "...                                     ...                        ...   \n",
       "5495                                    NaN                        NaN   \n",
       "5496                                    NaN                        NaN   \n",
       "5497                                    NaN                        NaN   \n",
       "5498                                    NaN                        NaN   \n",
       "5499                                    NaN                        NaN   \n",
       "\n",
       "     comments_channel_external_ts_min comments_channel_external_ts_max  \\\n",
       "0                                 NaN                              NaN   \n",
       "1                                 NaN                              NaN   \n",
       "2                                 NaN                              NaN   \n",
       "3          2025-07-26 11:36:09.000000       2025-07-26 11:36:09.000000   \n",
       "4                                 NaN                              NaN   \n",
       "...                               ...                              ...   \n",
       "5495                              NaN                              NaN   \n",
       "5496                              NaN                              NaN   \n",
       "5497                              NaN                              NaN   \n",
       "5498                              NaN                              NaN   \n",
       "5499                              NaN                              NaN   \n",
       "\n",
       "      comments_channel_external_ts_diff_sec  \n",
       "0                                       NaN  \n",
       "1                                       NaN  \n",
       "2                                       NaN  \n",
       "3                                       0.0  \n",
       "4                                       NaN  \n",
       "...                                     ...  \n",
       "5495                                    NaN  \n",
       "5496                                    NaN  \n",
       "5497                                    NaN  \n",
       "5498                                    NaN  \n",
       "5499                                    NaN  \n",
       "\n",
       "[5500 rows x 32 columns]"
      ],
      "text/html": [
       "<div>\n",
       "<style scoped>\n",
       "    .dataframe tbody tr th:only-of-type {\n",
       "        vertical-align: middle;\n",
       "    }\n",
       "\n",
       "    .dataframe tbody tr th {\n",
       "        vertical-align: top;\n",
       "    }\n",
       "\n",
       "    .dataframe thead th {\n",
       "        text-align: right;\n",
       "    }\n",
       "</style>\n",
       "<table border=\"1\" class=\"dataframe\">\n",
       "  <thead>\n",
       "    <tr style=\"text-align: right;\">\n",
       "      <th></th>\n",
       "      <th>channel_id</th>\n",
       "      <th>channel_name</th>\n",
       "      <th>channel_title</th>\n",
       "      <th>channel_subscribers</th>\n",
       "      <th>channel_segment</th>\n",
       "      <th>post_id</th>\n",
       "      <th>post_preview</th>\n",
       "      <th>post_views</th>\n",
       "      <th>post_forwards</th>\n",
       "      <th>post_replies</th>\n",
       "      <th>...</th>\n",
       "      <th>comments_channel_ts_max</th>\n",
       "      <th>comments_channel_ts_diff_sec</th>\n",
       "      <th>comments_channel_internal</th>\n",
       "      <th>comments_channel_internal_ts_min</th>\n",
       "      <th>comments_channel_internal_ts_max</th>\n",
       "      <th>comments_channel_internal_ts_diff_sec</th>\n",
       "      <th>comments_channel_external</th>\n",
       "      <th>comments_channel_external_ts_min</th>\n",
       "      <th>comments_channel_external_ts_max</th>\n",
       "      <th>comments_channel_external_ts_diff_sec</th>\n",
       "    </tr>\n",
       "  </thead>\n",
       "  <tbody>\n",
       "    <tr>\n",
       "      <th>0</th>\n",
       "      <td>1178238337</td>\n",
       "      <td>boris_again</td>\n",
       "      <td>Борис опять</td>\n",
       "      <td>15111</td>\n",
       "      <td>5_large</td>\n",
       "      <td>3327</td>\n",
       "      <td>Адам Кадыров получил новую награду: test of ti...</td>\n",
       "      <td>13514</td>\n",
       "      <td>102</td>\n",
       "      <td>0</td>\n",
       "      <td>...</td>\n",
       "      <td>NaN</td>\n",
       "      <td>NaN</td>\n",
       "      <td>NaN</td>\n",
       "      <td>NaN</td>\n",
       "      <td>NaN</td>\n",
       "      <td>NaN</td>\n",
       "      <td>NaN</td>\n",
       "      <td>NaN</td>\n",
       "      <td>NaN</td>\n",
       "      <td>NaN</td>\n",
       "    </tr>\n",
       "    <tr>\n",
       "      <th>1</th>\n",
       "      <td>1178238337</td>\n",
       "      <td>boris_again</td>\n",
       "      <td>Борис опять</td>\n",
       "      <td>15111</td>\n",
       "      <td>5_large</td>\n",
       "      <td>3328</td>\n",
       "      <td>Papers with code закрыли :(\\n\\nhttps://papersw...</td>\n",
       "      <td>5363</td>\n",
       "      <td>72</td>\n",
       "      <td>5</td>\n",
       "      <td>...</td>\n",
       "      <td>NaN</td>\n",
       "      <td>NaN</td>\n",
       "      <td>0.0</td>\n",
       "      <td>NaN</td>\n",
       "      <td>NaN</td>\n",
       "      <td>NaN</td>\n",
       "      <td>0.0</td>\n",
       "      <td>NaN</td>\n",
       "      <td>NaN</td>\n",
       "      <td>NaN</td>\n",
       "    </tr>\n",
       "    <tr>\n",
       "      <th>2</th>\n",
       "      <td>1178238337</td>\n",
       "      <td>boris_again</td>\n",
       "      <td>Борис опять</td>\n",
       "      <td>15111</td>\n",
       "      <td>5_large</td>\n",
       "      <td>3329</td>\n",
       "      <td>🚀 Уважаемые коллеги,  кому интересна математик...</td>\n",
       "      <td>4767</td>\n",
       "      <td>59</td>\n",
       "      <td>0</td>\n",
       "      <td>...</td>\n",
       "      <td>NaN</td>\n",
       "      <td>NaN</td>\n",
       "      <td>NaN</td>\n",
       "      <td>NaN</td>\n",
       "      <td>NaN</td>\n",
       "      <td>NaN</td>\n",
       "      <td>NaN</td>\n",
       "      <td>NaN</td>\n",
       "      <td>NaN</td>\n",
       "      <td>NaN</td>\n",
       "    </tr>\n",
       "    <tr>\n",
       "      <th>3</th>\n",
       "      <td>1178238337</td>\n",
       "      <td>boris_again</td>\n",
       "      <td>Борис опять</td>\n",
       "      <td>15111</td>\n",
       "      <td>5_large</td>\n",
       "      <td>3330</td>\n",
       "      <td>**Gemini 2.5 Flash Lite\\n\\n**Пару дней назад [...</td>\n",
       "      <td>5088</td>\n",
       "      <td>39</td>\n",
       "      <td>1</td>\n",
       "      <td>...</td>\n",
       "      <td>2025-07-26 11:36:09.000000</td>\n",
       "      <td>0.0</td>\n",
       "      <td>0.0</td>\n",
       "      <td>NaN</td>\n",
       "      <td>NaN</td>\n",
       "      <td>NaN</td>\n",
       "      <td>1.0</td>\n",
       "      <td>2025-07-26 11:36:09.000000</td>\n",
       "      <td>2025-07-26 11:36:09.000000</td>\n",
       "      <td>0.0</td>\n",
       "    </tr>\n",
       "    <tr>\n",
       "      <th>4</th>\n",
       "      <td>1178238337</td>\n",
       "      <td>boris_again</td>\n",
       "      <td>Борис опять</td>\n",
       "      <td>15111</td>\n",
       "      <td>5_large</td>\n",
       "      <td>3331</td>\n",
       "      <td>А вы тоже видите в этом здании младшего брата ...</td>\n",
       "      <td>5897</td>\n",
       "      <td>27</td>\n",
       "      <td>8</td>\n",
       "      <td>...</td>\n",
       "      <td>2025-07-26 11:47:27.000000</td>\n",
       "      <td>203.0</td>\n",
       "      <td>2.0</td>\n",
       "      <td>2025-07-26 11:44:04.000000</td>\n",
       "      <td>2025-07-26 11:47:27.000000</td>\n",
       "      <td>203.0</td>\n",
       "      <td>0.0</td>\n",
       "      <td>NaN</td>\n",
       "      <td>NaN</td>\n",
       "      <td>NaN</td>\n",
       "    </tr>\n",
       "    <tr>\n",
       "      <th>...</th>\n",
       "      <td>...</td>\n",
       "      <td>...</td>\n",
       "      <td>...</td>\n",
       "      <td>...</td>\n",
       "      <td>...</td>\n",
       "      <td>...</td>\n",
       "      <td>...</td>\n",
       "      <td>...</td>\n",
       "      <td>...</td>\n",
       "      <td>...</td>\n",
       "      <td>...</td>\n",
       "      <td>...</td>\n",
       "      <td>...</td>\n",
       "      <td>...</td>\n",
       "      <td>...</td>\n",
       "      <td>...</td>\n",
       "      <td>...</td>\n",
       "      <td>...</td>\n",
       "      <td>...</td>\n",
       "      <td>...</td>\n",
       "      <td>...</td>\n",
       "    </tr>\n",
       "    <tr>\n",
       "      <th>5495</th>\n",
       "      <td>2864348643</td>\n",
       "      <td>davidzagorski</td>\n",
       "      <td>Загорски, работай! [Данные и Проекты]🚀</td>\n",
       "      <td>16</td>\n",
       "      <td>1_lover_small</td>\n",
       "      <td>19</td>\n",
       "      <td>Надо и мемов добавлять в разнообразие.\\nПомню ...</td>\n",
       "      <td>96</td>\n",
       "      <td>0</td>\n",
       "      <td>0</td>\n",
       "      <td>...</td>\n",
       "      <td>NaN</td>\n",
       "      <td>NaN</td>\n",
       "      <td>NaN</td>\n",
       "      <td>NaN</td>\n",
       "      <td>NaN</td>\n",
       "      <td>NaN</td>\n",
       "      <td>NaN</td>\n",
       "      <td>NaN</td>\n",
       "      <td>NaN</td>\n",
       "      <td>NaN</td>\n",
       "    </tr>\n",
       "    <tr>\n",
       "      <th>5496</th>\n",
       "      <td>2864348643</td>\n",
       "      <td>davidzagorski</td>\n",
       "      <td>Загорски, работай! [Данные и Проекты]🚀</td>\n",
       "      <td>16</td>\n",
       "      <td>1_lover_small</td>\n",
       "      <td>20</td>\n",
       "      <td>В прекрасном Karpov.Courses поделились постом,...</td>\n",
       "      <td>63</td>\n",
       "      <td>3</td>\n",
       "      <td>0</td>\n",
       "      <td>...</td>\n",
       "      <td>NaN</td>\n",
       "      <td>NaN</td>\n",
       "      <td>NaN</td>\n",
       "      <td>NaN</td>\n",
       "      <td>NaN</td>\n",
       "      <td>NaN</td>\n",
       "      <td>NaN</td>\n",
       "      <td>NaN</td>\n",
       "      <td>NaN</td>\n",
       "      <td>NaN</td>\n",
       "    </tr>\n",
       "    <tr>\n",
       "      <th>5497</th>\n",
       "      <td>2864348643</td>\n",
       "      <td>davidzagorski</td>\n",
       "      <td>Загорски, работай! [Данные и Проекты]🚀</td>\n",
       "      <td>16</td>\n",
       "      <td>1_lover_small</td>\n",
       "      <td>21</td>\n",
       "      <td>Стараюсь влево и вправо не уходить, но иногда ...</td>\n",
       "      <td>44</td>\n",
       "      <td>1</td>\n",
       "      <td>0</td>\n",
       "      <td>...</td>\n",
       "      <td>NaN</td>\n",
       "      <td>NaN</td>\n",
       "      <td>NaN</td>\n",
       "      <td>NaN</td>\n",
       "      <td>NaN</td>\n",
       "      <td>NaN</td>\n",
       "      <td>NaN</td>\n",
       "      <td>NaN</td>\n",
       "      <td>NaN</td>\n",
       "      <td>NaN</td>\n",
       "    </tr>\n",
       "    <tr>\n",
       "      <th>5498</th>\n",
       "      <td>2864348643</td>\n",
       "      <td>davidzagorski</td>\n",
       "      <td>Загорски, работай! [Данные и Проекты]🚀</td>\n",
       "      <td>16</td>\n",
       "      <td>1_lover_small</td>\n",
       "      <td>22</td>\n",
       "      <td>Решил, что хочется подтянуть свой уровень влад...</td>\n",
       "      <td>48</td>\n",
       "      <td>4</td>\n",
       "      <td>0</td>\n",
       "      <td>...</td>\n",
       "      <td>NaN</td>\n",
       "      <td>NaN</td>\n",
       "      <td>NaN</td>\n",
       "      <td>NaN</td>\n",
       "      <td>NaN</td>\n",
       "      <td>NaN</td>\n",
       "      <td>NaN</td>\n",
       "      <td>NaN</td>\n",
       "      <td>NaN</td>\n",
       "      <td>NaN</td>\n",
       "    </tr>\n",
       "    <tr>\n",
       "      <th>5499</th>\n",
       "      <td>2864348643</td>\n",
       "      <td>davidzagorski</td>\n",
       "      <td>Загорски, работай! [Данные и Проекты]🚀</td>\n",
       "      <td>16</td>\n",
       "      <td>1_lover_small</td>\n",
       "      <td>23</td>\n",
       "      <td>Пропадал и не писал! (1/2)\\nОднако всё это вре...</td>\n",
       "      <td>15</td>\n",
       "      <td>0</td>\n",
       "      <td>3</td>\n",
       "      <td>...</td>\n",
       "      <td>NaN</td>\n",
       "      <td>NaN</td>\n",
       "      <td>NaN</td>\n",
       "      <td>NaN</td>\n",
       "      <td>NaN</td>\n",
       "      <td>NaN</td>\n",
       "      <td>NaN</td>\n",
       "      <td>NaN</td>\n",
       "      <td>NaN</td>\n",
       "      <td>NaN</td>\n",
       "    </tr>\n",
       "  </tbody>\n",
       "</table>\n",
       "<p>5500 rows × 32 columns</p>\n",
       "</div>"
      ]
     },
     "execution_count": 148,
     "metadata": {},
     "output_type": "execute_result"
    }
   ],
   "execution_count": 148
  },
  {
   "metadata": {},
   "cell_type": "code",
   "outputs": [],
   "execution_count": null,
   "source": "",
   "id": "6d2daac93c3ff806"
  },
  {
   "metadata": {},
   "cell_type": "code",
   "outputs": [],
   "execution_count": null,
   "source": "",
   "id": "a9fcef6a8a89bf46"
  }
 ],
 "metadata": {
  "kernelspec": {
   "display_name": "Python 3",
   "language": "python",
   "name": "python3"
  },
  "language_info": {
   "codemirror_mode": {
    "name": "ipython",
    "version": 2
   },
   "file_extension": ".py",
   "mimetype": "text/x-python",
   "name": "python",
   "nbconvert_exporter": "python",
   "pygments_lexer": "ipython2",
   "version": "2.7.6"
  }
 },
 "nbformat": 4,
 "nbformat_minor": 5
}
